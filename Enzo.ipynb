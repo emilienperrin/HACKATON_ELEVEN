{
 "cells": [
  {
   "cell_type": "code",
   "execution_count": 2,
   "metadata": {},
   "outputs": [
    {
     "name": "stderr",
     "output_type": "stream",
     "text": [
      "C:\\Users\\enzok\\AppData\\Local\\Temp\\ipykernel_48084\\2937650959.py:1: DeprecationWarning: \n",
      "Pyarrow will become a required dependency of pandas in the next major release of pandas (pandas 3.0),\n",
      "(to allow more performant data types, such as the Arrow string type, and better interoperability with other libraries)\n",
      "but was not found to be installed on your system.\n",
      "If this would cause problems for you,\n",
      "please provide us feedback at https://github.com/pandas-dev/pandas/issues/54466\n",
      "        \n",
      "  import pandas as pd\n"
     ]
    }
   ],
   "source": [
    "import pandas as pd\n",
    "import numpy as np"
   ]
  },
  {
   "cell_type": "code",
   "execution_count": 3,
   "metadata": {},
   "outputs": [],
   "source": [
    "df_train = pd.read_csv('for_students/waiting_times_train.csv')"
   ]
  },
  {
   "cell_type": "code",
   "execution_count": 9,
   "metadata": {},
   "outputs": [
    {
     "name": "stdout",
     "output_type": "stream",
     "text": [
      "          0      1      2      3      4      5      6      7      8      9   \\\n",
      "0      False  False  False  False  False  False  False  False  False  False   \n",
      "1      False  False  False  False  False  False  False   True  False  False   \n",
      "2      False  False  False  False  False  False  False  False  False  False   \n",
      "3      False  False  False  False  False  False  False  False  False  False   \n",
      "4      False  False  False  False  False  False   True  False  False  False   \n",
      "...      ...    ...    ...    ...    ...    ...    ...    ...    ...    ...   \n",
      "37013  False  False  False  False  False  False  False  False  False  False   \n",
      "37014  False  False  False  False  False  False  False  False  False  False   \n",
      "37015  False  False  False  False  False  False  False  False  False  False   \n",
      "37016  False  False  False  False  False  False  False  False  False  False   \n",
      "37017  False  False  False  False  False   True  False  False  False  False   \n",
      "\n",
      "       ...     38     39     40     41     42     43     44     45     46  \\\n",
      "0      ...  False  False  False  False  False  False  False  False  False   \n",
      "1      ...  False  False  False  False  False  False  False  False  False   \n",
      "2      ...  False  False  False  False  False  False  False  False  False   \n",
      "3      ...  False  False  False  False  False   True  False  False  False   \n",
      "4      ...  False  False  False  False  False  False  False  False  False   \n",
      "...    ...    ...    ...    ...    ...    ...    ...    ...    ...    ...   \n",
      "37013  ...  False  False  False  False  False  False  False  False  False   \n",
      "37014  ...  False  False  False  False  False  False  False  False  False   \n",
      "37015  ...  False  False  False  False  False   True  False  False  False   \n",
      "37016  ...  False  False  False  False  False  False  False  False  False   \n",
      "37017  ...  False  False  False  False  False  False  False  False  False   \n",
      "\n",
      "          47  \n",
      "0      False  \n",
      "1      False  \n",
      "2      False  \n",
      "3      False  \n",
      "4      False  \n",
      "...      ...  \n",
      "37013  False  \n",
      "37014  False  \n",
      "37015  False  \n",
      "37016  False  \n",
      "37017  False  \n",
      "\n",
      "[37018 rows x 48 columns]\n"
     ]
    }
   ],
   "source": [
    "date_time = df_train[\"DATETIME\"]\n",
    "\n",
    "from datetime import datetime\n",
    "\n",
    "# Fonction pour convertir la date en une liste avec le jour de la semaine, le mois et l'année\n",
    "def convert_date(date_str):\n",
    "    date_obj = datetime.strptime(date_str, '%Y-%m-%d')\n",
    "    jour_semaine = date_obj.strftime('%A')  # Jour de la semaine (nom complet)\n",
    "    mois = date_obj.strftime('%B')  # Mois (nom complet)\n",
    "    annee = date_obj.year  # Année\n",
    "    return [jour_semaine, mois, annee]\n",
    "\n",
    "times = []\n",
    "years = []\n",
    "months = []\n",
    "days_week = []\n",
    "\n",
    "for date in date_time:\n",
    "    day, month, year = convert_date(date[:10])\n",
    "    years.append(year)\n",
    "    months.append(month)\n",
    "    days_week.append(day)\n",
    "    time = date[11:16]\n",
    "    times.append(int(time[:2]) * 4 + int(time[3:5]) // 15)\n",
    "\n",
    "times = np.array(times) - np.min(times)\n",
    "\n",
    "encoded_years = pd.get_dummies(years)\n",
    "encoded_months = pd.get_dummies(months)\n",
    "encoded_days_week = pd.get_dummies(days_week)\n",
    "encoded_times = pd.get_dummies(times)\n",
    "\n",
    "print(encoded_days_week)\n",
    "print(encoded_times)\n",
    "print(encoded_years)\n",
    "print(encoded_months)"
   ]
  }
 ],
 "metadata": {
  "kernelspec": {
   "display_name": "Python 3",
   "language": "python",
   "name": "python3"
  },
  "language_info": {
   "codemirror_mode": {
    "name": "ipython",
    "version": 3
   },
   "file_extension": ".py",
   "mimetype": "text/x-python",
   "name": "python",
   "nbconvert_exporter": "python",
   "pygments_lexer": "ipython3",
   "version": "3.11.5"
  }
 },
 "nbformat": 4,
 "nbformat_minor": 2
}
