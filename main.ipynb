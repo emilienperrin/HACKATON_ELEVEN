{
 "cells": [
  {
   "cell_type": "code",
   "execution_count": 2,
   "metadata": {},
   "outputs": [],
   "source": [
    "import pandas as pd\n",
    "import numpy as np\n",
    "from sklearn import preprocessing\n",
    "import torch\n",
    "import torch.nn as nn\n",
    "import torch.nn.functional as F\n"
   ]
  },
  {
   "cell_type": "code",
   "execution_count": 9,
   "metadata": {},
   "outputs": [
    {
     "name": "stdout",
     "output_type": "stream",
     "text": [
      "              DATETIME ENTITY_DESCRIPTION_SHORT  ADJUST_CAPACITY  DOWNTIME  \\\n",
      "0  2022-02-05 11:45:00               Water Ride           247.00         0   \n",
      "1  2019-02-24 10:45:00               Water Ride           247.00         0   \n",
      "2  2021-07-17 15:45:00              Pirate Ship           280.50         0   \n",
      "3  2022-04-03 19:45:00              Pirate Ship           230.35         0   \n",
      "4  2021-10-20 10:30:00              Pirate Ship           153.00         0   \n",
      "\n",
      "   CURRENT_WAIT_TIME  TIME_TO_PARADE_1  TIME_TO_PARADE_2  TIME_TO_NIGHT_SHOW  \\\n",
      "0                 20               NaN               NaN                 NaN   \n",
      "1                 30             375.0               NaN               495.0   \n",
      "2                 35               NaN               NaN                 NaN   \n",
      "3                 15            -135.0               NaN               195.0   \n",
      "4                 15               NaN               NaN                 NaN   \n",
      "\n",
      "   WAIT_TIME_IN_2H  \n",
      "0             30.0  \n",
      "1             25.0  \n",
      "2             35.0  \n",
      "3             10.0  \n",
      "4             10.0  \n",
      "0    0\n",
      "1    0\n",
      "2    0\n",
      "3    0\n",
      "4    0\n",
      "Name: DOWNTIME, dtype: int64\n"
     ]
    }
   ],
   "source": [
    "df_train = pd.read_csv('for_students/waiting_times_train.csv')\n",
    "print(df_train.head())\n"
   ]
  },
  {
   "cell_type": "code",
   "execution_count": 30,
   "metadata": {},
   "outputs": [
    {
     "name": "stdout",
     "output_type": "stream",
     "text": [
      "[-0.16858383 -0.16858383 -0.16858383 ... -0.16858383 -0.16858383\n",
      " -0.16858383]\n",
      "0             NaN\n",
      "1        1.045710\n",
      "2             NaN\n",
      "3       -1.580494\n",
      "4             NaN\n",
      "           ...   \n",
      "37013   -0.267392\n",
      "37014    0.427780\n",
      "37015   -1.734976\n",
      "37016    0.350538\n",
      "37017         NaN\n",
      "Name: TIME_TO_PARADE_1, Length: 37018, dtype: float64\n",
      "0             NaN\n",
      "1             NaN\n",
      "2             NaN\n",
      "3             NaN\n",
      "4             NaN\n",
      "           ...   \n",
      "37013         NaN\n",
      "37014    0.388351\n",
      "37015   -1.838470\n",
      "37016         NaN\n",
      "37017         NaN\n",
      "Name: TIME_TO_PARADE_2, Length: 37018, dtype: float64\n",
      "0             NaN\n",
      "1        0.341594\n",
      "2             NaN\n",
      "3       -1.133824\n",
      "4             NaN\n",
      "           ...   \n",
      "37013    0.120281\n",
      "37014   -0.101031\n",
      "37015   -1.428907\n",
      "37016   -0.027261\n",
      "37017         NaN\n",
      "Name: TIME_TO_NIGHT_SHOW, Length: 37018, dtype: float64\n",
      "[-0.66063879 -0.66063879 -0.52790748 ...  1.35608465  1.35608465\n",
      " -1.03307887]\n",
      "       Flying Coaster  Pirate Ship  Water Ride\n",
      "0               False        False        True\n",
      "1               False        False        True\n",
      "2               False         True       False\n",
      "3               False         True       False\n",
      "4               False         True       False\n",
      "...               ...          ...         ...\n",
      "37013            True        False       False\n",
      "37014           False         True       False\n",
      "37015            True        False       False\n",
      "37016            True        False       False\n",
      "37017           False         True       False\n",
      "\n",
      "[37018 rows x 3 columns]\n"
     ]
    }
   ],
   "source": [
    "df_dowtown = df_train['DOWNTIME']\n",
    "normalized_df_downtown=np.array((df_dowtown-df_dowtown.mean())/df_dowtown.std())\n",
    "print(normalized_df_downtown)\n",
    "\n",
    "df_time_to_parade_1 = df_train['TIME_TO_PARADE_1']\n",
    "normalized_df_time_to_parade_1=(df_time_to_parade_1-df_time_to_parade_1.mean())/df_time_to_parade_1.std()\n",
    "print(normalized_df_time_to_parade_1)\n",
    "\n",
    "df_time_to_parade_2 = df_train['TIME_TO_PARADE_2']\n",
    "normalized_df_time_to_parade_2=(df_time_to_parade_2-df_time_to_parade_2.mean())/df_time_to_parade_2.std()\n",
    "print(normalized_df_time_to_parade_2)\n",
    "\n",
    "df_time_to_nshow = df_train['TIME_TO_NIGHT_SHOW']\n",
    "normalized_df_time_to_nshow=(df_time_to_nshow-df_time_to_nshow.mean())/df_time_to_nshow.std()\n",
    "print(normalized_df_time_to_nshow)\n",
    "\n",
    "df_adjust_capacity = df_train['ADJUST_CAPACITY']\n",
    "normalized_df_adjust_capacity=np.array((df_adjust_capacity-df_adjust_capacity.mean())/df_adjust_capacity.std())\n",
    "print(normalized_df_adjust_capacity)\n",
    "\n",
    "df_one_hot_attraction = pd.get_dummies(df_train['ENTITY_DESCRIPTION_SHORT'])\n",
    "print(df_one_hot_attraction)\n",
    "\n"
   ]
  }
 ],
 "metadata": {
  "kernelspec": {
   "display_name": "Python 3",
   "language": "python",
   "name": "python3"
  },
  "language_info": {
   "codemirror_mode": {
    "name": "ipython",
    "version": 3
   },
   "file_extension": ".py",
   "mimetype": "text/x-python",
   "name": "python",
   "nbconvert_exporter": "python",
   "pygments_lexer": "ipython3",
   "version": "3.11.7"
  }
 },
 "nbformat": 4,
 "nbformat_minor": 2
}
