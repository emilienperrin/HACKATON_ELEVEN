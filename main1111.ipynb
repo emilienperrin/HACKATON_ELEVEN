{
  "cells": [
    {
      "cell_type": "code",
      "execution_count": 1,
      "metadata": {
        "id": "bWhdgtMU11IH"
      },
      "outputs": [],
      "source": [
        "import pandas as pd\n",
        "import numpy as np\n",
        "from sklearn import preprocessing\n",
        "from datetime import datetime\n",
        "import torch\n",
        "import torch.nn as nn\n",
        "import torch.nn.functional as F\n",
        "import torch.optim as optim\n",
        "\n",
        "from sklearn.model_selection import train_test_split"
      ]
    },
    {
      "cell_type": "code",
      "execution_count": 2,
      "metadata": {
        "colab": {
          "base_uri": "https://localhost:8080/"
        },
        "id": "TdHe8e0621xG",
        "outputId": "bb2ad418-f80a-4ce0-c8a4-ba0bd85acc9e"
      },
      "outputs": [
        {
          "name": "stdout",
          "output_type": "stream",
          "text": [
            "using device: cpu\n"
          ]
        }
      ],
      "source": [
        "USE_GPU = True\n",
        "dtype = torch.float32 # we will be using float throughout this tutorial\n",
        "device = torch.device('cuda') if (USE_GPU and torch.cuda.is_available()) else torch.device('cpu')\n",
        "\n",
        "# Constant to control how frequently we print train loss\n",
        "print_every = 100\n",
        "print('using device:', device)"
      ]
    },
    {
      "cell_type": "code",
      "execution_count": 3,
      "metadata": {
        "colab": {
          "base_uri": "https://localhost:8080/"
        },
        "id": "2xtwx3lR3Oh-",
        "outputId": "cc74bf02-1a45-46cb-d069-bccad8300e56"
      },
      "outputs": [
        {
          "name": "stdout",
          "output_type": "stream",
          "text": [
            "Mounted at /content/gdrive\n",
            "/content/gdrive/My Drive/2A/HACKATHON\n"
          ]
        }
      ],
      "source": [
        "try:\n",
        "  from google.colab import drive\n",
        "  drive.mount('/content/gdrive', force_remount=True)\n",
        "\n",
        "  FOLDERNAME = '2A/HACKATHON'\n",
        "  %cd /content/gdrive/My\\ Drive/$FOLDERNAME\n",
        "except ImportError:\n",
        "  pass"
      ]
    },
    {
      "cell_type": "code",
      "execution_count": 4,
      "metadata": {
        "colab": {
          "base_uri": "https://localhost:8080/",
          "height": 35
        },
        "id": "E1_Cr77T3Xr1",
        "outputId": "f2af9ca3-11ae-4658-b6f9-383fe266df52"
      },
      "outputs": [
        {
          "data": {
            "application/vnd.google.colaboratory.intrinsic+json": {
              "type": "string"
            },
            "text/plain": [
              "'/content/gdrive/My Drive/2A/HACKATHON'"
            ]
          },
          "execution_count": 4,
          "metadata": {},
          "output_type": "execute_result"
        }
      ],
      "source": [
        "%pwd"
      ]
    },
    {
      "cell_type": "code",
      "execution_count": 3,
      "metadata": {
        "id": "72P9ilnw2pvS"
      },
      "outputs": [],
      "source": [
        "df_train = pd.read_csv('processed_waiting_times_train.csv')"
      ]
    },
    {
      "cell_type": "code",
      "execution_count": 4,
      "metadata": {
        "colab": {
          "base_uri": "https://localhost:8080/"
        },
        "id": "2L28LCbW4Riw",
        "outputId": "ece217f7-fbe5-474c-e560-d2d8837650c7"
      },
      "outputs": [
        {
          "name": "stdout",
          "output_type": "stream",
          "text": [
            "32\n"
          ]
        }
      ],
      "source": [
        "out_features = max(df_train[\"WAIT_TIME_IN_2H\"]) + 1\n",
        "print(out_features)"
      ]
    },
    {
      "cell_type": "code",
      "execution_count": 5,
      "metadata": {
        "colab": {
          "base_uri": "https://localhost:8080/"
        },
        "id": "mGhFy__h5J_v",
        "outputId": "af280faf-6a78-400c-910c-47a812d040fb"
      },
      "outputs": [
        {
          "name": "stdout",
          "output_type": "stream",
          "text": [
            "0        6\n",
            "1        5\n",
            "2        7\n",
            "3        2\n",
            "4        2\n",
            "        ..\n",
            "37013    2\n",
            "37014    4\n",
            "37015    2\n",
            "37016    9\n",
            "37017    4\n",
            "Name: WAIT_TIME_IN_2H, Length: 37018, dtype: int64\n",
            "       ADJUST_CAPACITY  DOWNTIME  CURRENT_WAIT_TIME  TIME_TO_PARADE_1  \\\n",
            "0            -0.660639 -0.168584          -0.240147         -1.244963   \n",
            "1            -0.660639 -0.168584           0.468341          1.069542   \n",
            "2            -0.527907 -0.168584           0.822585         -1.244963   \n",
            "3            -0.726608 -0.168584          -0.594390          0.290401   \n",
            "4            -1.033079 -0.168584          -0.594390         -1.244963   \n",
            "...                ...       ...                ...               ...   \n",
            "37013         1.356085 -0.168584           0.468341          0.679971   \n",
            "37014        -0.527907 -0.168584          -0.594390          0.886214   \n",
            "37015         1.356085 -0.168584          -0.594390          0.244569   \n",
            "37016         1.356085 -0.168584           0.468341          0.863299   \n",
            "37017        -1.033079 -0.168584          -0.240147         -1.244963   \n",
            "\n",
            "       TIME_TO_PARADE_2  TIME_TO_NIGHT_SHOW       PC1       PC2       PC3  \\\n",
            "0             -0.384180           -1.264984 -1.703404 -0.561189 -0.521895   \n",
            "1             -0.384180            0.838691 -0.983224 -3.370968  1.688497   \n",
            "2             -0.384180           -1.264984  1.971007  0.491093 -0.446060   \n",
            "3             -0.384180            0.548529 -1.153047 -1.460163  0.761943   \n",
            "4             -0.384180           -1.264984  0.644351  2.261365  0.670276   \n",
            "...                 ...                 ...       ...       ...       ...   \n",
            "37013         -0.384180            0.795166  2.474459 -0.242590 -1.250092   \n",
            "37014          2.396039            0.751642  1.451294 -0.740837 -0.309993   \n",
            "37015         -0.418504            0.490496 -3.211167 -0.929818 -1.205296   \n",
            "37016         -0.384180            0.766150  0.588498  2.259265  2.034889   \n",
            "37017         -0.384180           -1.264984 -0.546490  1.411215  1.077576   \n",
            "\n",
            "            PC4  ...     41     42     43     44     45     46     47  \\\n",
            "0      0.099553  ...  False  False  False  False  False  False  False   \n",
            "1      0.822912  ...  False  False  False  False  False  False  False   \n",
            "2     -1.375623  ...  False  False  False  False  False  False  False   \n",
            "3      0.267117  ...  False  False   True  False  False  False  False   \n",
            "4      0.539488  ...  False  False  False  False  False  False  False   \n",
            "...         ...  ...    ...    ...    ...    ...    ...    ...    ...   \n",
            "37013  0.433454  ...  False  False  False  False  False  False  False   \n",
            "37014 -0.850829  ...  False  False  False  False  False  False  False   \n",
            "37015 -0.270431  ...  False  False   True  False  False  False  False   \n",
            "37016 -0.714293  ...  False  False  False  False  False  False  False   \n",
            "37017 -0.678336  ...  False  False  False  False  False  False  False   \n",
            "\n",
            "       Flying Coaster  Pirate Ship  Water Ride  \n",
            "0               False        False        True  \n",
            "1               False        False        True  \n",
            "2               False         True       False  \n",
            "3               False         True       False  \n",
            "4               False         True       False  \n",
            "...               ...          ...         ...  \n",
            "37013            True        False       False  \n",
            "37014           False         True       False  \n",
            "37015            True        False       False  \n",
            "37016            True        False       False  \n",
            "37017           False         True       False  \n",
            "\n",
            "[37018 rows x 87 columns]\n"
          ]
        }
      ],
      "source": [
        "y = df_train[\"WAIT_TIME_IN_2H\"]\n",
        "print(y)\n",
        "\n",
        "x = df_train\n",
        "x.drop([\"WAIT_TIME_IN_2H\"], axis=1, inplace=True)\n",
        "print(x)"
      ]
    },
    {
      "cell_type": "code",
      "execution_count": 6,
      "metadata": {
        "colab": {
          "base_uri": "https://localhost:8080/"
        },
        "id": "r1YrZF6M9hlw",
        "outputId": "8e58e5ae-9356-4970-8c2b-cf27f4912964"
      },
      "outputs": [
        {
          "name": "stdout",
          "output_type": "stream",
          "text": [
            "87\n"
          ]
        }
      ],
      "source": [
        "in_features = len(x.columns)\n",
        "print(in_features)"
      ]
    },
    {
      "cell_type": "code",
      "execution_count": 7,
      "metadata": {
        "id": "nzKKu29x4waD"
      },
      "outputs": [],
      "source": [
        "x_train, x_test, y_train, y_test = train_test_split(x, y, test_size=0.01, random_state=0)"
      ]
    },
    {
      "cell_type": "code",
      "execution_count": 8,
      "metadata": {
        "id": "HAhM_e1d7eGt"
      },
      "outputs": [],
      "source": [
        "x_train = x_train.astype(float)\n",
        "x_test = x_test.astype(float)\n",
        "y_train = y_train.astype(int)\n",
        "y_test = y_test.astype(int)"
      ]
    },
    {
      "cell_type": "code",
      "execution_count": 9,
      "metadata": {
        "id": "LHup4Yqk8zB9"
      },
      "outputs": [],
      "source": [
        "x_train = torch.tensor(x_train.values, dtype=torch.float64, device=device)\n",
        "x_test = torch.tensor(x_test.values, dtype=torch.float64, device=device)\n",
        "y_train = torch.tensor(y_train.values, dtype=torch.int64, device=device)\n",
        "y_test = torch.tensor(y_test.values, dtype=torch.int64, device=device)"
      ]
    },
    {
      "cell_type": "code",
      "execution_count": 10,
      "metadata": {
        "colab": {
          "base_uri": "https://localhost:8080/"
        },
        "id": "SJ2zSQy49mmn",
        "outputId": "029d20e8-e098-45b5-8946-bf489d87a777"
      },
      "outputs": [
        {
          "name": "stdout",
          "output_type": "stream",
          "text": [
            "torch.Size([36647])\n"
          ]
        }
      ],
      "source": [
        "y_train_one_hot = F.one_hot(y_train, out_features)\n",
        "#y_test = F.one_hot(y_test, out_features)\n",
        "print(y_train.shape)"
      ]
    },
    {
      "cell_type": "code",
      "execution_count": 12,
      "metadata": {
        "colab": {
          "base_uri": "https://localhost:8080/"
        },
        "id": "AQZJtbcW4V9q",
        "outputId": "a1a2149e-1f56-43cb-93fa-a83e574675eb"
      },
      "outputs": [
        {
          "name": "stdout",
          "output_type": "stream",
          "text": [
            "Epoch [1/40], Loss: 2.4475\n",
            "Epoch [2/40], Loss: 2.5781\n",
            "Epoch [3/40], Loss: 2.2514\n",
            "Epoch [4/40], Loss: 2.2292\n",
            "Epoch [5/40], Loss: 2.0337\n",
            "Epoch [6/40], Loss: 1.8483\n",
            "Epoch [7/40], Loss: 1.9571\n",
            "Epoch [8/40], Loss: 1.9098\n",
            "Epoch [9/40], Loss: 2.1676\n",
            "Epoch [10/40], Loss: 2.4238\n",
            "Epoch [11/40], Loss: 2.0765\n",
            "Epoch [12/40], Loss: 2.0424\n",
            "Epoch [13/40], Loss: 2.1812\n",
            "Epoch [14/40], Loss: 2.0702\n",
            "Epoch [15/40], Loss: 2.2272\n",
            "Epoch [16/40], Loss: 2.0210\n",
            "Epoch [17/40], Loss: 2.1954\n",
            "Epoch [18/40], Loss: 1.7422\n",
            "Epoch [19/40], Loss: 1.8608\n",
            "Epoch [20/40], Loss: 2.0615\n",
            "Epoch [21/40], Loss: 1.9745\n",
            "Epoch [22/40], Loss: 2.0695\n",
            "Epoch [23/40], Loss: 1.9387\n",
            "Epoch [24/40], Loss: 1.9982\n",
            "Epoch [25/40], Loss: 1.9013\n",
            "Epoch [26/40], Loss: 1.7959\n",
            "Epoch [27/40], Loss: 1.9123\n",
            "Epoch [28/40], Loss: 1.8166\n",
            "Epoch [29/40], Loss: 1.8556\n",
            "Epoch [30/40], Loss: 1.9516\n",
            "Epoch [31/40], Loss: 1.9035\n",
            "Epoch [32/40], Loss: 2.3007\n",
            "Epoch [33/40], Loss: 1.8543\n",
            "Epoch [34/40], Loss: 1.8859\n",
            "Epoch [35/40], Loss: 1.8466\n",
            "Epoch [36/40], Loss: 1.8497\n",
            "Epoch [37/40], Loss: 1.9524\n",
            "Epoch [38/40], Loss: 1.9525\n",
            "Epoch [39/40], Loss: 1.9747\n",
            "Epoch [40/40], Loss: 1.8292\n"
          ]
        }
      ],
      "source": [
        "from torch.utils.data import DataLoader, TensorDataset\n",
        "\n",
        "train_dataset = TensorDataset(x_train, y_train_one_hot)\n",
        "train_loader = DataLoader(train_dataset, batch_size=64, shuffle=True)\n",
        "\n",
        "class MyModel(nn.Module):\n",
        "    def __init__(self, in_features, out_features):\n",
        "        super(MyModel, self).__init__()\n",
        "        self.fc1 = nn.Linear(in_features, 256)\n",
        "        self.fc2 = nn.Linear(256, 512)\n",
        "        self.fc3 = nn.Linear(512, 1024)\n",
        "        self.fc4 = nn.Linear(1024, 128)\n",
        "        self.fc5 = nn.Linear(128, out_features)\n",
        "        self.relu = nn.ReLU()\n",
        "        self.batchnorm1 = nn.BatchNorm1d(256)\n",
        "        self.batchnorm2 = nn.BatchNorm1d(512)\n",
        "        self.batchnorm3 = nn.BatchNorm1d(1024)\n",
        "        self.batchnorm4 = nn.BatchNorm1d(128)\n",
        "        self.dropout = nn.Dropout(0.5)\n",
        "\n",
        "    def forward(self, x):\n",
        "        x = self.dropout(self.relu(self.batchnorm1(self.fc1(x))))\n",
        "        x = self.dropout(self.relu(self.batchnorm2(self.fc2(x))))\n",
        "        x = self.dropout(self.relu(self.batchnorm3(self.fc3(x))))\n",
        "        x = self.dropout(self.relu(self.batchnorm4(self.fc4(x))))\n",
        "        x = self.fc5(x)\n",
        "        return x\n",
        "\n",
        "def train_model(model, train_loader, criterion, optimizer, num_epochs):\n",
        "    model.train()\n",
        "    for epoch in range(num_epochs):\n",
        "        for inputs, targets in train_loader:\n",
        "            inputs = inputs.to(device=device, dtype=torch.float)\n",
        "            targets = targets.to(device=device, dtype=torch.float)\n",
        "            optimizer.zero_grad()\n",
        "            outputs = model(inputs)\n",
        "            loss = criterion(outputs, targets)\n",
        "            loss += 0.02 * torch.linalg.norm((torch.argmax(outputs, dim=1) - torch.argmax(targets, dim=1)).to(dtype=torch.float))\n",
        "            loss.backward()\n",
        "            optimizer.step()\n",
        "        print(f'Epoch [{epoch+1}/{num_epochs}], Loss: {loss.item():.4f}')\n",
        "\n",
        "# Utilisation de la classe MyModel\n",
        "model = MyModel(in_features, out_features)\n",
        "model.to(device=device)\n",
        "\n",
        "weight_decay = 0.01\n",
        "optimizer = optim.Adam(model.parameters(), lr=5e-4)\n",
        "criterion = nn.CrossEntropyLoss()\n",
        "\n",
        "train_model(model, train_loader, criterion, optimizer, num_epochs=40)"
      ]
    },
    {
      "cell_type": "code",
      "execution_count": 13,
      "metadata": {
        "id": "UMPgRu9z1Qg2"
      },
      "outputs": [],
      "source": [
        "from sklearn.svm import SVC\n",
        "\n",
        "class KernelSVM:\n",
        "    def __init__(self, kernel='rbf', C=2.0, gamma='scale'):\n",
        "        self.kernel = kernel\n",
        "        self.C = C\n",
        "        self.gamma = gamma\n",
        "        self.model = SVC(kernel=kernel, C=C, gamma=gamma)\n",
        "\n",
        "    def train(self, X_train, y_train):\n",
        "        X_train = X_train.detach().numpy()\n",
        "        self.model.fit(X_train, y_train)\n",
        "\n",
        "    def predict(self, X_test):\n",
        "        X_test = X_test.detach().numpy()\n",
        "        return self.model.predict(X_test)\n",
        "\n",
        "class Identity(nn.Module):\n",
        "    def __init__(self):\n",
        "        super().__init__()\n",
        "\n",
        "    def forward(self, x):\n",
        "        return x\n",
        "\n",
        "model.fc5 = Identity()\n",
        "model.eval()\n",
        "x_train = x_train.to(device=device, dtype=torch.float)\n",
        "x_train_bis = model(x_train)\n",
        "\n",
        "svm = KernelSVM()\n",
        "svm.train(x_train_bis, y_train)"
      ]
    },
    {
      "cell_type": "code",
      "execution_count": 14,
      "metadata": {
        "id": "FuXrWkd-E8hf"
      },
      "outputs": [],
      "source": [
        "from sklearn.ensemble import RandomForestClassifier\n",
        "\n",
        "class RandomForestClassifierWrapper:\n",
        "    def __init__(self, n_estimators=1000, max_depth=None):\n",
        "        self.n_estimators = n_estimators\n",
        "        self.max_depth = max_depth\n",
        "        self.model = RandomForestClassifier(n_estimators=n_estimators, max_depth=max_depth)\n",
        "\n",
        "    def train(self, X_train, y_train):\n",
        "        X_train = X_train.detach().numpy()\n",
        "        self.model.fit(X_train, y_train)\n",
        "\n",
        "    def predict(self, X_test):\n",
        "        X_test = X_test.detach().numpy()\n",
        "        return self.model.predict(X_test)\n",
        "\n",
        "class Identity(nn.Module):\n",
        "    def __init__(self):\n",
        "        super().__init__()\n",
        "\n",
        "    def forward(self, x):\n",
        "        return x\n",
        "\n",
        "model.fc5 = Identity()\n",
        "model.eval()\n",
        "x_train = x_train.to(device=device, dtype=torch.float)\n",
        "x_train_bis = model(x_train)\n",
        "\n",
        "random_forest = RandomForestClassifierWrapper()\n",
        "random_forest.train(x_train_bis, y_train)"
      ]
    },
    {
      "cell_type": "code",
      "execution_count": 15,
      "metadata": {
        "colab": {
          "base_uri": "https://localhost:8080/"
        },
        "id": "ScytLfLl_67E",
        "outputId": "454deb24-38c8-4ec7-d246-7d03083a8528"
      },
      "outputs": [
        {
          "name": "stdout",
          "output_type": "stream",
          "text": [
            "tensor([ 6,  8,  1,  5,  3,  5,  9,  1,  4, 10,  6,  6,  3,  4,  7,  1,  6,  4,\n",
            "         4,  1,  3,  5,  0,  1,  2,  6, 11,  1,  6,  3])\n",
            "tensor([ 7,  6,  1,  3,  3,  5,  9,  2,  5, 12,  5,  8,  3,  2,  3,  1,  4,  6,\n",
            "         4,  3,  4,  5,  3,  3,  3,  7, 11,  6,  7,  3])\n",
            "tensor(8.5467)\n",
            "tensor([ 25, 100,   0, 100,   0,   0,   0,  25,  25, 100,  25, 100,   0, 100,\n",
            "        400,   0, 100, 100,   0, 100,  25,   0, 225, 100,  25,  25,   0, 625,\n",
            "         25,   0, 100, 225,   0, 625, 400,   0,   0,   0,  25,   0])\n"
          ]
        }
      ],
      "source": [
        "x_test = x_test.to(device=device, dtype=torch.float)\n",
        "y = torch.tensor(svm.predict(model(x_test)))\n",
        "print(y[:30])\n",
        "print(y_test[:30])\n",
        "\n",
        "rmse = torch.sqrt(torch.sum((y * 5 - y_test * 5)**2) / len(y))\n",
        "print(rmse)\n",
        "\n",
        "a = (5 * y - 5 * y_test) ** 2\n",
        "print(a[:40])"
      ]
    },
    {
      "cell_type": "code",
      "execution_count": null,
      "metadata": {
        "id": "NU926YK5FPwz"
      },
      "outputs": [],
      "source": [
        "x_test = x_test.to(device=device, dtype=torch.float)\n",
        "y = torch.tensor(random_forest.predict(model(x_test)))\n",
        "print(y[:30])\n",
        "print(y_test[:30])\n",
        "\n",
        "rmse = torch.sqrt(torch.sum((y * 5 - y_test * 5)**2) / len(y))\n",
        "print(rmse)\n",
        "\n",
        "a = (5 * y - 5 * y_test) ** 2\n",
        "print(a[:40])"
      ]
    },
    {
      "cell_type": "code",
      "execution_count": 16,
      "metadata": {
        "colab": {
          "base_uri": "https://localhost:8080/"
        },
        "id": "TIt9MFLtC7dP",
        "outputId": "da762bed-7e79-43bd-b183-3bdd4a673469"
      },
      "outputs": [
        {
          "name": "stdout",
          "output_type": "stream",
          "text": [
            "2444\n"
          ]
        }
      ],
      "source": [
        "x_val = pd.read_csv('processed_waiting_times_val.csv')\n",
        "dates = x_val[\"DATETIME\"]\n",
        "entities = x_val[\"ENTITY_DESCRIPTION_SHORT\"]\n",
        "x_val.drop([\"DATETIME\", \"ENTITY_DESCRIPTION_SHORT\"], axis=1, inplace=True)\n",
        "x_val = x_val.astype(float)\n",
        "x_val = torch.tensor(x_val.values, dtype=torch.float64, device=device)\n",
        "x_val = x_val.to(device=device, dtype=torch.float)\n",
        "y_hat = torch.tensor(random_forest.predict(model(x_val)))\n",
        "clean_y_hat = np.array((y_hat).cpu())*5\n",
        "print(len(clean_y_hat))\n",
        "\n",
        "res_df = pd.DataFrame(list(zip(clean_y_hat, entities, dates, [\"Validation\" for _ in range(len(dates))])), columns=[\"y_pred\", \"ENTITY_DESCRIPTION_SHORT\", \"DATETIME\", \"KEY\"])\n",
        "res_df.to_csv('res.csv', index=False)"
      ]
    },
    {
      "cell_type": "code",
      "execution_count": null,
      "metadata": {
        "colab": {
          "base_uri": "https://localhost:8080/"
        },
        "id": "DORoDDGEFseC",
        "outputId": "b1b742ad-a693-4e04-d76e-98f8642a40a7"
      },
      "outputs": [
        {
          "name": "stdout",
          "output_type": "stream",
          "text": [
            "tensor([25, 40,  5, 25, 15, 25, 45,  5, 20, 45, 30, 30, 20, 20, 35,  5, 30,  5,\n",
            "        20,  5, 25, 20,  0, 10, 10, 30, 45, 25, 30, 15, 25, 35, 15, 55, 30, 10,\n",
            "        30, 30, 30, 30])\n",
            "tensor([35, 30,  5, 15, 15, 25, 45, 10, 25, 60, 25, 40, 15, 10, 15,  5, 20, 30,\n",
            "        20, 15, 20, 25, 15, 15, 15, 35, 55, 30, 35, 15, 25, 50, 15, 30, 60, 10,\n",
            "        30, 30, 35, 30])\n",
            "tensor(0.3908)\n",
            "tensor(9.6642)\n",
            "tensor([100, 100,   0, 100,   0,   0,   0,  25,  25, 225,  25, 100,  25, 100,\n",
            "        400,   0, 100, 625,   0, 100,  25,  25, 225,  25,  25,  25, 100,  25,\n",
            "         25,   0,   0, 225,   0, 625, 900,   0,   0,   0,  25,   0])\n"
          ]
        }
      ],
      "source": [
        "model.eval()\n",
        "x_test = x_test.to(device=device, dtype=torch.float)\n",
        "y_hat = torch.argmax(model(x_test), dim=1)\n",
        "print(y_hat[:40] * 5)\n",
        "print(y_test[:40] * 5)\n",
        "\n",
        "def accuracy(y_hat, y_test):\n",
        "  return torch.sum(y_hat == y_test) / len(y_hat)\n",
        "\n",
        "print(accuracy(y_hat, y_test))\n",
        "\n",
        "rmse = torch.sqrt(torch.sum((y_hat * 5 - y_test * 5)**2) / len(y_hat))\n",
        "print(rmse)\n",
        "a = (5 * y_hat - 5 * y_test) ** 2\n",
        "print(a[:40])"
      ]
    },
    {
      "cell_type": "code",
      "execution_count": null,
      "metadata": {
        "colab": {
          "base_uri": "https://localhost:8080/"
        },
        "id": "SbyBxnlD_g5p",
        "outputId": "65df0e7c-9c4f-4843-ce43-6612d0105969"
      },
      "outputs": [
        {
          "name": "stdout",
          "output_type": "stream",
          "text": [
            "2444\n"
          ]
        }
      ],
      "source": [
        "model.eval()\n",
        "x_val = pd.read_csv('processed_waiting_times_val.csv')\n",
        "dates = x_val[\"DATETIME\"]\n",
        "entities = x_val[\"ENTITY_DESCRIPTION_SHORT\"]\n",
        "x_val.drop([\"DATETIME\", \"ENTITY_DESCRIPTION_SHORT\"], axis=1, inplace=True)\n",
        "x_val = x_val.astype(float)\n",
        "x_val = torch.tensor(x_val.values, dtype=torch.float64, device=device)\n",
        "x_val = x_val.to(device=device, dtype=torch.float)\n",
        "y_hat = torch.argmax(model(x_val), dim=1)\n",
        "clean_y_hat = np.array((y_hat).cpu())*5\n",
        "print(len(clean_y_hat))\n",
        "\n",
        "res_df = pd.DataFrame(list(zip(clean_y_hat, entities, dates, [\"Validation\" for _ in range(len(dates))])), columns=[\"y_pred\", \"ENTITY_DESCRIPTION_SHORT\", \"DATETIME\", \"KEY\"])\n",
        "res_df.to_csv('res.csv', index=False)\n"
      ]
    }
  ],
  "metadata": {
    "accelerator": "GPU",
    "colab": {
      "gpuType": "T4",
      "provenance": []
    },
    "kernelspec": {
      "display_name": "Python 3",
      "name": "python3"
    },
    "language_info": {
      "codemirror_mode": {
        "name": "ipython",
        "version": 3
      },
      "file_extension": ".py",
      "mimetype": "text/x-python",
      "name": "python",
      "nbconvert_exporter": "python",
      "pygments_lexer": "ipython3",
      "version": "3.11.7"
    }
  },
  "nbformat": 4,
  "nbformat_minor": 0
}
