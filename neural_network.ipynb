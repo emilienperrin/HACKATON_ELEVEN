{
  "cells": [
    {
      "cell_type": "code",
      "execution_count": 61,
      "metadata": {
        "id": "bWhdgtMU11IH"
      },
      "outputs": [],
      "source": [
        "import pandas as pd\n",
        "import numpy as np\n",
        "from sklearn import preprocessing\n",
        "from datetime import datetime\n",
        "import torch\n",
        "import torch.nn as nn\n",
        "import torch.nn.functional as F\n",
        "import torch.optim as optim\n",
        "from torch.utils.data import DataLoader, TensorDataset\n",
        "import matplotlib.pyplot as plt\n",
        "\n",
        "from sklearn.model_selection import train_test_split\n",
        "from sklearn.ensemble import RandomForestClassifier"
      ]
    },
    {
      "cell_type": "code",
      "execution_count": 2,
      "metadata": {
        "colab": {
          "base_uri": "https://localhost:8080/"
        },
        "id": "TdHe8e0621xG",
        "outputId": "43433ed3-ddbf-4532-a94f-fc30f02f9f82"
      },
      "outputs": [
        {
          "name": "stdout",
          "output_type": "stream",
          "text": [
            "using device: cpu\n"
          ]
        }
      ],
      "source": [
        "USE_GPU = True\n",
        "dtype = torch.float32 # we will be using float throughout this tutorial\n",
        "device = torch.device('cuda') if (USE_GPU and torch.cuda.is_available()) else torch.device('cpu')\n",
        "\n",
        "# Constant to control how frequently we print train loss\n",
        "print_every = 100\n",
        "print('using device:', device)"
      ]
    },
    {
      "cell_type": "code",
      "execution_count": 3,
      "metadata": {
        "colab": {
          "base_uri": "https://localhost:8080/"
        },
        "id": "2xtwx3lR3Oh-",
        "outputId": "26ac24b7-b2eb-4c29-b461-7ae67b440c62"
      },
      "outputs": [],
      "source": [
        "try:\n",
        "  from google.colab import drive\n",
        "  drive.mount('/content/gdrive', force_remount=True)\n",
        "\n",
        "  FOLDERNAME = '/HACKATHON'\n",
        "  %cd /content/gdrive/My\\ Drive/$FOLDERNAME\n",
        "except ImportError:\n",
        "  pass"
      ]
    },
    {
      "cell_type": "code",
      "execution_count": 4,
      "metadata": {
        "colab": {
          "base_uri": "https://localhost:8080/",
          "height": 56
        },
        "id": "E1_Cr77T3Xr1",
        "outputId": "92eb1360-c598-4528-801a-faaf825399a7"
      },
      "outputs": [
        {
          "data": {
            "text/plain": [
              "'/Users/emilienprn/Documents/2A/HACKATON_ELEVEN'"
            ]
          },
          "execution_count": 4,
          "metadata": {},
          "output_type": "execute_result"
        }
      ],
      "source": [
        "%pwd"
      ]
    },
    {
      "cell_type": "code",
      "execution_count": 45,
      "metadata": {
        "id": "72P9ilnw2pvS"
      },
      "outputs": [],
      "source": [
        "df_train = pd.read_csv('processed_waiting_times_train.csv')"
      ]
    },
    {
      "cell_type": "code",
      "execution_count": 46,
      "metadata": {
        "colab": {
          "base_uri": "https://localhost:8080/"
        },
        "id": "EMm0XPHxrRRV",
        "outputId": "a438ce1b-14e1-4254-d513-b5309774c8f5"
      },
      "outputs": [
        {
          "name": "stdout",
          "output_type": "stream",
          "text": [
            "out_features: 32\n",
            "in_features: 87\n"
          ]
        }
      ],
      "source": [
        "out_features = max(df_train[\"WAIT_TIME_IN_2H\"]) + 1\n",
        "print(f\"out_features: {out_features}\")\n",
        "\n",
        "y = df_train[\"WAIT_TIME_IN_2H\"]\n",
        "#print(y)\n",
        "\n",
        "x = df_train\n",
        "x.drop([\"WAIT_TIME_IN_2H\"], axis=1, inplace=True)\n",
        "#print(x)\n",
        "\n",
        "in_features = len(x.columns)\n",
        "print(f\"in_features: {in_features}\")\n",
        "\n",
        "x_train, x_test, y_train, y_test = train_test_split(x, y, test_size=0.2, random_state=0)\n",
        "\n",
        "x_train = x_train.astype(float)\n",
        "x_test = x_test.astype(float)\n",
        "y_train = y_train.astype(int)\n",
        "y_test = y_test.astype(int)\n",
        "\n",
        "x_train = torch.tensor(x_train.values, dtype=torch.float64, device=device)\n",
        "x_test = torch.tensor(x_test.values, dtype=torch.float64, device=device)\n",
        "y_train = torch.tensor(y_train.values, dtype=torch.int64, device=device)\n",
        "y_test = torch.tensor(y_test.values, dtype=torch.int64, device=device)"
      ]
    },
    {
      "cell_type": "code",
      "execution_count": 47,
      "metadata": {
        "id": "nzKKu29x4waD"
      },
      "outputs": [],
      "source": [
        "test_dataset = TensorDataset(x_test, y_test)\n",
        "test_loader = DataLoader(test_dataset, batch_size=64, shuffle=True)"
      ]
    },
    {
      "cell_type": "code",
      "execution_count": 48,
      "metadata": {
        "id": "9Wh8vl9VsEha"
      },
      "outputs": [],
      "source": [
        "train_dataset = TensorDataset(x_train, y_train)\n",
        "train_loader = DataLoader(train_dataset, batch_size=64, shuffle=True)"
      ]
    },
    {
      "cell_type": "markdown",
      "metadata": {
        "id": "0I0PVoe1rMLD"
      },
      "source": [
        "utils"
      ]
    },
    {
      "cell_type": "code",
      "execution_count": 7,
      "metadata": {
        "id": "XdxrJw58rLQx"
      },
      "outputs": [],
      "source": [
        "def check_accuracy(loader, model):\n",
        "    num_correct = 0\n",
        "    num_samples = 0\n",
        "    model.eval()  # set model to evaluation mode\n",
        "    with torch.no_grad():\n",
        "        for x, y in loader:\n",
        "            x = x.to(device=device, dtype=dtype)  # move to device, e.g. GPU\n",
        "            y = y.to(device=device, dtype=torch.long)\n",
        "\n",
        "            y_res = model(x)\n",
        "            predictions = F.softmax(y_res, dim=1)\n",
        "            argmax_indices = torch.argmax(predictions, dim=1)\n",
        "\n",
        "            num_correct += torch.sum(torch.eq(argmax_indices, y))\n",
        "            num_samples += int(y_res.size()[0])\n",
        "\n",
        "        acc = float(num_correct) / num_samples\n",
        "        #print('Got %d / %d correct (%.2f)' % (num_correct, num_samples, 100 * acc))\n",
        "\n",
        "        return acc\n",
        "\n",
        "def check_rmse(x_test, y_test, model):\n",
        "    model.eval()\n",
        "    x_test = x_test.to(device=device, dtype=torch.float)\n",
        "    y_hat = torch.argmax(model(x_test), dim=1)\n",
        "    rmse = torch.sqrt(torch.sum((y_hat * 5 - y_test * 5)**2) / len(y_hat))\n",
        "    return float(rmse)\n",
        "\n",
        "def check_rmse_numeric(x_test, y_test, model):\n",
        "    model.eval()\n",
        "    x_test = x_test.to(device=device, dtype=torch.float)\n",
        "    y_hat = model(x_test)\n",
        "    rmse = torch.sqrt(torch.sum((y_hat * 5 - y_test * 5)**2) / len(y_hat))\n",
        "    return float(rmse)"
      ]
    },
    {
      "cell_type": "code",
      "execution_count": 49,
      "metadata": {
        "id": "U4NKT2o9r1mW"
      },
      "outputs": [],
      "source": [
        "def train_module(model, optimizer, criterion, x_train, y_train, rmse_function, epochs=1, batch_size=64, rmse_on_test = False, x_test=None, y_test=None):\n",
        "    train_dataset = TensorDataset(x_train, y_train)\n",
        "    train_loader = DataLoader(train_dataset, batch_size=batch_size, shuffle=True)\n",
        "\n",
        "    losses = []\n",
        "    rmses = []\n",
        "    rmses_test = []\n",
        "\n",
        "    model = model.to(device=device)\n",
        "    model.train()\n",
        "    for e in range(epochs):\n",
        "        for inputs, targets in train_loader:\n",
        "            inputs = inputs.to(device=device, dtype=torch.float)\n",
        "            outputs = model(inputs)\n",
        "\n",
        "            #outputs = outputs.squeeze(1)\n",
        "\n",
        "            loss = criterion(outputs, targets)\n",
        "\n",
        "            optimizer.zero_grad()\n",
        "            loss.backward()\n",
        "\n",
        "            optimizer.step()\n",
        "\n",
        "        losses.append(loss.item())\n",
        "        current_rmse      = rmse_function(x_train, y_train, model)\n",
        "        current_rmse_test = rmse_function(x_test, y_test, model)\n",
        "\n",
        "        rmses.append(current_rmse)\n",
        "        rmses_test.append(current_rmse_test)\n",
        "\n",
        "        print(f'Epoch [{e+1}/{epochs}] -  Loss: {loss.item():.4f} - Rmse: {current_rmse:.4f}')\n",
        "        if(rmse_on_test): print(f'\\t \\t \\t  test rmse: {current_rmse_test:.4f}')\n",
        "\n",
        "    return losses, rmses, rmses_test"
      ]
    },
    {
      "cell_type": "markdown",
      "metadata": {
        "id": "DSfboEzurNP4"
      },
      "source": [
        "training"
      ]
    },
    {
      "cell_type": "code",
      "execution_count": 98,
      "metadata": {
        "id": "eqVOXyYw1QKW"
      },
      "outputs": [],
      "source": [
        "class Swish(nn.Module):\n",
        "  def forward(self, x):\n",
        "    return x*torch.sigmoid(x)"
      ]
    },
    {
      "cell_type": "code",
      "execution_count": 99,
      "metadata": {},
      "outputs": [],
      "source": [
        "class CombinedLoss(nn.Module):\n",
        "    def __init__(self, mse_weight=0.5):\n",
        "        super(CombinedLoss, self).__init__()\n",
        "        self.mse_weight = mse_weight\n",
        "\n",
        "        self.mse_loss           = nn.MSELoss()\n",
        "        self.cross_entropy_loss = nn.CrossEntropyLoss()\n",
        "\n",
        "    def forward(self, outputs, targets):\n",
        "        mse_loss = self.mse_loss(torch.argmax(outputs), targets.float()) / 100000\n",
        "        cross_entropy_loss = self.cross_entropy_loss(outputs, targets) / 2\n",
        "\n",
        "        combined_loss = self.mse_weight * mse_loss + (1 - self.mse_weight) * cross_entropy_loss\n",
        "        \n",
        "        return combined_loss"
      ]
    },
    {
      "cell_type": "code",
      "execution_count": 84,
      "metadata": {},
      "outputs": [],
      "source": [
        "class MyMSE(nn.Module):\n",
        "    def __init__(self):\n",
        "        super(MyMSE, self).__init__()\n",
        "        self.mse_loss           = nn.MSELoss()\n",
        "\n",
        "    def forward(self, outputs, targets):\n",
        "        mse_loss = self.mse_loss(torch.argmax(outputs), targets.float())\n",
        "        \n",
        "        return mse_loss"
      ]
    },
    {
      "cell_type": "code",
      "execution_count": 128,
      "metadata": {
        "colab": {
          "base_uri": "https://localhost:8080/"
        },
        "id": "AQZJtbcW4V9q",
        "outputId": "6b5ab7aa-cae8-4112-f374-bf5a1834270a"
      },
      "outputs": [
        {
          "name": "stderr",
          "output_type": "stream",
          "text": [
            "/Users/emilienprn/anaconda3/lib/python3.11/site-packages/torch/nn/modules/loss.py:535: UserWarning: Using a target size (torch.Size([128])) that is different to the input size (torch.Size([])). This will likely lead to incorrect results due to broadcasting. Please ensure they have the same size.\n",
            "  return F.mse_loss(input, target, reduction=self.reduction)\n",
            "/Users/emilienprn/anaconda3/lib/python3.11/site-packages/torch/nn/modules/loss.py:535: UserWarning: Using a target size (torch.Size([46])) that is different to the input size (torch.Size([])). This will likely lead to incorrect results due to broadcasting. Please ensure they have the same size.\n",
            "  return F.mse_loss(input, target, reduction=self.reduction)\n"
          ]
        },
        {
          "name": "stdout",
          "output_type": "stream",
          "text": [
            "Epoch [1/20] -  Loss: 1.8405 - Rmse: 15.7607\n",
            "\t \t \t  test rmse: 15.5086\n",
            "Epoch [2/20] -  Loss: 2.3168 - Rmse: 12.8494\n",
            "\t \t \t  test rmse: 12.7151\n",
            "Epoch [3/20] -  Loss: 6.1275 - Rmse: 10.4145\n",
            "\t \t \t  test rmse: 10.5784\n",
            "Epoch [4/20] -  Loss: 12.5660 - Rmse: 10.7496\n",
            "\t \t \t  test rmse: 10.9424\n",
            "Epoch [5/20] -  Loss: 2.7878 - Rmse: 10.1294\n",
            "\t \t \t  test rmse: 10.3586\n",
            "Epoch [6/20] -  Loss: 0.8164 - Rmse: 10.1310\n",
            "\t \t \t  test rmse: 10.4039\n"
          ]
        }
      ],
      "source": [
        "model = nn.Sequential(\n",
        "    nn.Linear(in_features, 32),\n",
        "    nn.BatchNorm1d(32),\n",
        "    nn.ReLU(),\n",
        "    nn.Dropout(p=0.3),\n",
        "    nn.Linear(32, 32),\n",
        "    nn.BatchNorm1d(32),\n",
        "    nn.ReLU(),\n",
        "    nn.Dropout(p=0.4),\n",
        "    nn.Linear(32, 16),\n",
        "    nn.BatchNorm1d(16),\n",
        "    nn.ReLU(),\n",
        "    nn.Dropout(p=0.5),\n",
        "    nn.Linear(16, 16),\n",
        "    nn.BatchNorm1d(16),\n",
        "    nn.ReLU(),\n",
        "    nn.Dropout(p=0.5),\n",
        "    nn.Linear(16, 16),\n",
        "    nn.BatchNorm1d(16),\n",
        "    nn.ReLU(),\n",
        "    nn.Dropout(p=0.5),\n",
        "    nn.Linear(16, 16),\n",
        "    nn.BatchNorm1d(16),\n",
        "    nn.ReLU(),\n",
        "    nn.Dropout(p=0.5),\n",
        "    nn.Linear(16, 16),\n",
        "    nn.BatchNorm1d(16),\n",
        "    nn.ReLU(),\n",
        "    nn.Dropout(p=0.5),\n",
        "    nn.Linear(16, 16),\n",
        "    nn.BatchNorm1d(16),\n",
        "    nn.ReLU(),\n",
        "    nn.Dropout(p=0.5),\n",
        "    nn.Linear(16, out_features),\n",
        ")\n",
        "model.to(device=device)\n",
        "optimizer = optim.SGD(model.parameters(), lr=1e-1, momentum=0.80, nesterov=True)\n",
        "\n",
        "criterion = CombinedLoss(mse_weight=0.8)\n",
        "\n",
        "num_epochs = 20\n",
        "\n",
        "losses, rmses, rmses_test = train_module(model, optimizer, criterion, x_train, y_train, check_rmse ,num_epochs, 128, True, x_test, y_test)"
      ]
    },
    {
      "cell_type": "code",
      "execution_count": 126,
      "metadata": {
        "colab": {
          "base_uri": "https://localhost:8080/",
          "height": 467
        },
        "id": "VGIKeDf1yHPN",
        "outputId": "2cadf149-a94c-4180-dc9b-0aee187306f7"
      },
      "outputs": [
        {
          "data": {
            "text/plain": [
              "<matplotlib.legend.Legend at 0x29fa8aad0>"
            ]
          },
          "execution_count": 126,
          "metadata": {},
          "output_type": "execute_result"
        },
        {
          "data": {
            "image/png": "[encoded data removed]",
            "text/plain": [
              "<Figure size 640x480 with 1 Axes>"
            ]
          },
          "metadata": {},
          "output_type": "display_data"
        }
      ],
      "source": [
        "plt.plot(losses, color=\"orange\")\n",
        "plt.plot(rmses, color=\"blue\")\n",
        "plt.plot(rmses_test, color=\"red\")\n",
        "plt.legend([\"loss\", \"rmse_train\", \"rmses_test\"])"
      ]
    },
    {
      "cell_type": "code",
      "execution_count": 74,
      "metadata": {},
      "outputs": [
        {
          "data": {
            "text/plain": [
              "Sequential(\n",
              "  (0): Linear(in_features=87, out_features=128, bias=True)\n",
              "  (1): BatchNorm1d(128, eps=1e-05, momentum=0.1, affine=True, track_running_stats=True)\n",
              "  (2): ReLU()\n",
              "  (3): Dropout(p=0.3, inplace=False)\n",
              "  (4): Linear(in_features=128, out_features=128, bias=True)\n",
              "  (5): BatchNorm1d(128, eps=1e-05, momentum=0.1, affine=True, track_running_stats=True)\n",
              "  (6): ReLU()\n",
              "  (7): Dropout(p=0.4, inplace=False)\n",
              "  (8): Linear(in_features=128, out_features=256, bias=True)\n",
              "  (9): BatchNorm1d(256, eps=1e-05, momentum=0.1, affine=True, track_running_stats=True)\n",
              "  (10): ReLU()\n",
              "  (11): Dropout(p=0.5, inplace=False)\n",
              "  (identity): Identity()\n",
              ")"
            ]
          },
          "execution_count": 74,
          "metadata": {},
          "output_type": "execute_result"
        }
      ],
      "source": [
        "new_model = nn.Sequential(*list(model.children())[:-1])\n",
        "new_model.add_module('identity', nn.Identity())\n",
        "new_model\n",
        "\n",
        "class RandomForestClassifierWrapper:\n",
        "    def __init__(self, n_estimators=1000, max_depth=None):\n",
        "        self.n_estimators = n_estimators\n",
        "        self.max_depth = max_depth\n",
        "        self.model = RandomForestClassifier(n_estimators=n_estimators, max_depth=max_depth)\n",
        "\n",
        "    def train(self, X_train, y_train):\n",
        "        X_train = X_train.detach().numpy()\n",
        "        self.model.fit(X_train, y_train)\n",
        "\n",
        "    def predict(self, X_test):\n",
        "        X_test = X_test.detach().numpy()\n",
        "        return self.model.predict(X_test)\n",
        "\n",
        "new_model.eval()\n",
        "x_train = x_train.to(device=device, dtype=torch.float)\n",
        "x_train_bis = new_model(x_train)\n",
        "\n",
        "random_forest = RandomForestClassifierWrapper()\n",
        "random_forest.train(x_train_bis, y_train)"
      ]
    },
    {
      "cell_type": "markdown",
      "metadata": {},
      "source": [
        "val for training"
      ]
    },
    {
      "cell_type": "code",
      "execution_count": 127,
      "metadata": {},
      "outputs": [],
      "source": [
        "x_val = pd.read_csv('processed_waiting_times_val.csv')\n",
        "dates = x_val[\"DATETIME\"]\n",
        "entities = x_val[\"ENTITY_DESCRIPTION_SHORT\"]\n",
        "x_val.drop([\"DATETIME\", \"ENTITY_DESCRIPTION_SHORT\"], axis=1, inplace=True)\n",
        "\n",
        "x_val = x_val.astype(float)\n",
        "x_val = torch.tensor(x_val.values, dtype=torch.float64, device=device)\n",
        "x_val = x_val.to(device=device, dtype=torch.float)\n",
        "\n",
        "y_hat = torch.argmax(model(x_val), dim=1)\n",
        "clean_y_hat = np.array((y_hat).cpu())*5\n",
        "res_df = pd.DataFrame(list(zip(clean_y_hat, entities, dates, [\"Validation\" for _ in range(len(dates))])), columns=[\"y_pred\", \"ENTITY_DESCRIPTION_SHORT\", \"DATETIME\", \"KEY\"])\n",
        "\n",
        "res_df.to_csv('res.csv', index=False)"
      ]
    },
    {
      "cell_type": "markdown",
      "metadata": {},
      "source": [
        "val for random forest"
      ]
    },
    {
      "cell_type": "code",
      "execution_count": 76,
      "metadata": {},
      "outputs": [],
      "source": [
        "x_val = pd.read_csv('processed_waiting_times_val.csv')\n",
        "dates = x_val[\"DATETIME\"]\n",
        "entities = x_val[\"ENTITY_DESCRIPTION_SHORT\"]\n",
        "x_val.drop([\"DATETIME\", \"ENTITY_DESCRIPTION_SHORT\"], axis=1, inplace=True)\n",
        "\n",
        "x_val = x_val.astype(float)\n",
        "x_val = torch.tensor(x_val.values, dtype=torch.float64, device=device)\n",
        "x_val = x_val.to(device=device, dtype=torch.float)\n",
        "\n",
        "y_hat = torch.tensor(random_forest.predict(new_model(x_val)))\n",
        "clean_y_hat = np.array((y_hat).cpu())*5\n",
        "res_df = pd.DataFrame(list(zip(clean_y_hat, entities, dates, [\"Validation\" for _ in range(len(dates))])), columns=[\"y_pred\", \"ENTITY_DESCRIPTION_SHORT\", \"DATETIME\", \"KEY\"])\n",
        "\n",
        "res_df.to_csv('res.csv', index=False)"
      ]
    },
    {
      "cell_type": "markdown",
      "metadata": {
        "id": "b-s0zJ7cuLQc"
      },
      "source": [
        "accuracy vs lr"
      ]
    },
    {
      "cell_type": "code",
      "execution_count": 17,
      "metadata": {
        "colab": {
          "base_uri": "https://localhost:8080/",
          "height": 452
        },
        "id": "jC6saSR-uPDI",
        "outputId": "605d69b6-09f1-457b-f1f4-681ac5cad027"
      },
      "outputs": [
        {
          "name": "stdout",
          "output_type": "stream",
          "text": [
            "Epoch [1/5] -  Loss: 3.4709 - Rmse: 82.5171\n",
            "\t \t \t  test rmse: 83.2219\n",
            "Epoch [2/5] -  Loss: 3.5032 - Rmse: 80.4270\n",
            "\t \t \t  test rmse: 80.9883\n",
            "Epoch [3/5] -  Loss: 3.4751 - Rmse: 78.2548\n",
            "\t \t \t  test rmse: 78.4266\n",
            "Epoch [4/5] -  Loss: 3.3968 - Rmse: 75.8028\n",
            "\t \t \t  test rmse: 75.7078\n",
            "Epoch [5/5] -  Loss: 3.3211 - Rmse: 73.2134\n",
            "\t \t \t  test rmse: 72.9911\n",
            "lr 1e-05 / rmse 72.99108123779297\n",
            "Epoch [1/5] -  Loss: 3.6458 - Rmse: 69.7326\n",
            "\t \t \t  test rmse: 70.2717\n",
            "Epoch [2/5] -  Loss: 3.3199 - Rmse: 55.9890\n",
            "\t \t \t  test rmse: 56.9167\n",
            "Epoch [3/5] -  Loss: 3.2011 - Rmse: 30.5287\n",
            "\t \t \t  test rmse: 30.7865\n",
            "Epoch [4/5] -  Loss: 2.9331 - Rmse: 17.6470\n",
            "\t \t \t  test rmse: 17.4804\n",
            "Epoch [5/5] -  Loss: 2.6198 - Rmse: 15.7544\n",
            "\t \t \t  test rmse: 15.7447\n",
            "lr 0.0001 / rmse 15.744726181030273\n",
            "Epoch [1/5] -  Loss: 2.7499 - Rmse: 15.7777\n",
            "\t \t \t  test rmse: 15.7831\n",
            "Epoch [2/5] -  Loss: 2.2366 - Rmse: 13.2851\n",
            "\t \t \t  test rmse: 13.1777\n",
            "Epoch [3/5] -  Loss: 2.2461 - Rmse: 12.6135\n",
            "\t \t \t  test rmse: 12.5095\n",
            "Epoch [4/5] -  Loss: 1.9234 - Rmse: 12.0817\n",
            "\t \t \t  test rmse: 12.0493\n",
            "Epoch [5/5] -  Loss: 2.0246 - Rmse: 11.9249\n",
            "\t \t \t  test rmse: 11.8653\n",
            "lr 0.001 / rmse 11.865302085876465\n",
            "Epoch [1/5] -  Loss: 2.2060 - Rmse: 12.5912\n",
            "\t \t \t  test rmse: 12.6728\n",
            "Epoch [2/5] -  Loss: 1.9293 - Rmse: 11.3542\n",
            "\t \t \t  test rmse: 11.4157\n",
            "Epoch [3/5] -  Loss: 1.9485 - Rmse: 11.1298\n",
            "\t \t \t  test rmse: 11.2521\n",
            "Epoch [4/5] -  Loss: 1.8293 - Rmse: 10.7390\n",
            "\t \t \t  test rmse: 10.9008\n",
            "Epoch [5/5] -  Loss: 1.6787 - Rmse: 10.5607\n",
            "\t \t \t  test rmse: 10.7450\n",
            "lr 0.005 / rmse 10.744975090026855\n",
            "Epoch [1/5] -  Loss: 2.1313 - Rmse: 11.8472\n",
            "\t \t \t  test rmse: 11.8035\n",
            "Epoch [2/5] -  Loss: 1.8212 - Rmse: 11.0251\n",
            "\t \t \t  test rmse: 11.2305\n",
            "Epoch [3/5] -  Loss: 1.9342 - Rmse: 10.6603\n",
            "\t \t \t  test rmse: 10.9314\n",
            "Epoch [4/5] -  Loss: 1.6476 - Rmse: 10.1331\n",
            "\t \t \t  test rmse: 10.3140\n",
            "Epoch [5/5] -  Loss: 1.7998 - Rmse: 10.2976\n",
            "\t \t \t  test rmse: 10.4511\n",
            "lr 0.01 / rmse 10.451064109802246\n",
            "Epoch [1/5] -  Loss: 1.9442 - Rmse: 11.0032\n",
            "\t \t \t  test rmse: 11.2012\n",
            "Epoch [2/5] -  Loss: 2.0635 - Rmse: 10.6852\n",
            "\t \t \t  test rmse: 10.9195\n",
            "Epoch [3/5] -  Loss: 1.9561 - Rmse: 10.0217\n",
            "\t \t \t  test rmse: 10.2835\n",
            "Epoch [4/5] -  Loss: 1.9289 - Rmse: 10.2318\n",
            "\t \t \t  test rmse: 10.5192\n",
            "Epoch [5/5] -  Loss: 1.6766 - Rmse: 9.8305\n",
            "\t \t \t  test rmse: 10.1792\n",
            "lr 0.03 / rmse 10.179208755493164\n",
            "Epoch [1/5] -  Loss: 1.9612 - Rmse: 11.1184\n",
            "\t \t \t  test rmse: 11.2592\n",
            "Epoch [2/5] -  Loss: 1.8522 - Rmse: 10.9518\n",
            "\t \t \t  test rmse: 11.0734\n",
            "Epoch [3/5] -  Loss: 1.8350 - Rmse: 10.3817\n",
            "\t \t \t  test rmse: 10.4917\n",
            "Epoch [4/5] -  Loss: 1.5969 - Rmse: 10.2169\n",
            "\t \t \t  test rmse: 10.6080\n",
            "Epoch [5/5] -  Loss: 1.5293 - Rmse: 9.9972\n",
            "\t \t \t  test rmse: 10.3481\n",
            "lr 0.05 / rmse 10.348140716552734\n",
            "Epoch [1/5] -  Loss: 1.8210 - Rmse: 10.8541\n",
            "\t \t \t  test rmse: 10.9014\n",
            "Epoch [2/5] -  Loss: 1.7981 - Rmse: 10.5125\n",
            "\t \t \t  test rmse: 10.6531\n",
            "Epoch [3/5] -  Loss: 1.8620 - Rmse: 10.1227\n",
            "\t \t \t  test rmse: 10.3491\n",
            "Epoch [4/5] -  Loss: 1.8043 - Rmse: 10.1499\n",
            "\t \t \t  test rmse: 10.2603\n",
            "Epoch [5/5] -  Loss: 1.6541 - Rmse: 9.7579\n",
            "\t \t \t  test rmse: 9.9746\n",
            "lr 0.08 / rmse 9.97464370727539\n",
            "Epoch [1/5] -  Loss: 1.9532 - Rmse: 11.0544\n",
            "\t \t \t  test rmse: 11.1897\n",
            "Epoch [2/5] -  Loss: 1.8824 - Rmse: 10.2200\n",
            "\t \t \t  test rmse: 10.3388\n",
            "Epoch [3/5] -  Loss: 1.5591 - Rmse: 10.5460\n",
            "\t \t \t  test rmse: 10.7828\n",
            "Epoch [4/5] -  Loss: 1.6312 - Rmse: 10.3635\n",
            "\t \t \t  test rmse: 10.7113\n",
            "Epoch [5/5] -  Loss: 1.8266 - Rmse: 9.6890\n",
            "\t \t \t  test rmse: 10.0103\n",
            "lr 0.1 / rmse 10.010293006896973\n",
            "Epoch [1/5] -  Loss: 1.9820 - Rmse: 10.8232\n",
            "\t \t \t  test rmse: 11.0056\n",
            "Epoch [2/5] -  Loss: 2.0018 - Rmse: 10.5416\n",
            "\t \t \t  test rmse: 10.7148\n",
            "Epoch [3/5] -  Loss: 1.8136 - Rmse: 10.0351\n",
            "\t \t \t  test rmse: 10.2689\n",
            "Epoch [4/5] -  Loss: 1.8864 - Rmse: 9.6479\n",
            "\t \t \t  test rmse: 9.8015\n",
            "Epoch [5/5] -  Loss: 1.6928 - Rmse: 10.4233\n",
            "\t \t \t  test rmse: 10.7939\n",
            "lr 0.5 / rmse 10.793885231018066\n"
          ]
        },
        {
          "name": "stderr",
          "output_type": "stream",
          "text": [
            "/var/folders/n9/pd4m7bps7_b_427s0yfq1m600000gn/T/ipykernel_46808/3552250896.py:28: UserWarning: Matplotlib is currently using module://matplotlib_inline.backend_inline, which is a non-GUI backend, so cannot show the figure.\n",
            "  fig.show()\n"
          ]
        },
        {
          "data": {
            "image/png": "[encoded data removed]",
            "text/plain": [
              "<Figure size 1100x600 with 1 Axes>"
            ]
          },
          "metadata": {},
          "output_type": "display_data"
        }
      ],
      "source": [
        "lrs = [1e-5, 1e-4, 1e-3, 5e-3, 1e-2, 3e-2, 5e-2, 8e-2, 1e-1, 5e-1]\n",
        "rmses = []\n",
        "\n",
        "for lr in lrs:\n",
        "  model = nn.Sequential(\n",
        "    nn.Linear(in_features, 64),\n",
        "    nn.BatchNorm1d(64),\n",
        "    nn.ReLU(),\n",
        "    nn.Dropout(p=0.2),\n",
        "    nn.Linear(64, 64),\n",
        "    nn.BatchNorm1d(64),\n",
        "    nn.ReLU(),\n",
        "    nn.Dropout(p=0.2),\n",
        "    nn.Linear(64, out_features),\n",
        "  )\n",
        "  optimizer = optim.SGD(model.parameters(), momentum=0.8, lr=lr, nesterov=True)\n",
        "  criterion = nn.CrossEntropyLoss()\n",
        "  _, _, rmses_test = train_module(model, optimizer, x_train, y_train, check_rmse , 5, 128, True, x_test, y_test)\n",
        "  rmse = rmses_test[-1]\n",
        "  rmses.append(rmse)\n",
        "  print(f\"lr {lr} / rmse {rmse}\")\n",
        "\n",
        "fig, ax = plt.subplots(figsize=(11, 6))\n",
        "ax.plot(lrs, rmses, label='lr')\n",
        "ax.set_xscale('log')\n",
        "ax.legend()\n",
        "ax.set_title(\"rmses with learning-rate\")\n",
        "fig.show()"
      ]
    },
    {
      "cell_type": "markdown",
      "metadata": {
        "id": "oqIMAmxzU4gI"
      },
      "source": [
        "#VALIDATION"
      ]
    },
    {
      "cell_type": "code",
      "execution_count": 68,
      "metadata": {
        "id": "5dpZuMWHRWf_"
      },
      "outputs": [],
      "source": [
        "x_val = pd.read_csv('processed_waiting_times_val.csv')\n",
        "dates = x_val[\"DATETIME\"]\n",
        "entities = x_val[\"ENTITY_DESCRIPTION_SHORT\"]\n",
        "x_val.drop([\"DATETIME\", \"ENTITY_DESCRIPTION_SHORT\"], axis=1, inplace=True)\n",
        "\n",
        "x_val = x_val.astype(float)\n",
        "x_val = torch.tensor(x_val.values, dtype=torch.float64, device=device)\n",
        "x_val = x_val.to(device=device, dtype=torch.float)"
      ]
    },
    {
      "cell_type": "code",
      "execution_count": 75,
      "metadata": {
        "id": "D0U7TXbYSglJ"
      },
      "outputs": [],
      "source": [
        "y_hat = torch.argmax(model(x_val), dim=1)\n",
        "\n",
        "clean_y_hat = np.array((y_hat).cpu())*5\n",
        "\n",
        "res_df = pd.DataFrame(list(zip(clean_y_hat, entities, dates, [\"Validation\" for _ in range(len(dates))])), columns=[\"y_pred\", \"ENTITY_DESCRIPTION_SHORT\", \"DATETIME\", \"KEY\"])\n",
        "#on gdrive\n",
        "#res_df.to_csv('/content/gdrive/MyDrive/HACKATHON/res.csv', index=False)\n",
        "\n",
        "#on pc\n",
        "res_df.to_csv('res.csv', index=False)"
      ]
    },
    {
      "cell_type": "markdown",
      "metadata": {
        "id": "PijZuy03vhk2"
      },
      "source": [
        "autre idée"
      ]
    },
    {
      "cell_type": "code",
      "execution_count": 42,
      "metadata": {
        "id": "bz23PLOuvi89"
      },
      "outputs": [
        {
          "name": "stderr",
          "output_type": "stream",
          "text": [
            "/Users/emilienprn/anaconda3/lib/python3.11/site-packages/torch/nn/modules/loss.py:535: UserWarning: Using a target size (torch.Size([128])) that is different to the input size (torch.Size([128, 1])). This will likely lead to incorrect results due to broadcasting. Please ensure they have the same size.\n",
            "  return F.mse_loss(input, target, reduction=self.reduction)\n",
            "/Users/emilienprn/anaconda3/lib/python3.11/site-packages/torch/nn/modules/loss.py:535: UserWarning: Using a target size (torch.Size([46])) that is different to the input size (torch.Size([46, 1])). This will likely lead to incorrect results due to broadcasting. Please ensure they have the same size.\n",
            "  return F.mse_loss(input, target, reduction=self.reduction)\n"
          ]
        },
        {
          "name": "stdout",
          "output_type": "stream",
          "text": [
            "Epoch [1/100] -  Loss: 8.6606 - Rmse: 2467.8269\n",
            "\t \t \t  test rmse: 1211.9821\n",
            "Epoch [2/100] -  Loss: 6.4383 - Rmse: 2478.7839\n",
            "\t \t \t  test rmse: 1217.9930\n",
            "Epoch [3/100] -  Loss: 7.6820 - Rmse: 2468.6362\n",
            "\t \t \t  test rmse: 1212.4597\n",
            "Epoch [4/100] -  Loss: 7.3392 - Rmse: 2487.2737\n",
            "\t \t \t  test rmse: 1222.5292\n",
            "Epoch [5/100] -  Loss: 6.1603 - Rmse: 2473.4092\n",
            "\t \t \t  test rmse: 1214.1299\n",
            "Epoch [6/100] -  Loss: 5.3400 - Rmse: 2466.6013\n",
            "\t \t \t  test rmse: 1211.1246\n",
            "Epoch [7/100] -  Loss: 9.1840 - Rmse: 2469.5830\n",
            "\t \t \t  test rmse: 1212.3468\n",
            "Epoch [8/100] -  Loss: 7.5108 - Rmse: 2477.8362\n",
            "\t \t \t  test rmse: 1217.5066\n",
            "Epoch [9/100] -  Loss: 6.1294 - Rmse: 2469.1794\n",
            "\t \t \t  test rmse: 1212.7722\n",
            "Epoch [10/100] -  Loss: 7.5877 - Rmse: 2467.6682\n",
            "\t \t \t  test rmse: 1211.5011\n",
            "Epoch [11/100] -  Loss: 7.1297 - Rmse: 2469.1157\n",
            "\t \t \t  test rmse: 1212.7366\n",
            "Epoch [12/100] -  Loss: 10.6246 - Rmse: 2467.2034\n",
            "\t \t \t  test rmse: 1211.3129\n",
            "Epoch [13/100] -  Loss: 12.5342 - Rmse: 2467.3518\n",
            "\t \t \t  test rmse: 1211.3716\n",
            "Epoch [14/100] -  Loss: 5.1555 - Rmse: 2469.3552\n",
            "\t \t \t  test rmse: 1212.8710\n",
            "Epoch [15/100] -  Loss: 12.8396 - Rmse: 2468.2598\n",
            "\t \t \t  test rmse: 1211.7557\n",
            "Epoch [16/100] -  Loss: 6.3680 - Rmse: 2467.5200\n",
            "\t \t \t  test rmse: 1211.8068\n",
            "Epoch [17/100] -  Loss: 6.6415 - Rmse: 2467.1348\n",
            "\t \t \t  test rmse: 1211.2865\n",
            "Epoch [18/100] -  Loss: 9.9743 - Rmse: 2467.0759\n",
            "\t \t \t  test rmse: 1211.5309\n",
            "Epoch [19/100] -  Loss: 8.0289 - Rmse: 2466.6985\n",
            "\t \t \t  test rmse: 1211.1378\n",
            "Epoch [20/100] -  Loss: 8.5552 - Rmse: 2467.7246\n",
            "\t \t \t  test rmse: 1211.9290\n",
            "Epoch [21/100] -  Loss: 16.5282 - Rmse: 2466.5798\n",
            "\t \t \t  test rmse: 1211.1251\n",
            "Epoch [22/100] -  Loss: 10.5071 - Rmse: 2467.2104\n",
            "\t \t \t  test rmse: 1211.6160\n",
            "Epoch [23/100] -  Loss: 6.6948 - Rmse: 2468.9075\n",
            "\t \t \t  test rmse: 1212.0427\n",
            "Epoch [24/100] -  Loss: 7.1390 - Rmse: 2466.8000\n",
            "\t \t \t  test rmse: 1211.1674\n",
            "Epoch [25/100] -  Loss: 6.8467 - Rmse: 2466.6633\n",
            "\t \t \t  test rmse: 1211.1302\n",
            "Epoch [26/100] -  Loss: 16.0493 - Rmse: 2466.5735\n",
            "\t \t \t  test rmse: 1211.1339\n",
            "Epoch [27/100] -  Loss: 11.4913 - Rmse: 2466.5715\n",
            "\t \t \t  test rmse: 1211.1370\n",
            "Epoch [28/100] -  Loss: 7.4421 - Rmse: 2467.4500\n",
            "\t \t \t  test rmse: 1211.7642\n",
            "Epoch [29/100] -  Loss: 8.4387 - Rmse: 2466.5852\n",
            "\t \t \t  test rmse: 1211.1692\n",
            "Epoch [30/100] -  Loss: 10.4496 - Rmse: 2466.8354\n",
            "\t \t \t  test rmse: 1211.3712\n",
            "Epoch [31/100] -  Loss: 11.6414 - Rmse: 2466.6526\n",
            "\t \t \t  test rmse: 1211.1289\n",
            "Epoch [32/100] -  Loss: 6.1258 - Rmse: 2466.6223\n",
            "\t \t \t  test rmse: 1211.1243\n",
            "Epoch [33/100] -  Loss: 9.3504 - Rmse: 2466.9028\n",
            "\t \t \t  test rmse: 1211.4174\n",
            "Epoch [34/100] -  Loss: 6.8703 - Rmse: 2466.6272\n",
            "\t \t \t  test rmse: 1211.1270\n",
            "Epoch [35/100] -  Loss: 7.8475 - Rmse: 2466.6367\n",
            "\t \t \t  test rmse: 1211.1271\n",
            "Epoch [36/100] -  Loss: 6.8981 - Rmse: 2466.9790\n",
            "\t \t \t  test rmse: 1211.4675\n",
            "Epoch [37/100] -  Loss: 7.3230 - Rmse: 2467.1077\n",
            "\t \t \t  test rmse: 1211.2760\n",
            "Epoch [38/100] -  Loss: 10.4028 - Rmse: 2466.6025\n",
            "\t \t \t  test rmse: 1211.1251\n"
          ]
        },
        {
          "ename": "KeyboardInterrupt",
          "evalue": "",
          "output_type": "error",
          "traceback": [
            "\u001b[0;31m---------------------------------------------------------------------------\u001b[0m",
            "\u001b[0;31mKeyboardInterrupt\u001b[0m                         Traceback (most recent call last)",
            "Cell \u001b[0;32mIn[42], line 19\u001b[0m\n\u001b[1;32m     16\u001b[0m y_train_for_regression \u001b[38;5;241m=\u001b[39m y_train\u001b[38;5;241m.\u001b[39mfloat()\n\u001b[1;32m     17\u001b[0m y_test_for_regression \u001b[38;5;241m=\u001b[39m y_test\u001b[38;5;241m.\u001b[39mfloat()\n\u001b[0;32m---> 19\u001b[0m losses, rmses, rmses_test \u001b[38;5;241m=\u001b[39m train_module(model, optimizer, criterion, x_train, y_train_for_regression, check_rmse_numeric ,num_epochs, \u001b[38;5;241m128\u001b[39m, \u001b[38;5;28;01mTrue\u001b[39;00m, x_test, y_test_for_regression)\n",
            "Cell \u001b[0;32mIn[8], line 24\u001b[0m, in \u001b[0;36mtrain_module\u001b[0;34m(model, optimizer, criterion, x_train, y_train, rmse_function, epochs, batch_size, rmse_on_test, x_test, y_test)\u001b[0m\n\u001b[1;32m     21\u001b[0m     optimizer\u001b[38;5;241m.\u001b[39mstep()\n\u001b[1;32m     23\u001b[0m losses\u001b[38;5;241m.\u001b[39mappend(loss\u001b[38;5;241m.\u001b[39mitem())\n\u001b[0;32m---> 24\u001b[0m current_rmse      \u001b[38;5;241m=\u001b[39m rmse_function(x_train, y_train, model)\n\u001b[1;32m     25\u001b[0m current_rmse_test \u001b[38;5;241m=\u001b[39m rmse_function(x_test, y_test, model)\n\u001b[1;32m     27\u001b[0m rmses\u001b[38;5;241m.\u001b[39mappend(current_rmse)\n",
            "Cell \u001b[0;32mIn[7], line 33\u001b[0m, in \u001b[0;36mcheck_rmse_numeric\u001b[0;34m(x_test, y_test, model)\u001b[0m\n\u001b[1;32m     31\u001b[0m x_test \u001b[38;5;241m=\u001b[39m x_test\u001b[38;5;241m.\u001b[39mto(device\u001b[38;5;241m=\u001b[39mdevice, dtype\u001b[38;5;241m=\u001b[39mtorch\u001b[38;5;241m.\u001b[39mfloat)\n\u001b[1;32m     32\u001b[0m y_hat \u001b[38;5;241m=\u001b[39m model(x_test)\n\u001b[0;32m---> 33\u001b[0m rmse \u001b[38;5;241m=\u001b[39m torch\u001b[38;5;241m.\u001b[39msqrt(torch\u001b[38;5;241m.\u001b[39msum((y_hat \u001b[38;5;241m*\u001b[39m \u001b[38;5;241m5\u001b[39m \u001b[38;5;241m-\u001b[39m y_test \u001b[38;5;241m*\u001b[39m \u001b[38;5;241m5\u001b[39m)\u001b[38;5;241m*\u001b[39m\u001b[38;5;241m*\u001b[39m\u001b[38;5;241m2\u001b[39m) \u001b[38;5;241m/\u001b[39m \u001b[38;5;28mlen\u001b[39m(y_hat))\n\u001b[1;32m     34\u001b[0m \u001b[38;5;28;01mreturn\u001b[39;00m \u001b[38;5;28mfloat\u001b[39m(rmse)\n",
            "File \u001b[0;32m~/anaconda3/lib/python3.11/site-packages/torch/_tensor.py:40\u001b[0m, in \u001b[0;36m_handle_torch_function_and_wrap_type_error_to_not_implemented.<locals>.wrapped\u001b[0;34m(*args, **kwargs)\u001b[0m\n\u001b[1;32m     38\u001b[0m     \u001b[38;5;28;01mif\u001b[39;00m has_torch_function(args):\n\u001b[1;32m     39\u001b[0m         \u001b[38;5;28;01mreturn\u001b[39;00m handle_torch_function(wrapped, args, \u001b[38;5;241m*\u001b[39margs, \u001b[38;5;241m*\u001b[39m\u001b[38;5;241m*\u001b[39mkwargs)\n\u001b[0;32m---> 40\u001b[0m     \u001b[38;5;28;01mreturn\u001b[39;00m f(\u001b[38;5;241m*\u001b[39margs, \u001b[38;5;241m*\u001b[39m\u001b[38;5;241m*\u001b[39mkwargs)\n\u001b[1;32m     41\u001b[0m \u001b[38;5;28;01mexcept\u001b[39;00m \u001b[38;5;167;01mTypeError\u001b[39;00m:\n\u001b[1;32m     42\u001b[0m     \u001b[38;5;28;01mreturn\u001b[39;00m \u001b[38;5;28mNotImplemented\u001b[39m\n",
            "\u001b[0;31mKeyboardInterrupt\u001b[0m: "
          ]
        }
      ],
      "source": [
        "model = nn.Sequential(\n",
        "    nn.Linear(in_features, 84),\n",
        "    nn.ReLU(),\n",
        "    nn.Dropout(0.2),\n",
        "    nn.Linear(84, 128),\n",
        "    nn.ReLU(),\n",
        "    nn.Dropout(0.2),\n",
        "    nn.Linear(128, 1),  # Utiliser une seule sortie pour la prédiction continue\n",
        ")\n",
        "model.to(device=device)\n",
        "optimizer = optim.Adam(model.parameters(), lr=5e-2, weight_decay=1e-5, amsgrad=True)\n",
        "criterion = nn.MSELoss()\n",
        "\n",
        "num_epochs = 100\n",
        "\n",
        "y_train_for_regression = y_train.float()\n",
        "y_test_for_regression = y_test.float()\n",
        "\n",
        "losses, rmses, rmses_test = train_module(model, optimizer, criterion, x_train, y_train_for_regression, check_rmse_numeric ,num_epochs, 128, True, x_test, y_test_for_regression)"
      ]
    }
  ],
  "metadata": {
    "accelerator": "GPU",
    "colab": {
      "gpuType": "T4",
      "provenance": []
    },
    "kernelspec": {
      "display_name": "Python 3",
      "name": "python3"
    },
    "language_info": {
      "codemirror_mode": {
        "name": "ipython",
        "version": 3
      },
      "file_extension": ".py",
      "mimetype": "text/x-python",
      "name": "python",
      "nbconvert_exporter": "python",
      "pygments_lexer": "ipython3",
      "version": "3.11.7"
    }
  },
  "nbformat": 4,
  "nbformat_minor": 0
}
