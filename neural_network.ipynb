{
  "cells": [
    {
      "cell_type": "code",
      "execution_count": 1,
      "metadata": {
        "id": "bWhdgtMU11IH"
      },
      "outputs": [],
      "source": [
        "import pandas as pd\n",
        "import numpy as np\n",
        "from sklearn import preprocessing\n",
        "from datetime import datetime\n",
        "import torch\n",
        "import torch.nn as nn\n",
        "import torch.nn.functional as F\n",
        "import torch.optim as optim\n",
        "from torch.utils.data import DataLoader, TensorDataset\n",
        "import matplotlib.pyplot as plt\n",
        "\n",
        "from sklearn.model_selection import train_test_split"
      ]
    },
    {
      "cell_type": "code",
      "execution_count": 2,
      "metadata": {
        "colab": {
          "base_uri": "https://localhost:8080/"
        },
        "id": "TdHe8e0621xG",
        "outputId": "43433ed3-ddbf-4532-a94f-fc30f02f9f82"
      },
      "outputs": [
        {
          "name": "stdout",
          "output_type": "stream",
          "text": [
            "using device: cpu\n"
          ]
        }
      ],
      "source": [
        "USE_GPU = True\n",
        "dtype = torch.float32 # we will be using float throughout this tutorial\n",
        "device = torch.device('cuda') if (USE_GPU and torch.cuda.is_available()) else torch.device('cpu')\n",
        "\n",
        "# Constant to control how frequently we print train loss\n",
        "print_every = 100\n",
        "print('using device:', device)"
      ]
    },
    {
      "cell_type": "code",
      "execution_count": 5,
      "metadata": {
        "colab": {
          "base_uri": "https://localhost:8080/"
        },
        "id": "2xtwx3lR3Oh-",
        "outputId": "26ac24b7-b2eb-4c29-b461-7ae67b440c62"
      },
      "outputs": [
        {
          "name": "stdout",
          "output_type": "stream",
          "text": [
            "Mounted at /content/gdrive\n",
            "/content/gdrive/My Drive/HACKATHON\n"
          ]
        }
      ],
      "source": [
        "try:\n",
        "  from google.colab import drive\n",
        "  drive.mount('/content/gdrive', force_remount=True)\n",
        "\n",
        "  FOLDERNAME = '/HACKATHON'\n",
        "  %cd /content/gdrive/My\\ Drive/$FOLDERNAME\n",
        "except ImportError:\n",
        "  pass"
      ]
    },
    {
      "cell_type": "code",
      "execution_count": null,
      "metadata": {
        "colab": {
          "base_uri": "https://localhost:8080/",
          "height": 56
        },
        "id": "E1_Cr77T3Xr1",
        "outputId": "92eb1360-c598-4528-801a-faaf825399a7"
      },
      "outputs": [
        {
          "data": {
            "application/vnd.google.colaboratory.intrinsic+json": {
              "type": "string"
            },
            "text/plain": [
              "'/content/gdrive/My Drive/HACKATHON'"
            ]
          },
          "execution_count": 8,
          "metadata": {},
          "output_type": "execute_result"
        }
      ],
      "source": [
        "%pwd"
      ]
    },
    {
      "cell_type": "code",
      "execution_count": 3,
      "metadata": {
        "id": "72P9ilnw2pvS"
      },
      "outputs": [],
      "source": [
        "df_train = pd.read_csv('processed_waiting_times_train.csv')"
      ]
    },
    {
      "cell_type": "code",
      "execution_count": 4,
      "metadata": {
        "colab": {
          "base_uri": "https://localhost:8080/"
        },
        "id": "EMm0XPHxrRRV",
        "outputId": "a438ce1b-14e1-4254-d513-b5309774c8f5"
      },
      "outputs": [
        {
          "name": "stdout",
          "output_type": "stream",
          "text": [
            "32\n",
            "0        6\n",
            "1        5\n",
            "2        7\n",
            "3        2\n",
            "4        2\n",
            "        ..\n",
            "37013    2\n",
            "37014    4\n",
            "37015    2\n",
            "37016    9\n",
            "37017    4\n",
            "Name: WAIT_TIME_IN_2H, Length: 37018, dtype: int64\n",
            "       ADJUST_CAPACITY  DOWNTIME  CURRENT_WAIT_TIME  TIME_TO_PARADE_1  \\\n",
            "0            -0.660639 -0.168584          -0.240147         -1.152579   \n",
            "1            -0.660639 -0.168584           0.468341          1.280950   \n",
            "2            -0.527907 -0.168584           0.822585         -1.152579   \n",
            "3            -0.726608 -0.168584          -0.594390         -0.170629   \n",
            "4            -1.033079 -0.168584          -0.594390         -1.152579   \n",
            "...                ...       ...                ...               ...   \n",
            "37013         1.356085 -0.168584           0.468341          0.555161   \n",
            "37014        -0.527907 -0.168584          -0.594390          0.939402   \n",
            "37015         1.356085 -0.168584          -0.594390         -0.256016   \n",
            "37016         1.356085 -0.168584           0.468341          0.896709   \n",
            "37017        -1.033079 -0.168584          -0.240147         -1.152579   \n",
            "\n",
            "       TIME_TO_PARADE_2  TIME_TO_NIGHT_SHOW       PC1       PC2       PC3  \\\n",
            "0             -0.410995           -1.117497 -1.703404 -0.561189 -0.521895   \n",
            "1             -0.410995            0.893157 -0.983224 -3.370968  1.688497   \n",
            "2             -0.410995           -1.117497  1.971007  0.491093 -0.446060   \n",
            "3             -0.410995           -0.020777 -1.153047 -1.460163  0.761943   \n",
            "4             -0.410995           -1.117497  0.644351  2.261365  0.670276   \n",
            "...                 ...                 ...       ...       ...       ...   \n",
            "37013         -0.410995            0.756067  2.474459 -0.242590 -1.250092   \n",
            "37014          2.420117            0.618977  1.451294 -0.740837 -0.309993   \n",
            "37015          0.230012           -0.203564 -3.211167 -0.929818 -1.205296   \n",
            "37016         -0.410995            0.664673  0.588498  2.259265  2.034889   \n",
            "37017         -0.410995           -1.117497 -0.546490  1.411215  1.077576   \n",
            "\n",
            "            PC4  ...     38     39     40     41     42     43     44     45  \\\n",
            "0      0.099553  ...  False  False  False  False  False  False  False  False   \n",
            "1      0.822912  ...  False  False  False  False  False  False  False  False   \n",
            "2     -1.375623  ...  False  False  False  False  False  False  False  False   \n",
            "3      0.267117  ...  False  False  False  False  False   True  False  False   \n",
            "4      0.539488  ...  False  False  False  False  False  False  False  False   \n",
            "...         ...  ...    ...    ...    ...    ...    ...    ...    ...    ...   \n",
            "37013  0.433454  ...  False  False  False  False  False  False  False  False   \n",
            "37014 -0.850829  ...  False  False  False  False  False  False  False  False   \n",
            "37015 -0.270431  ...  False  False  False  False  False   True  False  False   \n",
            "37016 -0.714293  ...  False  False  False  False  False  False  False  False   \n",
            "37017 -0.678336  ...  False  False  False  False  False  False  False  False   \n",
            "\n",
            "          46     47  \n",
            "0      False  False  \n",
            "1      False  False  \n",
            "2      False  False  \n",
            "3      False  False  \n",
            "4      False  False  \n",
            "...      ...    ...  \n",
            "37013  False  False  \n",
            "37014  False  False  \n",
            "37015  False  False  \n",
            "37016  False  False  \n",
            "37017  False  False  \n",
            "\n",
            "[37018 rows x 84 columns]\n",
            "84\n"
          ]
        }
      ],
      "source": [
        "out_features = max(df_train[\"WAIT_TIME_IN_2H\"]) + 1\n",
        "print(out_features)\n",
        "\n",
        "y = df_train[\"WAIT_TIME_IN_2H\"]\n",
        "print(y)\n",
        "\n",
        "x = df_train\n",
        "x.drop([\"WAIT_TIME_IN_2H\"], axis=1, inplace=True)\n",
        "print(x)\n",
        "\n",
        "in_features = len(x.columns)\n",
        "print(in_features)\n",
        "\n",
        "x_train, x_test, y_train, y_test = train_test_split(x, y, test_size=0.2, random_state=0)\n",
        "\n",
        "x_train = x_train.astype(float)\n",
        "x_test = x_test.astype(float)\n",
        "y_train = y_train.astype(int)\n",
        "y_test = y_test.astype(int)\n",
        "\n",
        "x_train = torch.tensor(x_train.values, dtype=torch.float64, device=device)\n",
        "x_test = torch.tensor(x_test.values, dtype=torch.float64, device=device)\n",
        "y_train = torch.tensor(y_train.values, dtype=torch.int64, device=device)\n",
        "y_test = torch.tensor(y_test.values, dtype=torch.int64, device=device)"
      ]
    },
    {
      "cell_type": "code",
      "execution_count": 5,
      "metadata": {
        "id": "nzKKu29x4waD"
      },
      "outputs": [],
      "source": [
        "test_dataset = TensorDataset(x_test, y_test)\n",
        "test_loader = DataLoader(test_dataset, batch_size=64, shuffle=True)"
      ]
    },
    {
      "cell_type": "code",
      "execution_count": 6,
      "metadata": {
        "id": "9Wh8vl9VsEha"
      },
      "outputs": [],
      "source": [
        "train_dataset = TensorDataset(x_train, y_train)\n",
        "train_loader = DataLoader(train_dataset, batch_size=64, shuffle=True)"
      ]
    },
    {
      "cell_type": "markdown",
      "metadata": {
        "id": "0I0PVoe1rMLD"
      },
      "source": [
        "utils"
      ]
    },
    {
      "cell_type": "code",
      "execution_count": 7,
      "metadata": {
        "id": "XdxrJw58rLQx"
      },
      "outputs": [],
      "source": [
        "def check_accuracy(loader, model):\n",
        "    num_correct = 0\n",
        "    num_samples = 0\n",
        "    model.eval()  # set model to evaluation mode\n",
        "    with torch.no_grad():\n",
        "        for x, y in loader:\n",
        "            x = x.to(device=device, dtype=dtype)  # move to device, e.g. GPU\n",
        "            y = y.to(device=device, dtype=torch.long)\n",
        "\n",
        "            y_res = model(x)\n",
        "            predictions = F.softmax(y_res, dim=1)\n",
        "            argmax_indices = torch.argmax(predictions, dim=1)\n",
        "\n",
        "            num_correct += torch.sum(torch.eq(argmax_indices, y))\n",
        "            num_samples += int(y_res.size()[0])\n",
        "\n",
        "        acc = float(num_correct) / num_samples\n",
        "        #print('Got %d / %d correct (%.2f)' % (num_correct, num_samples, 100 * acc))\n",
        "\n",
        "        return acc\n",
        "\n",
        "def check_rmse(x_test, y_test, model):\n",
        "    model.eval()\n",
        "    x_test = x_test.to(device=device, dtype=torch.float)\n",
        "    y_hat = torch.argmax(model(x_test), dim=1)\n",
        "    rmse = torch.sqrt(torch.sum((y_hat * 5 - y_test * 5)**2) / len(y_hat))\n",
        "    return float(rmse)\n",
        "\n",
        "def check_rmse_numeric(x_test, y_test, model):\n",
        "    model.eval()\n",
        "    x_test = x_test.to(device=device, dtype=torch.float)\n",
        "    y_hat = model(x_test)\n",
        "    rmse = torch.sqrt(torch.sum((y_hat * 5 - y_test * 5)**2) / len(y_hat))\n",
        "    return float(rmse)"
      ]
    },
    {
      "cell_type": "code",
      "execution_count": 8,
      "metadata": {
        "id": "U4NKT2o9r1mW"
      },
      "outputs": [],
      "source": [
        "def train_module(model, optimizer, x_train, y_train, rmse_function, epochs=1, batch_size=64, rmse_on_test = False, x_test=None, y_test=None):\n",
        "    train_dataset = TensorDataset(x_train, y_train)\n",
        "    train_loader = DataLoader(train_dataset, batch_size=batch_size, shuffle=True)\n",
        "\n",
        "    losses = []\n",
        "    rmses = []\n",
        "    rmses_test = []\n",
        "\n",
        "    model = model.to(device=device)\n",
        "    model.train()\n",
        "    for e in range(epochs):\n",
        "        for inputs, targets in train_loader:\n",
        "            inputs = inputs.to(device=device, dtype=torch.float)\n",
        "            outputs = model(inputs)\n",
        "\n",
        "            loss = criterion(outputs, targets)\n",
        "\n",
        "            optimizer.zero_grad()\n",
        "            loss.backward()\n",
        "\n",
        "            optimizer.step()\n",
        "\n",
        "        losses.append(loss.item())\n",
        "        current_rmse      = rmse_function(x_train, y_train, model)\n",
        "        current_rmse_test = rmse_function(x_test, y_test, model)\n",
        "\n",
        "        rmses.append(current_rmse)\n",
        "        rmses_test.append(current_rmse_test)\n",
        "\n",
        "        print(f'Epoch [{e+1}/{epochs}] -  Loss: {loss.item():.4f} - Rmse: {current_rmse:.4f}')\n",
        "        if(rmse_on_test): print(f'\\t \\t \\t  test rmse: {current_rmse_test:.4f}')\n",
        "\n",
        "    return losses, rmses, rmses_test"
      ]
    },
    {
      "cell_type": "markdown",
      "metadata": {
        "id": "DSfboEzurNP4"
      },
      "source": [
        "training"
      ]
    },
    {
      "cell_type": "code",
      "execution_count": 98,
      "metadata": {
        "id": "eqVOXyYw1QKW"
      },
      "outputs": [],
      "source": [
        "class Swish(nn.Module):\n",
        "  def forward(self, x):\n",
        "    return x*torch.sigmoid(x)"
      ]
    },
    {
      "cell_type": "code",
      "execution_count": 21,
      "metadata": {
        "colab": {
          "base_uri": "https://localhost:8080/"
        },
        "id": "AQZJtbcW4V9q",
        "outputId": "6b5ab7aa-cae8-4112-f374-bf5a1834270a"
      },
      "outputs": [
        {
          "name": "stdout",
          "output_type": "stream",
          "text": [
            "Epoch [1/100] -  Loss: 2.1487 - Rmse: 11.0262\n",
            "\t \t \t  test rmse: 11.1941\n",
            "Epoch [2/100] -  Loss: 2.1995 - Rmse: 10.2701\n",
            "\t \t \t  test rmse: 10.5168\n",
            "Epoch [3/100] -  Loss: 1.7948 - Rmse: 9.9709\n",
            "\t \t \t  test rmse: 10.2483\n",
            "Epoch [4/100] -  Loss: 1.9183 - Rmse: 9.8253\n",
            "\t \t \t  test rmse: 10.0660\n",
            "Epoch [5/100] -  Loss: 1.6708 - Rmse: 10.3226\n",
            "\t \t \t  test rmse: 10.5843\n",
            "Epoch [6/100] -  Loss: 1.8228 - Rmse: 10.4895\n",
            "\t \t \t  test rmse: 10.7094\n",
            "Epoch [7/100] -  Loss: 1.7665 - Rmse: 9.6847\n",
            "\t \t \t  test rmse: 10.0650\n",
            "Epoch [8/100] -  Loss: 1.5443 - Rmse: 9.2763\n",
            "\t \t \t  test rmse: 9.7001\n",
            "Epoch [9/100] -  Loss: 1.4328 - Rmse: 9.6526\n",
            "\t \t \t  test rmse: 10.0522\n",
            "Epoch [10/100] -  Loss: 1.3044 - Rmse: 9.6684\n",
            "\t \t \t  test rmse: 10.0638\n",
            "Epoch [11/100] -  Loss: 1.6606 - Rmse: 9.5258\n",
            "\t \t \t  test rmse: 9.9730\n",
            "Epoch [12/100] -  Loss: 1.5653 - Rmse: 9.4497\n",
            "\t \t \t  test rmse: 9.8734\n",
            "Epoch [13/100] -  Loss: 1.6381 - Rmse: 9.5132\n",
            "\t \t \t  test rmse: 10.0263\n",
            "Epoch [14/100] -  Loss: 1.4074 - Rmse: 9.3494\n",
            "\t \t \t  test rmse: 9.9307\n",
            "Epoch [15/100] -  Loss: 1.9098 - Rmse: 9.5058\n",
            "\t \t \t  test rmse: 10.0118\n",
            "Epoch [16/100] -  Loss: 1.7125 - Rmse: 9.2959\n",
            "\t \t \t  test rmse: 9.8563\n",
            "Epoch [17/100] -  Loss: 1.5685 - Rmse: 9.5662\n",
            "\t \t \t  test rmse: 10.0256\n",
            "Epoch [18/100] -  Loss: 1.8733 - Rmse: 9.5412\n",
            "\t \t \t  test rmse: 10.1868\n",
            "Epoch [19/100] -  Loss: 1.5862 - Rmse: 9.2821\n",
            "\t \t \t  test rmse: 9.7039\n",
            "Epoch [20/100] -  Loss: 1.5602 - Rmse: 9.4577\n",
            "\t \t \t  test rmse: 10.0996\n",
            "Epoch [21/100] -  Loss: 2.0136 - Rmse: 9.2164\n",
            "\t \t \t  test rmse: 9.8524\n",
            "Epoch [22/100] -  Loss: 1.6483 - Rmse: 9.2185\n",
            "\t \t \t  test rmse: 9.6999\n",
            "Epoch [23/100] -  Loss: 1.7978 - Rmse: 9.1735\n",
            "\t \t \t  test rmse: 9.8056\n",
            "Epoch [24/100] -  Loss: 1.5563 - Rmse: 9.2495\n",
            "\t \t \t  test rmse: 9.8098\n",
            "Epoch [25/100] -  Loss: 1.4509 - Rmse: 9.4398\n",
            "\t \t \t  test rmse: 9.9863\n",
            "Epoch [26/100] -  Loss: 1.5868 - Rmse: 9.0987\n",
            "\t \t \t  test rmse: 9.7414\n",
            "Epoch [27/100] -  Loss: 1.6059 - Rmse: 9.2555\n",
            "\t \t \t  test rmse: 9.9655\n",
            "Epoch [28/100] -  Loss: 1.3593 - Rmse: 9.3781\n",
            "\t \t \t  test rmse: 9.9538\n",
            "Epoch [29/100] -  Loss: 1.6560 - Rmse: 9.1168\n",
            "\t \t \t  test rmse: 9.7603\n",
            "Epoch [30/100] -  Loss: 1.5467 - Rmse: 9.1499\n",
            "\t \t \t  test rmse: 9.6727\n",
            "Epoch [31/100] -  Loss: 1.7503 - Rmse: 9.2374\n",
            "\t \t \t  test rmse: 9.6905\n",
            "Epoch [32/100] -  Loss: 1.6236 - Rmse: 9.5997\n",
            "\t \t \t  test rmse: 10.1478\n",
            "Epoch [33/100] -  Loss: 1.7626 - Rmse: 9.1361\n",
            "\t \t \t  test rmse: 9.6805\n",
            "Epoch [34/100] -  Loss: 1.4191 - Rmse: 9.1574\n",
            "\t \t \t  test rmse: 9.7820\n",
            "Epoch [35/100] -  Loss: 1.5850 - Rmse: 9.0321\n",
            "\t \t \t  test rmse: 9.7034\n",
            "Epoch [36/100] -  Loss: 1.7567 - Rmse: 9.2168\n",
            "\t \t \t  test rmse: 9.8806\n",
            "Epoch [37/100] -  Loss: 1.5035 - Rmse: 9.1703\n",
            "\t \t \t  test rmse: 9.7589\n",
            "Epoch [38/100] -  Loss: 1.6851 - Rmse: 9.2475\n",
            "\t \t \t  test rmse: 9.9594\n",
            "Epoch [39/100] -  Loss: 1.6342 - Rmse: 9.0610\n",
            "\t \t \t  test rmse: 9.7312\n",
            "Epoch [40/100] -  Loss: 1.5118 - Rmse: 9.1655\n",
            "\t \t \t  test rmse: 9.9626\n",
            "Epoch [41/100] -  Loss: 1.4506 - Rmse: 9.2299\n",
            "\t \t \t  test rmse: 9.9858\n",
            "Epoch [42/100] -  Loss: 1.7267 - Rmse: 9.0963\n",
            "\t \t \t  test rmse: 9.6835\n",
            "Epoch [43/100] -  Loss: 1.7737 - Rmse: 8.9880\n",
            "\t \t \t  test rmse: 9.6783\n",
            "Epoch [44/100] -  Loss: 1.6935 - Rmse: 9.0739\n",
            "\t \t \t  test rmse: 9.7091\n",
            "Epoch [45/100] -  Loss: 1.4530 - Rmse: 9.2100\n",
            "\t \t \t  test rmse: 9.8218\n",
            "Epoch [46/100] -  Loss: 1.6995 - Rmse: 9.1735\n",
            "\t \t \t  test rmse: 10.0260\n",
            "Epoch [47/100] -  Loss: 1.8408 - Rmse: 8.9647\n",
            "\t \t \t  test rmse: 9.5393\n",
            "Epoch [48/100] -  Loss: 1.2618 - Rmse: 9.0449\n",
            "\t \t \t  test rmse: 9.7459\n",
            "Epoch [49/100] -  Loss: 1.5654 - Rmse: 8.9152\n",
            "\t \t \t  test rmse: 9.6701\n",
            "Epoch [50/100] -  Loss: 1.4658 - Rmse: 9.0941\n",
            "\t \t \t  test rmse: 9.8405\n",
            "Epoch [51/100] -  Loss: 1.4517 - Rmse: 8.8887\n",
            "\t \t \t  test rmse: 9.5313\n",
            "Epoch [52/100] -  Loss: 1.3707 - Rmse: 8.9497\n",
            "\t \t \t  test rmse: 9.5549\n",
            "Epoch [53/100] -  Loss: 1.4748 - Rmse: 9.2168\n",
            "\t \t \t  test rmse: 9.8172\n",
            "Epoch [54/100] -  Loss: 1.5298 - Rmse: 9.0065\n",
            "\t \t \t  test rmse: 9.6872\n",
            "Epoch [55/100] -  Loss: 1.6217 - Rmse: 8.9340\n",
            "\t \t \t  test rmse: 9.4805\n",
            "Epoch [56/100] -  Loss: 1.5568 - Rmse: 8.9377\n",
            "\t \t \t  test rmse: 9.5996\n",
            "Epoch [57/100] -  Loss: 1.7285 - Rmse: 8.9583\n",
            "\t \t \t  test rmse: 9.6498\n",
            "Epoch [58/100] -  Loss: 1.4661 - Rmse: 8.8138\n",
            "\t \t \t  test rmse: 9.6305\n",
            "Epoch [59/100] -  Loss: 1.5523 - Rmse: 8.8102\n",
            "\t \t \t  test rmse: 9.5776\n",
            "Epoch [60/100] -  Loss: 1.5539 - Rmse: 8.8830\n",
            "\t \t \t  test rmse: 9.4958\n",
            "Epoch [61/100] -  Loss: 1.5780 - Rmse: 9.1351\n",
            "\t \t \t  test rmse: 9.9792\n",
            "Epoch [62/100] -  Loss: 1.5566 - Rmse: 8.9851\n",
            "\t \t \t  test rmse: 9.7181\n",
            "Epoch [63/100] -  Loss: 1.5565 - Rmse: 8.9063\n",
            "\t \t \t  test rmse: 9.5237\n",
            "Epoch [64/100] -  Loss: 1.4362 - Rmse: 8.8641\n",
            "\t \t \t  test rmse: 9.6405\n",
            "Epoch [65/100] -  Loss: 1.6495 - Rmse: 8.7348\n",
            "\t \t \t  test rmse: 9.5757\n",
            "Epoch [66/100] -  Loss: 1.4167 - Rmse: 8.7760\n",
            "\t \t \t  test rmse: 9.6016\n",
            "Epoch [67/100] -  Loss: 1.5535 - Rmse: 8.9859\n",
            "\t \t \t  test rmse: 9.6346\n",
            "Epoch [68/100] -  Loss: 1.5885 - Rmse: 8.9243\n",
            "\t \t \t  test rmse: 9.6426\n",
            "Epoch [69/100] -  Loss: 1.5097 - Rmse: 8.9793\n",
            "\t \t \t  test rmse: 9.7018\n",
            "Epoch [70/100] -  Loss: 1.5469 - Rmse: 9.0942\n",
            "\t \t \t  test rmse: 9.7891\n",
            "Epoch [71/100] -  Loss: 1.5115 - Rmse: 9.0832\n",
            "\t \t \t  test rmse: 9.7863\n",
            "Epoch [72/100] -  Loss: 1.1817 - Rmse: 9.0213\n",
            "\t \t \t  test rmse: 9.8421\n",
            "Epoch [73/100] -  Loss: 1.4382 - Rmse: 8.8620\n",
            "\t \t \t  test rmse: 9.6818\n",
            "Epoch [74/100] -  Loss: 1.2143 - Rmse: 8.8113\n",
            "\t \t \t  test rmse: 9.4750\n",
            "Epoch [75/100] -  Loss: 1.6713 - Rmse: 8.9049\n",
            "\t \t \t  test rmse: 9.5624\n",
            "Epoch [76/100] -  Loss: 1.5264 - Rmse: 8.9712\n",
            "\t \t \t  test rmse: 9.7939\n",
            "Epoch [77/100] -  Loss: 1.5199 - Rmse: 8.8930\n",
            "\t \t \t  test rmse: 9.7244\n",
            "Epoch [78/100] -  Loss: 1.5387 - Rmse: 8.7214\n",
            "\t \t \t  test rmse: 9.5319\n",
            "Epoch [79/100] -  Loss: 1.3043 - Rmse: 8.9795\n",
            "\t \t \t  test rmse: 9.8532\n",
            "Epoch [80/100] -  Loss: 1.7604 - Rmse: 9.1189\n",
            "\t \t \t  test rmse: 9.8939\n",
            "Epoch [81/100] -  Loss: 1.4552 - Rmse: 8.7998\n",
            "\t \t \t  test rmse: 9.6816\n",
            "Epoch [82/100] -  Loss: 1.4004 - Rmse: 8.8333\n",
            "\t \t \t  test rmse: 9.6354\n",
            "Epoch [83/100] -  Loss: 1.4960 - Rmse: 8.8873\n",
            "\t \t \t  test rmse: 9.7239\n",
            "Epoch [84/100] -  Loss: 1.3593 - Rmse: 8.9292\n",
            "\t \t \t  test rmse: 9.7002\n",
            "Epoch [85/100] -  Loss: 1.4633 - Rmse: 8.8330\n",
            "\t \t \t  test rmse: 9.5054\n",
            "Epoch [86/100] -  Loss: 1.4069 - Rmse: 8.8284\n",
            "\t \t \t  test rmse: 9.7254\n",
            "Epoch [87/100] -  Loss: 1.9418 - Rmse: 8.9161\n",
            "\t \t \t  test rmse: 9.7403\n",
            "Epoch [88/100] -  Loss: 1.6140 - Rmse: 8.8910\n",
            "\t \t \t  test rmse: 9.7014\n",
            "Epoch [89/100] -  Loss: 1.6773 - Rmse: 8.7931\n",
            "\t \t \t  test rmse: 9.5267\n",
            "Epoch [90/100] -  Loss: 1.5678 - Rmse: 8.6633\n",
            "\t \t \t  test rmse: 9.5338\n",
            "Epoch [91/100] -  Loss: 1.6716 - Rmse: 8.8027\n",
            "\t \t \t  test rmse: 9.6183\n",
            "Epoch [92/100] -  Loss: 1.5807 - Rmse: 8.6342\n",
            "\t \t \t  test rmse: 9.4463\n",
            "Epoch [93/100] -  Loss: 1.3580 - Rmse: 8.9016\n",
            "\t \t \t  test rmse: 9.6545\n",
            "Epoch [94/100] -  Loss: 1.3635 - Rmse: 8.8180\n",
            "\t \t \t  test rmse: 9.6198\n",
            "Epoch [95/100] -  Loss: 1.4917 - Rmse: 9.0732\n",
            "\t \t \t  test rmse: 9.7919\n",
            "Epoch [96/100] -  Loss: 1.4331 - Rmse: 8.7216\n",
            "\t \t \t  test rmse: 9.6412\n",
            "Epoch [97/100] -  Loss: 1.3824 - Rmse: 8.6341\n",
            "\t \t \t  test rmse: 9.4536\n",
            "Epoch [98/100] -  Loss: 1.5898 - Rmse: 8.9028\n",
            "\t \t \t  test rmse: 9.5973\n",
            "Epoch [99/100] -  Loss: 1.6872 - Rmse: 8.6974\n",
            "\t \t \t  test rmse: 9.5037\n",
            "Epoch [100/100] -  Loss: 1.4738 - Rmse: 8.7289\n",
            "\t \t \t  test rmse: 9.4370\n"
          ]
        }
      ],
      "source": [
        "model = nn.Sequential(\n",
        "    nn.Linear(in_features, 32),\n",
        "    nn.BatchNorm1d(32),\n",
        "    nn.ReLU(),\n",
        "    nn.Dropout(p=0.2),\n",
        "    nn.Linear(32, 32),\n",
        "    nn.BatchNorm1d(32),\n",
        "    nn.ReLU(),\n",
        "    nn.Dropout(p=0.2),\n",
        "    nn.Linear(32, out_features),\n",
        ")\n",
        "model.to(device=device)\n",
        "optimizer = optim.SGD(model.parameters(), lr=8e-2, momentum=0.90, nesterov = True)\n",
        "criterion = nn.CrossEntropyLoss()\n",
        "\n",
        "num_epochs = 100\n",
        "\n",
        "losses, rmses, rmses_test = train_module(model, optimizer, x_train, y_train, check_rmse ,num_epochs, 128, True, x_test, y_test)"
      ]
    },
    {
      "cell_type": "code",
      "execution_count": 16,
      "metadata": {
        "colab": {
          "base_uri": "https://localhost:8080/",
          "height": 467
        },
        "id": "VGIKeDf1yHPN",
        "outputId": "2cadf149-a94c-4180-dc9b-0aee187306f7"
      },
      "outputs": [
        {
          "data": {
            "text/plain": [
              "<matplotlib.legend.Legend at 0x1579bb190>"
            ]
          },
          "execution_count": 16,
          "metadata": {},
          "output_type": "execute_result"
        },
        {
          "data": {
            "image/png": "[encoded data removed]",
            "text/plain": [
              "<Figure size 640x480 with 1 Axes>"
            ]
          },
          "metadata": {},
          "output_type": "display_data"
        }
      ],
      "source": [
        "plt.plot(losses, color=\"orange\")\n",
        "plt.plot(rmses, color=\"blue\")\n",
        "plt.plot(rmses_test, color=\"red\")\n",
        "plt.legend([\"loss\", \"rmse_train\", \"rmses_test\"])"
      ]
    },
    {
      "cell_type": "code",
      "execution_count": 11,
      "metadata": {
        "colab": {
          "base_uri": "https://localhost:8080/"
        },
        "id": "WxAg_HKQ0his",
        "outputId": "1a430804-a2bf-4a78-df34-f0d713cfba98"
      },
      "outputs": [
        {
          "name": "stdout",
          "output_type": "stream",
          "text": [
            "0.880867157425542\n",
            "0.5086439762290653\n"
          ]
        }
      ],
      "source": [
        "train_dataset = TensorDataset(x_train, y_train)\n",
        "train_loader = DataLoader(train_dataset, batch_size=128, shuffle=True)\n",
        "\n",
        "test_dataset = TensorDataset(x_test, y_test)\n",
        "test_loader = DataLoader(test_dataset, batch_size=128, shuffle=True)\n",
        "\n",
        "print(check_accuracy(train_loader, model))\n",
        "print(check_accuracy(test_loader, model))"
      ]
    },
    {
      "cell_type": "markdown",
      "metadata": {
        "id": "b-s0zJ7cuLQc"
      },
      "source": [
        "accuracy vs lr"
      ]
    },
    {
      "cell_type": "code",
      "execution_count": 17,
      "metadata": {
        "colab": {
          "base_uri": "https://localhost:8080/",
          "height": 452
        },
        "id": "jC6saSR-uPDI",
        "outputId": "605d69b6-09f1-457b-f1f4-681ac5cad027"
      },
      "outputs": [
        {
          "name": "stdout",
          "output_type": "stream",
          "text": [
            "Epoch [1/5] -  Loss: 3.4709 - Rmse: 82.5171\n",
            "\t \t \t  test rmse: 83.2219\n",
            "Epoch [2/5] -  Loss: 3.5032 - Rmse: 80.4270\n",
            "\t \t \t  test rmse: 80.9883\n",
            "Epoch [3/5] -  Loss: 3.4751 - Rmse: 78.2548\n",
            "\t \t \t  test rmse: 78.4266\n",
            "Epoch [4/5] -  Loss: 3.3968 - Rmse: 75.8028\n",
            "\t \t \t  test rmse: 75.7078\n",
            "Epoch [5/5] -  Loss: 3.3211 - Rmse: 73.2134\n",
            "\t \t \t  test rmse: 72.9911\n",
            "lr 1e-05 / rmse 72.99108123779297\n",
            "Epoch [1/5] -  Loss: 3.6458 - Rmse: 69.7326\n",
            "\t \t \t  test rmse: 70.2717\n",
            "Epoch [2/5] -  Loss: 3.3199 - Rmse: 55.9890\n",
            "\t \t \t  test rmse: 56.9167\n",
            "Epoch [3/5] -  Loss: 3.2011 - Rmse: 30.5287\n",
            "\t \t \t  test rmse: 30.7865\n",
            "Epoch [4/5] -  Loss: 2.9331 - Rmse: 17.6470\n",
            "\t \t \t  test rmse: 17.4804\n",
            "Epoch [5/5] -  Loss: 2.6198 - Rmse: 15.7544\n",
            "\t \t \t  test rmse: 15.7447\n",
            "lr 0.0001 / rmse 15.744726181030273\n",
            "Epoch [1/5] -  Loss: 2.7499 - Rmse: 15.7777\n",
            "\t \t \t  test rmse: 15.7831\n",
            "Epoch [2/5] -  Loss: 2.2366 - Rmse: 13.2851\n",
            "\t \t \t  test rmse: 13.1777\n",
            "Epoch [3/5] -  Loss: 2.2461 - Rmse: 12.6135\n",
            "\t \t \t  test rmse: 12.5095\n",
            "Epoch [4/5] -  Loss: 1.9234 - Rmse: 12.0817\n",
            "\t \t \t  test rmse: 12.0493\n",
            "Epoch [5/5] -  Loss: 2.0246 - Rmse: 11.9249\n",
            "\t \t \t  test rmse: 11.8653\n",
            "lr 0.001 / rmse 11.865302085876465\n",
            "Epoch [1/5] -  Loss: 2.2060 - Rmse: 12.5912\n",
            "\t \t \t  test rmse: 12.6728\n",
            "Epoch [2/5] -  Loss: 1.9293 - Rmse: 11.3542\n",
            "\t \t \t  test rmse: 11.4157\n",
            "Epoch [3/5] -  Loss: 1.9485 - Rmse: 11.1298\n",
            "\t \t \t  test rmse: 11.2521\n",
            "Epoch [4/5] -  Loss: 1.8293 - Rmse: 10.7390\n",
            "\t \t \t  test rmse: 10.9008\n",
            "Epoch [5/5] -  Loss: 1.6787 - Rmse: 10.5607\n",
            "\t \t \t  test rmse: 10.7450\n",
            "lr 0.005 / rmse 10.744975090026855\n",
            "Epoch [1/5] -  Loss: 2.1313 - Rmse: 11.8472\n",
            "\t \t \t  test rmse: 11.8035\n",
            "Epoch [2/5] -  Loss: 1.8212 - Rmse: 11.0251\n",
            "\t \t \t  test rmse: 11.2305\n",
            "Epoch [3/5] -  Loss: 1.9342 - Rmse: 10.6603\n",
            "\t \t \t  test rmse: 10.9314\n",
            "Epoch [4/5] -  Loss: 1.6476 - Rmse: 10.1331\n",
            "\t \t \t  test rmse: 10.3140\n",
            "Epoch [5/5] -  Loss: 1.7998 - Rmse: 10.2976\n",
            "\t \t \t  test rmse: 10.4511\n",
            "lr 0.01 / rmse 10.451064109802246\n",
            "Epoch [1/5] -  Loss: 1.9442 - Rmse: 11.0032\n",
            "\t \t \t  test rmse: 11.2012\n",
            "Epoch [2/5] -  Loss: 2.0635 - Rmse: 10.6852\n",
            "\t \t \t  test rmse: 10.9195\n",
            "Epoch [3/5] -  Loss: 1.9561 - Rmse: 10.0217\n",
            "\t \t \t  test rmse: 10.2835\n",
            "Epoch [4/5] -  Loss: 1.9289 - Rmse: 10.2318\n",
            "\t \t \t  test rmse: 10.5192\n",
            "Epoch [5/5] -  Loss: 1.6766 - Rmse: 9.8305\n",
            "\t \t \t  test rmse: 10.1792\n",
            "lr 0.03 / rmse 10.179208755493164\n",
            "Epoch [1/5] -  Loss: 1.9612 - Rmse: 11.1184\n",
            "\t \t \t  test rmse: 11.2592\n",
            "Epoch [2/5] -  Loss: 1.8522 - Rmse: 10.9518\n",
            "\t \t \t  test rmse: 11.0734\n",
            "Epoch [3/5] -  Loss: 1.8350 - Rmse: 10.3817\n",
            "\t \t \t  test rmse: 10.4917\n",
            "Epoch [4/5] -  Loss: 1.5969 - Rmse: 10.2169\n",
            "\t \t \t  test rmse: 10.6080\n",
            "Epoch [5/5] -  Loss: 1.5293 - Rmse: 9.9972\n",
            "\t \t \t  test rmse: 10.3481\n",
            "lr 0.05 / rmse 10.348140716552734\n",
            "Epoch [1/5] -  Loss: 1.8210 - Rmse: 10.8541\n",
            "\t \t \t  test rmse: 10.9014\n",
            "Epoch [2/5] -  Loss: 1.7981 - Rmse: 10.5125\n",
            "\t \t \t  test rmse: 10.6531\n",
            "Epoch [3/5] -  Loss: 1.8620 - Rmse: 10.1227\n",
            "\t \t \t  test rmse: 10.3491\n",
            "Epoch [4/5] -  Loss: 1.8043 - Rmse: 10.1499\n",
            "\t \t \t  test rmse: 10.2603\n",
            "Epoch [5/5] -  Loss: 1.6541 - Rmse: 9.7579\n",
            "\t \t \t  test rmse: 9.9746\n",
            "lr 0.08 / rmse 9.97464370727539\n",
            "Epoch [1/5] -  Loss: 1.9532 - Rmse: 11.0544\n",
            "\t \t \t  test rmse: 11.1897\n",
            "Epoch [2/5] -  Loss: 1.8824 - Rmse: 10.2200\n",
            "\t \t \t  test rmse: 10.3388\n",
            "Epoch [3/5] -  Loss: 1.5591 - Rmse: 10.5460\n",
            "\t \t \t  test rmse: 10.7828\n",
            "Epoch [4/5] -  Loss: 1.6312 - Rmse: 10.3635\n",
            "\t \t \t  test rmse: 10.7113\n",
            "Epoch [5/5] -  Loss: 1.8266 - Rmse: 9.6890\n",
            "\t \t \t  test rmse: 10.0103\n",
            "lr 0.1 / rmse 10.010293006896973\n",
            "Epoch [1/5] -  Loss: 1.9820 - Rmse: 10.8232\n",
            "\t \t \t  test rmse: 11.0056\n",
            "Epoch [2/5] -  Loss: 2.0018 - Rmse: 10.5416\n",
            "\t \t \t  test rmse: 10.7148\n",
            "Epoch [3/5] -  Loss: 1.8136 - Rmse: 10.0351\n",
            "\t \t \t  test rmse: 10.2689\n",
            "Epoch [4/5] -  Loss: 1.8864 - Rmse: 9.6479\n",
            "\t \t \t  test rmse: 9.8015\n",
            "Epoch [5/5] -  Loss: 1.6928 - Rmse: 10.4233\n",
            "\t \t \t  test rmse: 10.7939\n",
            "lr 0.5 / rmse 10.793885231018066\n"
          ]
        },
        {
          "name": "stderr",
          "output_type": "stream",
          "text": [
            "/var/folders/n9/pd4m7bps7_b_427s0yfq1m600000gn/T/ipykernel_46808/3552250896.py:28: UserWarning: Matplotlib is currently using module://matplotlib_inline.backend_inline, which is a non-GUI backend, so cannot show the figure.\n",
            "  fig.show()\n"
          ]
        },
        {
          "data": {
            "image/png": "[encoded data removed]",
            "text/plain": [
              "<Figure size 1100x600 with 1 Axes>"
            ]
          },
          "metadata": {},
          "output_type": "display_data"
        }
      ],
      "source": [
        "lrs = [1e-5, 1e-4, 1e-3, 5e-3, 1e-2, 3e-2, 5e-2, 8e-2, 1e-1, 5e-1]\n",
        "rmses = []\n",
        "\n",
        "for lr in lrs:\n",
        "  model = nn.Sequential(\n",
        "    nn.Linear(in_features, 64),\n",
        "    nn.BatchNorm1d(64),\n",
        "    nn.ReLU(),\n",
        "    nn.Dropout(p=0.2),\n",
        "    nn.Linear(64, 64),\n",
        "    nn.BatchNorm1d(64),\n",
        "    nn.ReLU(),\n",
        "    nn.Dropout(p=0.2),\n",
        "    nn.Linear(64, out_features),\n",
        "  )\n",
        "  optimizer = optim.SGD(model.parameters(), momentum=0.8, lr=lr, nesterov=True)\n",
        "  criterion = nn.CrossEntropyLoss()\n",
        "  _, _, rmses_test = train_module(model, optimizer, x_train, y_train, check_rmse , 5, 128, True, x_test, y_test)\n",
        "  rmse = rmses_test[-1]\n",
        "  rmses.append(rmse)\n",
        "  print(f\"lr {lr} / rmse {rmse}\")\n",
        "\n",
        "fig, ax = plt.subplots(figsize=(11, 6))\n",
        "ax.plot(lrs, rmses, label='lr')\n",
        "ax.set_xscale('log')\n",
        "ax.legend()\n",
        "ax.set_title(\"rmses with learning-rate\")\n",
        "fig.show()"
      ]
    },
    {
      "cell_type": "code",
      "execution_count": 18,
      "metadata": {
        "colab": {
          "base_uri": "https://localhost:8080/",
          "height": 1000
        },
        "id": "qOVmb5Av0O2e",
        "outputId": "33e22654-4aed-45ae-8b68-9e7be345fce3"
      },
      "outputs": [
        {
          "name": "stdout",
          "output_type": "stream",
          "text": [
            "Epoch [1/5] -  Loss: 2.1806 - Rmse: 11.8218\n",
            "\t \t \t  test rmse: 11.9073\n",
            "Epoch [2/5] -  Loss: 1.7930 - Rmse: 10.8074\n",
            "\t \t \t  test rmse: 10.9256\n",
            "Epoch [3/5] -  Loss: 1.8064 - Rmse: 10.6448\n",
            "\t \t \t  test rmse: 10.7028\n",
            "Epoch [4/5] -  Loss: 1.8747 - Rmse: 10.6868\n",
            "\t \t \t  test rmse: 11.0735\n",
            "Epoch [5/5] -  Loss: 1.7520 - Rmse: 10.8363\n",
            "\t \t \t  test rmse: 11.0717\n",
            "momentum 0.1 / rmse 11.071693420410156\n",
            "Epoch [1/5] -  Loss: 2.0150 - Rmse: 11.5682\n",
            "\t \t \t  test rmse: 11.5645\n",
            "Epoch [2/5] -  Loss: 2.0684 - Rmse: 11.2504\n",
            "\t \t \t  test rmse: 11.5234\n",
            "Epoch [3/5] -  Loss: 1.8729 - Rmse: 10.2497\n",
            "\t \t \t  test rmse: 10.4719\n",
            "Epoch [4/5] -  Loss: 1.8670 - Rmse: 10.0643\n",
            "\t \t \t  test rmse: 10.3352\n",
            "Epoch [5/5] -  Loss: 1.4708 - Rmse: 10.5429\n",
            "\t \t \t  test rmse: 10.8862\n",
            "momentum 0.3 / rmse 10.886241912841797\n",
            "Epoch [1/5] -  Loss: 1.9621 - Rmse: 11.3662\n",
            "\t \t \t  test rmse: 11.4871\n",
            "Epoch [2/5] -  Loss: 1.8967 - Rmse: 10.6529\n",
            "\t \t \t  test rmse: 10.7944\n",
            "Epoch [3/5] -  Loss: 1.7819 - Rmse: 10.6399\n",
            "\t \t \t  test rmse: 11.0102\n",
            "Epoch [4/5] -  Loss: 1.7169 - Rmse: 10.2315\n",
            "\t \t \t  test rmse: 10.5749\n",
            "Epoch [5/5] -  Loss: 1.6402 - Rmse: 10.9909\n",
            "\t \t \t  test rmse: 11.4516\n",
            "momentum 0.5 / rmse 11.45157527923584\n",
            "Epoch [1/5] -  Loss: 1.7627 - Rmse: 11.1771\n",
            "\t \t \t  test rmse: 11.2995\n",
            "Epoch [2/5] -  Loss: 1.9564 - Rmse: 10.6093\n",
            "\t \t \t  test rmse: 10.8114\n",
            "Epoch [3/5] -  Loss: 1.7740 - Rmse: 10.2032\n",
            "\t \t \t  test rmse: 10.3705\n",
            "Epoch [4/5] -  Loss: 1.8280 - Rmse: 10.2319\n",
            "\t \t \t  test rmse: 10.5439\n",
            "Epoch [5/5] -  Loss: 1.7423 - Rmse: 9.8074\n",
            "\t \t \t  test rmse: 9.9266\n",
            "momentum 0.7 / rmse 9.926629066467285\n",
            "Epoch [1/5] -  Loss: 2.0681 - Rmse: 10.8452\n",
            "\t \t \t  test rmse: 10.9694\n",
            "Epoch [2/5] -  Loss: 1.7387 - Rmse: 10.5855\n",
            "\t \t \t  test rmse: 10.7588\n",
            "Epoch [3/5] -  Loss: 1.7702 - Rmse: 10.2754\n",
            "\t \t \t  test rmse: 10.4857\n",
            "Epoch [4/5] -  Loss: 1.4270 - Rmse: 9.8419\n",
            "\t \t \t  test rmse: 10.0598\n",
            "Epoch [5/5] -  Loss: 1.4108 - Rmse: 9.6052\n",
            "\t \t \t  test rmse: 10.0287\n",
            "momentum 0.9 / rmse 10.02865982055664\n",
            "Epoch [1/5] -  Loss: 2.0376 - Rmse: 11.0711\n",
            "\t \t \t  test rmse: 11.2463\n",
            "Epoch [2/5] -  Loss: 1.7098 - Rmse: 10.0448\n",
            "\t \t \t  test rmse: 10.2098\n",
            "Epoch [3/5] -  Loss: 1.3929 - Rmse: 10.2526\n",
            "\t \t \t  test rmse: 10.6056\n",
            "Epoch [4/5] -  Loss: 1.6011 - Rmse: 9.5484\n",
            "\t \t \t  test rmse: 9.6971\n",
            "Epoch [5/5] -  Loss: 1.6447 - Rmse: 9.8099\n",
            "\t \t \t  test rmse: 10.2514\n",
            "momentum 0.95 / rmse 10.251431465148926\n",
            "Epoch [1/5] -  Loss: 1.7670 - Rmse: 11.5517\n",
            "\t \t \t  test rmse: 11.6334\n",
            "Epoch [2/5] -  Loss: 1.7254 - Rmse: 10.5579\n",
            "\t \t \t  test rmse: 10.7351\n",
            "Epoch [3/5] -  Loss: 1.9426 - Rmse: 10.1668\n",
            "\t \t \t  test rmse: 10.2800\n",
            "Epoch [4/5] -  Loss: 2.2255 - Rmse: 10.0506\n",
            "\t \t \t  test rmse: 10.2597\n",
            "Epoch [5/5] -  Loss: 1.8164 - Rmse: 9.7578\n",
            "\t \t \t  test rmse: 9.9502\n",
            "momentum 0.99 / rmse 9.950241088867188\n",
            "Epoch [1/5] -  Loss: 2.2773 - Rmse: 11.0714\n",
            "\t \t \t  test rmse: 11.0674\n",
            "Epoch [2/5] -  Loss: 2.0164 - Rmse: 11.4382\n",
            "\t \t \t  test rmse: 11.5384\n",
            "Epoch [3/5] -  Loss: 2.2129 - Rmse: 10.8362\n",
            "\t \t \t  test rmse: 10.8954\n",
            "Epoch [4/5] -  Loss: 2.5457 - Rmse: 11.4960\n",
            "\t \t \t  test rmse: 11.5277\n",
            "Epoch [5/5] -  Loss: nan - Rmse: 27.6037\n",
            "\t \t \t  test rmse: 27.5349\n",
            "momentum 0.999 / rmse 27.534910202026367\n",
            "Epoch [1/5] -  Loss: 2.0104 - Rmse: 11.8277\n",
            "\t \t \t  test rmse: 11.9615\n",
            "Epoch [2/5] -  Loss: 1.9614 - Rmse: 11.5890\n",
            "\t \t \t  test rmse: 11.6020\n",
            "Epoch [3/5] -  Loss: 2.7815 - Rmse: 16.5639\n",
            "\t \t \t  test rmse: 16.3785\n",
            "Epoch [4/5] -  Loss: nan - Rmse: 27.6037\n",
            "\t \t \t  test rmse: 27.5349\n",
            "Epoch [5/5] -  Loss: nan - Rmse: 27.6037\n",
            "\t \t \t  test rmse: 27.5349\n",
            "momentum 0.9999 / rmse 27.534910202026367\n",
            "Epoch [1/5] -  Loss: 2.1643 - Rmse: 11.8061\n",
            "\t \t \t  test rmse: 11.9927\n",
            "Epoch [2/5] -  Loss: 2.2970 - Rmse: 11.3451\n",
            "\t \t \t  test rmse: 11.2873\n",
            "Epoch [3/5] -  Loss: 2.7372 - Rmse: 14.4522\n",
            "\t \t \t  test rmse: 14.1187\n",
            "Epoch [4/5] -  Loss: nan - Rmse: 27.6037\n",
            "\t \t \t  test rmse: 27.5349\n",
            "Epoch [5/5] -  Loss: nan - Rmse: 27.6037\n",
            "\t \t \t  test rmse: 27.5349\n",
            "momentum 0.99999 / rmse 27.534910202026367\n"
          ]
        },
        {
          "ename": "ValueError",
          "evalue": "x and y must have same first dimension, but have shapes (1,) and (10,)",
          "output_type": "error",
          "traceback": [
            "\u001b[0;31m---------------------------------------------------------------------------\u001b[0m",
            "\u001b[0;31mValueError\u001b[0m                                Traceback (most recent call last)",
            "Cell \u001b[0;32mIn[18], line 24\u001b[0m\n\u001b[1;32m     21\u001b[0m   \u001b[38;5;28mprint\u001b[39m(\u001b[38;5;124mf\u001b[39m\u001b[38;5;124m\"\u001b[39m\u001b[38;5;124mmomentum \u001b[39m\u001b[38;5;132;01m{\u001b[39;00mmomentum\u001b[38;5;132;01m}\u001b[39;00m\u001b[38;5;124m / rmse \u001b[39m\u001b[38;5;132;01m{\u001b[39;00mrmse\u001b[38;5;132;01m}\u001b[39;00m\u001b[38;5;124m\"\u001b[39m)\n\u001b[1;32m     23\u001b[0m fig, ax \u001b[38;5;241m=\u001b[39m plt\u001b[38;5;241m.\u001b[39msubplots(figsize\u001b[38;5;241m=\u001b[39m(\u001b[38;5;241m11\u001b[39m, \u001b[38;5;241m6\u001b[39m))\n\u001b[0;32m---> 24\u001b[0m ax\u001b[38;5;241m.\u001b[39mplot(momentum, rmses, label\u001b[38;5;241m=\u001b[39m\u001b[38;5;124m'\u001b[39m\u001b[38;5;124mmomentum\u001b[39m\u001b[38;5;124m'\u001b[39m)\n\u001b[1;32m     25\u001b[0m ax\u001b[38;5;241m.\u001b[39mset_xscale(\u001b[38;5;124m'\u001b[39m\u001b[38;5;124mlog\u001b[39m\u001b[38;5;124m'\u001b[39m)\n\u001b[1;32m     26\u001b[0m ax\u001b[38;5;241m.\u001b[39mlegend()\n",
            "File \u001b[0;32m~/anaconda3/lib/python3.11/site-packages/matplotlib/axes/_axes.py:1688\u001b[0m, in \u001b[0;36mAxes.plot\u001b[0;34m(self, scalex, scaley, data, *args, **kwargs)\u001b[0m\n\u001b[1;32m   1445\u001b[0m \u001b[38;5;250m\u001b[39m\u001b[38;5;124;03m\"\"\"\u001b[39;00m\n\u001b[1;32m   1446\u001b[0m \u001b[38;5;124;03mPlot y versus x as lines and/or markers.\u001b[39;00m\n\u001b[1;32m   1447\u001b[0m \n\u001b[0;32m   (...)\u001b[0m\n\u001b[1;32m   1685\u001b[0m \u001b[38;5;124;03m(``'green'``) or hex strings (``'#008000'``).\u001b[39;00m\n\u001b[1;32m   1686\u001b[0m \u001b[38;5;124;03m\"\"\"\u001b[39;00m\n\u001b[1;32m   1687\u001b[0m kwargs \u001b[38;5;241m=\u001b[39m cbook\u001b[38;5;241m.\u001b[39mnormalize_kwargs(kwargs, mlines\u001b[38;5;241m.\u001b[39mLine2D)\n\u001b[0;32m-> 1688\u001b[0m lines \u001b[38;5;241m=\u001b[39m [\u001b[38;5;241m*\u001b[39m\u001b[38;5;28mself\u001b[39m\u001b[38;5;241m.\u001b[39m_get_lines(\u001b[38;5;241m*\u001b[39margs, data\u001b[38;5;241m=\u001b[39mdata, \u001b[38;5;241m*\u001b[39m\u001b[38;5;241m*\u001b[39mkwargs)]\n\u001b[1;32m   1689\u001b[0m \u001b[38;5;28;01mfor\u001b[39;00m line \u001b[38;5;129;01min\u001b[39;00m lines:\n\u001b[1;32m   1690\u001b[0m     \u001b[38;5;28mself\u001b[39m\u001b[38;5;241m.\u001b[39madd_line(line)\n",
            "File \u001b[0;32m~/anaconda3/lib/python3.11/site-packages/matplotlib/axes/_base.py:311\u001b[0m, in \u001b[0;36m_process_plot_var_args.__call__\u001b[0;34m(self, data, *args, **kwargs)\u001b[0m\n\u001b[1;32m    309\u001b[0m     this \u001b[38;5;241m+\u001b[39m\u001b[38;5;241m=\u001b[39m args[\u001b[38;5;241m0\u001b[39m],\n\u001b[1;32m    310\u001b[0m     args \u001b[38;5;241m=\u001b[39m args[\u001b[38;5;241m1\u001b[39m:]\n\u001b[0;32m--> 311\u001b[0m \u001b[38;5;28;01myield from\u001b[39;00m \u001b[38;5;28mself\u001b[39m\u001b[38;5;241m.\u001b[39m_plot_args(\n\u001b[1;32m    312\u001b[0m     this, kwargs, ambiguous_fmt_datakey\u001b[38;5;241m=\u001b[39mambiguous_fmt_datakey)\n",
            "File \u001b[0;32m~/anaconda3/lib/python3.11/site-packages/matplotlib/axes/_base.py:504\u001b[0m, in \u001b[0;36m_process_plot_var_args._plot_args\u001b[0;34m(self, tup, kwargs, return_kwargs, ambiguous_fmt_datakey)\u001b[0m\n\u001b[1;32m    501\u001b[0m     \u001b[38;5;28mself\u001b[39m\u001b[38;5;241m.\u001b[39maxes\u001b[38;5;241m.\u001b[39myaxis\u001b[38;5;241m.\u001b[39mupdate_units(y)\n\u001b[1;32m    503\u001b[0m \u001b[38;5;28;01mif\u001b[39;00m x\u001b[38;5;241m.\u001b[39mshape[\u001b[38;5;241m0\u001b[39m] \u001b[38;5;241m!=\u001b[39m y\u001b[38;5;241m.\u001b[39mshape[\u001b[38;5;241m0\u001b[39m]:\n\u001b[0;32m--> 504\u001b[0m     \u001b[38;5;28;01mraise\u001b[39;00m \u001b[38;5;167;01mValueError\u001b[39;00m(\u001b[38;5;124mf\u001b[39m\u001b[38;5;124m\"\u001b[39m\u001b[38;5;124mx and y must have same first dimension, but \u001b[39m\u001b[38;5;124m\"\u001b[39m\n\u001b[1;32m    505\u001b[0m                      \u001b[38;5;124mf\u001b[39m\u001b[38;5;124m\"\u001b[39m\u001b[38;5;124mhave shapes \u001b[39m\u001b[38;5;132;01m{\u001b[39;00mx\u001b[38;5;241m.\u001b[39mshape\u001b[38;5;132;01m}\u001b[39;00m\u001b[38;5;124m and \u001b[39m\u001b[38;5;132;01m{\u001b[39;00my\u001b[38;5;241m.\u001b[39mshape\u001b[38;5;132;01m}\u001b[39;00m\u001b[38;5;124m\"\u001b[39m)\n\u001b[1;32m    506\u001b[0m \u001b[38;5;28;01mif\u001b[39;00m x\u001b[38;5;241m.\u001b[39mndim \u001b[38;5;241m>\u001b[39m \u001b[38;5;241m2\u001b[39m \u001b[38;5;129;01mor\u001b[39;00m y\u001b[38;5;241m.\u001b[39mndim \u001b[38;5;241m>\u001b[39m \u001b[38;5;241m2\u001b[39m:\n\u001b[1;32m    507\u001b[0m     \u001b[38;5;28;01mraise\u001b[39;00m \u001b[38;5;167;01mValueError\u001b[39;00m(\u001b[38;5;124mf\u001b[39m\u001b[38;5;124m\"\u001b[39m\u001b[38;5;124mx and y can be no greater than 2D, but have \u001b[39m\u001b[38;5;124m\"\u001b[39m\n\u001b[1;32m    508\u001b[0m                      \u001b[38;5;124mf\u001b[39m\u001b[38;5;124m\"\u001b[39m\u001b[38;5;124mshapes \u001b[39m\u001b[38;5;132;01m{\u001b[39;00mx\u001b[38;5;241m.\u001b[39mshape\u001b[38;5;132;01m}\u001b[39;00m\u001b[38;5;124m and \u001b[39m\u001b[38;5;132;01m{\u001b[39;00my\u001b[38;5;241m.\u001b[39mshape\u001b[38;5;132;01m}\u001b[39;00m\u001b[38;5;124m\"\u001b[39m)\n",
            "\u001b[0;31mValueError\u001b[0m: x and y must have same first dimension, but have shapes (1,) and (10,)"
          ]
        },
        {
          "data": {
            "image/png": "[encoded data removed]",
            "text/plain": [
              "<Figure size 1100x600 with 1 Axes>"
            ]
          },
          "metadata": {},
          "output_type": "display_data"
        }
      ],
      "source": [
        "momentums = [0.1, 0.3, 0.5, 0.7, 0.9, 0.95, 0.99, 0.999, 0.9999, 0.99999]\n",
        "rmses = []\n",
        "\n",
        "for momentum in momentums:\n",
        "  model = nn.Sequential(\n",
        "    nn.Linear(in_features, 64),\n",
        "    nn.BatchNorm1d(64),\n",
        "    nn.ReLU(),\n",
        "    nn.Dropout(p=0.2),\n",
        "    nn.Linear(64, 64),\n",
        "    nn.BatchNorm1d(64),\n",
        "    nn.ReLU(),\n",
        "    nn.Dropout(p=0.2),\n",
        "    nn.Linear(64, out_features),\n",
        "  )\n",
        "  optimizer = optim.SGD(model.parameters(), momentum=momentum, lr=5e-2, nesterov=True)\n",
        "  criterion = nn.CrossEntropyLoss()\n",
        "  _, _, rmses_test = train_module(model, optimizer, x_train, y_train, check_rmse , 5, 128, True, x_test, y_test)\n",
        "  rmse = rmses_test[-1]\n",
        "  rmses.append(rmse)\n",
        "  print(f\"momentum {momentum} / rmse {rmse}\")\n",
        "\n",
        "fig, ax = plt.subplots(figsize=(11, 6))\n",
        "ax.plot(momentums, rmses, label='momentum')\n",
        "ax.set_xscale('log')\n",
        "ax.legend()\n",
        "ax.set_title(\"rmses with momentum\")\n",
        "fig.show()"
      ]
    },
    {
      "cell_type": "code",
      "execution_count": 20,
      "metadata": {},
      "outputs": [
        {
          "name": "stdout",
          "output_type": "stream",
          "text": [
            "Epoch [1/5] -  Loss: 1.8861 - Rmse: 11.7314\n",
            "\t \t \t  test rmse: 11.5820\n",
            "Epoch [2/5] -  Loss: 1.4743 - Rmse: 11.3340\n",
            "\t \t \t  test rmse: 11.4987\n",
            "Epoch [3/5] -  Loss: 2.5201 - Rmse: 10.2823\n",
            "\t \t \t  test rmse: 10.3638\n",
            "Epoch [4/5] -  Loss: 1.5416 - Rmse: 10.3740\n",
            "\t \t \t  test rmse: 10.6789\n",
            "Epoch [5/5] -  Loss: 1.7933 - Rmse: 10.4499\n",
            "\t \t \t  test rmse: 10.6239\n",
            "batch_size 8 / rmse 10.623937606811523\n",
            "Epoch [1/5] -  Loss: 1.5317 - Rmse: 11.3502\n",
            "\t \t \t  test rmse: 11.3822\n",
            "Epoch [2/5] -  Loss: 2.1704 - Rmse: 10.5980\n",
            "\t \t \t  test rmse: 10.8553\n",
            "Epoch [3/5] -  Loss: 1.5291 - Rmse: 10.0971\n",
            "\t \t \t  test rmse: 10.2792\n",
            "Epoch [4/5] -  Loss: 1.3784 - Rmse: 10.2991\n",
            "\t \t \t  test rmse: 10.5666\n",
            "Epoch [5/5] -  Loss: 1.9860 - Rmse: 9.6137\n",
            "\t \t \t  test rmse: 9.9450\n",
            "batch_size 16 / rmse 9.944979667663574\n",
            "Epoch [1/5] -  Loss: 2.3354 - Rmse: 10.8923\n",
            "\t \t \t  test rmse: 11.0737\n",
            "Epoch [2/5] -  Loss: 2.2696 - Rmse: 10.6332\n",
            "\t \t \t  test rmse: 10.9132\n",
            "Epoch [3/5] -  Loss: 1.6749 - Rmse: 9.7291\n",
            "\t \t \t  test rmse: 10.0561\n",
            "Epoch [4/5] -  Loss: 2.2482 - Rmse: 9.8364\n",
            "\t \t \t  test rmse: 10.2270\n",
            "Epoch [5/5] -  Loss: 1.4366 - Rmse: 9.8984\n",
            "\t \t \t  test rmse: 10.1565\n",
            "batch_size 32 / rmse 10.156460762023926\n",
            "Epoch [1/5] -  Loss: 2.1610 - Rmse: 10.6224\n",
            "\t \t \t  test rmse: 10.7208\n",
            "Epoch [2/5] -  Loss: 1.6448 - Rmse: 10.5653\n",
            "\t \t \t  test rmse: 10.9909\n",
            "Epoch [3/5] -  Loss: 1.9519 - Rmse: 10.0193\n",
            "\t \t \t  test rmse: 10.1950\n",
            "Epoch [4/5] -  Loss: 1.5085 - Rmse: 9.8076\n",
            "\t \t \t  test rmse: 9.9848\n",
            "Epoch [5/5] -  Loss: 1.6981 - Rmse: 9.6669\n",
            "\t \t \t  test rmse: 10.1051\n",
            "batch_size 64 / rmse 10.105134010314941\n",
            "Epoch [1/5] -  Loss: 1.7691 - Rmse: 11.1754\n",
            "\t \t \t  test rmse: 11.2689\n",
            "Epoch [2/5] -  Loss: 1.6879 - Rmse: 10.4813\n",
            "\t \t \t  test rmse: 10.7135\n",
            "Epoch [3/5] -  Loss: 1.7549 - Rmse: 10.2663\n",
            "\t \t \t  test rmse: 10.6549\n",
            "Epoch [4/5] -  Loss: 2.0149 - Rmse: 9.7272\n",
            "\t \t \t  test rmse: 10.1737\n",
            "Epoch [5/5] -  Loss: 1.5564 - Rmse: 9.8877\n",
            "\t \t \t  test rmse: 10.3620\n",
            "batch_size 128 / rmse 10.361998558044434\n",
            "Epoch [1/5] -  Loss: 2.0327 - Rmse: 11.1169\n",
            "\t \t \t  test rmse: 11.2688\n",
            "Epoch [2/5] -  Loss: 1.8626 - Rmse: 11.0485\n",
            "\t \t \t  test rmse: 11.2860\n",
            "Epoch [3/5] -  Loss: 1.8206 - Rmse: 10.1000\n",
            "\t \t \t  test rmse: 10.4137\n",
            "Epoch [4/5] -  Loss: 1.7775 - Rmse: 10.0214\n",
            "\t \t \t  test rmse: 10.2978\n",
            "Epoch [5/5] -  Loss: 1.6033 - Rmse: 9.6276\n",
            "\t \t \t  test rmse: 10.0606\n",
            "batch_size 256 / rmse 10.06059455871582\n",
            "Epoch [1/5] -  Loss: 2.0919 - Rmse: 11.1851\n",
            "\t \t \t  test rmse: 11.1720\n",
            "Epoch [2/5] -  Loss: 1.8257 - Rmse: 10.4696\n",
            "\t \t \t  test rmse: 10.6290\n",
            "Epoch [3/5] -  Loss: 1.7615 - Rmse: 10.0699\n",
            "\t \t \t  test rmse: 10.2797\n",
            "Epoch [4/5] -  Loss: 1.7059 - Rmse: 9.8396\n",
            "\t \t \t  test rmse: 10.0460\n",
            "Epoch [5/5] -  Loss: 1.7136 - Rmse: 9.6779\n",
            "\t \t \t  test rmse: 9.9302\n",
            "batch_size 512 / rmse 9.93019962310791\n",
            "Epoch [1/5] -  Loss: 2.1587 - Rmse: 12.2846\n",
            "\t \t \t  test rmse: 12.1890\n",
            "Epoch [2/5] -  Loss: 1.9505 - Rmse: 11.0235\n",
            "\t \t \t  test rmse: 11.0489\n",
            "Epoch [3/5] -  Loss: 1.8798 - Rmse: 10.7562\n",
            "\t \t \t  test rmse: 10.9274\n",
            "Epoch [4/5] -  Loss: 1.8453 - Rmse: 10.3740\n",
            "\t \t \t  test rmse: 10.5020\n",
            "Epoch [5/5] -  Loss: 1.8056 - Rmse: 10.3888\n",
            "\t \t \t  test rmse: 10.6079\n",
            "batch_size 1024 / rmse 10.607874870300293\n"
          ]
        },
        {
          "name": "stderr",
          "output_type": "stream",
          "text": [
            "/var/folders/n9/pd4m7bps7_b_427s0yfq1m600000gn/T/ipykernel_46808/115505400.py:28: UserWarning: Matplotlib is currently using module://matplotlib_inline.backend_inline, which is a non-GUI backend, so cannot show the figure.\n",
            "  fig.show()\n"
          ]
        },
        {
          "data": {
            "image/png": "[encoded data removed]",
            "text/plain": [
              "<Figure size 1100x600 with 1 Axes>"
            ]
          },
          "metadata": {},
          "output_type": "display_data"
        }
      ],
      "source": [
        "batch_sizes = [8, 16, 32, 64, 128, 256, 512, 1024]\n",
        "rmses = []\n",
        "\n",
        "for batch_size in batch_sizes:\n",
        "  model = nn.Sequential(\n",
        "    nn.Linear(in_features, 64),\n",
        "    nn.BatchNorm1d(64),\n",
        "    nn.ReLU(),\n",
        "    nn.Dropout(p=0.2),\n",
        "    nn.Linear(64, 64),\n",
        "    nn.BatchNorm1d(64),\n",
        "    nn.ReLU(),\n",
        "    nn.Dropout(p=0.2),\n",
        "    nn.Linear(64, out_features),\n",
        "  )\n",
        "  optimizer = optim.SGD(model.parameters(), momentum=0.9, lr=5e-2, nesterov=True)\n",
        "  criterion = nn.CrossEntropyLoss()\n",
        "  _, _, rmses_test = train_module(model, optimizer, x_train, y_train, check_rmse , 5, batch_size, True, x_test, y_test)\n",
        "  rmse = rmses_test[-1]\n",
        "  rmses.append(rmse)\n",
        "  print(f\"batch_size {batch_size} / rmse {rmse}\")\n",
        "\n",
        "fig, ax = plt.subplots(figsize=(11, 6))\n",
        "ax.plot(batch_sizes, rmses, label='batch_size')\n",
        "ax.set_xscale('log')\n",
        "ax.legend()\n",
        "ax.set_title(\"rmses with batch_size\")\n",
        "fig.show()"
      ]
    },
    {
      "cell_type": "markdown",
      "metadata": {
        "id": "oqIMAmxzU4gI"
      },
      "source": [
        "#VALIDATION"
      ]
    },
    {
      "cell_type": "code",
      "execution_count": 13,
      "metadata": {
        "id": "5dpZuMWHRWf_"
      },
      "outputs": [],
      "source": [
        "x_val = pd.read_csv('processed_waiting_times_val.csv')\n",
        "dates = x_val[\"DATETIME\"]\n",
        "entities = x_val[\"ENTITY_DESCRIPTION_SHORT\"]\n",
        "x_val.drop([\"DATETIME\", \"ENTITY_DESCRIPTION_SHORT\"], axis=1, inplace=True)\n",
        "\n",
        "x_val = x_val.astype(float)\n",
        "x_val = torch.tensor(x_val.values, dtype=torch.float64, device=device)\n",
        "x_val = x_val.to(device=device, dtype=torch.float)"
      ]
    },
    {
      "cell_type": "code",
      "execution_count": 14,
      "metadata": {
        "id": "D0U7TXbYSglJ"
      },
      "outputs": [],
      "source": [
        "y_hat = torch.argmax(model(x_val), dim=1)\n",
        "\n",
        "clean_y_hat = np.array((y_hat).cpu())*5\n",
        "\n",
        "res_df = pd.DataFrame(list(zip(clean_y_hat, entities, dates, [\"Validation\" for _ in range(len(dates))])), columns=[\"y_pred\", \"ENTITY_DESCRIPTION_SHORT\", \"DATETIME\", \"KEY\"])\n",
        "#on gdrive\n",
        "#res_df.to_csv('/content/gdrive/MyDrive/HACKATHON/res.csv', index=False)\n",
        "\n",
        "#on pc\n",
        "res_df.to_csv('res.csv', index=False)"
      ]
    },
    {
      "cell_type": "markdown",
      "metadata": {
        "id": "PijZuy03vhk2"
      },
      "source": [
        "autre idée"
      ]
    },
    {
      "cell_type": "code",
      "execution_count": null,
      "metadata": {
        "id": "bz23PLOuvi89"
      },
      "outputs": [],
      "source": [
        "test_dataset = TensorDataset(x_test, y_test)\n",
        "test_loader = DataLoader(test_dataset, batch_size=128, shuffle=True)\n",
        "\n",
        "out_features = 1  # Une seule sortie pour le temps d'attente continu\n",
        "model = nn.Sequential(\n",
        "    nn.Linear(in_features, 128),\n",
        "    nn.ReLU(),\n",
        "    nn.Linear(128, 128),\n",
        "    nn.ReLU(),\n",
        "    nn.Linear(128, 256),\n",
        "    nn.ReLU(),\n",
        "    nn.Linear(256, 256),\n",
        "    nn.ReLU(),\n",
        "    nn.Linear(256, 128),\n",
        "    nn.ReLU(),\n",
        "    nn.Linear(128, 32),\n",
        "    nn.ReLU(),\n",
        "    nn.Linear(32, out_features),  # Utiliser une seule sortie pour la prédiction continue\n",
        ")\n",
        "model.to(device=device)\n",
        "optimizer = optim.SGD(model.parameters(), lr=1e-3)\n",
        "criterion = nn.MSELoss()\n",
        "\n",
        "num_epochs = 10\n",
        "\n",
        "y_train = y_train.float()\n",
        "y_test = y_test.float()\n",
        "\n",
        "\n",
        "_ = train_module(model, optimizer, x_train, y_train, check_rmse_numeric ,num_epochs, True, x_test, y_test)\n",
        "\n",
        "print(check_rmse_numeric(x_test, y_test, model))"
      ]
    }
  ],
  "metadata": {
    "accelerator": "GPU",
    "colab": {
      "gpuType": "T4",
      "provenance": []
    },
    "kernelspec": {
      "display_name": "Python 3",
      "name": "python3"
    },
    "language_info": {
      "codemirror_mode": {
        "name": "ipython",
        "version": 3
      },
      "file_extension": ".py",
      "mimetype": "text/x-python",
      "name": "python",
      "nbconvert_exporter": "python",
      "pygments_lexer": "ipython3",
      "version": "3.11.7"
    }
  },
  "nbformat": 4,
  "nbformat_minor": 0
}
