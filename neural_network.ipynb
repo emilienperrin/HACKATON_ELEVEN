{
  "cells": [
    {
      "cell_type": "code",
      "execution_count": 1,
      "metadata": {
        "id": "bWhdgtMU11IH"
      },
      "outputs": [],
      "source": [
        "import pandas as pd\n",
        "import numpy as np\n",
        "from sklearn import preprocessing\n",
        "from datetime import datetime\n",
        "import torch\n",
        "import torch.nn as nn\n",
        "import torch.nn.functional as F\n",
        "import torch.optim as optim\n",
        "from torch.utils.data import DataLoader, TensorDataset\n",
        "import matplotlib.pyplot as plt\n",
        "\n",
        "from sklearn.model_selection import train_test_split"
      ]
    },
    {
      "cell_type": "code",
      "execution_count": 2,
      "metadata": {
        "colab": {
          "base_uri": "https://localhost:8080/"
        },
        "id": "TdHe8e0621xG",
        "outputId": "43433ed3-ddbf-4532-a94f-fc30f02f9f82"
      },
      "outputs": [
        {
          "name": "stdout",
          "output_type": "stream",
          "text": [
            "using device: cpu\n"
          ]
        }
      ],
      "source": [
        "USE_GPU = True\n",
        "dtype = torch.float32 # we will be using float throughout this tutorial\n",
        "device = torch.device('cuda') if (USE_GPU and torch.cuda.is_available()) else torch.device('cpu')\n",
        "\n",
        "# Constant to control how frequently we print train loss\n",
        "print_every = 100\n",
        "print('using device:', device)"
      ]
    },
    {
      "cell_type": "code",
      "execution_count": 5,
      "metadata": {
        "colab": {
          "base_uri": "https://localhost:8080/"
        },
        "id": "2xtwx3lR3Oh-",
        "outputId": "26ac24b7-b2eb-4c29-b461-7ae67b440c62"
      },
      "outputs": [
        {
          "name": "stdout",
          "output_type": "stream",
          "text": [
            "Mounted at /content/gdrive\n",
            "/content/gdrive/My Drive/HACKATHON\n"
          ]
        }
      ],
      "source": [
        "try:\n",
        "  from google.colab import drive\n",
        "  drive.mount('/content/gdrive', force_remount=True)\n",
        "\n",
        "  FOLDERNAME = '/HACKATHON'\n",
        "  %cd /content/gdrive/My\\ Drive/$FOLDERNAME\n",
        "except ImportError:\n",
        "  pass"
      ]
    },
    {
      "cell_type": "code",
      "execution_count": null,
      "metadata": {
        "colab": {
          "base_uri": "https://localhost:8080/",
          "height": 56
        },
        "id": "E1_Cr77T3Xr1",
        "outputId": "92eb1360-c598-4528-801a-faaf825399a7"
      },
      "outputs": [
        {
          "data": {
            "application/vnd.google.colaboratory.intrinsic+json": {
              "type": "string"
            },
            "text/plain": [
              "'/content/gdrive/My Drive/HACKATHON'"
            ]
          },
          "execution_count": 8,
          "metadata": {},
          "output_type": "execute_result"
        }
      ],
      "source": [
        "%pwd"
      ]
    },
    {
      "cell_type": "code",
      "execution_count": 3,
      "metadata": {
        "id": "72P9ilnw2pvS"
      },
      "outputs": [],
      "source": [
        "df_train = pd.read_csv('processed_waiting_times_train.csv')"
      ]
    },
    {
      "cell_type": "code",
      "execution_count": 4,
      "metadata": {
        "colab": {
          "base_uri": "https://localhost:8080/"
        },
        "id": "EMm0XPHxrRRV",
        "outputId": "a438ce1b-14e1-4254-d513-b5309774c8f5"
      },
      "outputs": [
        {
          "name": "stdout",
          "output_type": "stream",
          "text": [
            "32\n",
            "0        6\n",
            "1        5\n",
            "2        7\n",
            "3        2\n",
            "4        2\n",
            "        ..\n",
            "37013    2\n",
            "37014    4\n",
            "37015    2\n",
            "37016    9\n",
            "37017    4\n",
            "Name: WAIT_TIME_IN_2H, Length: 37018, dtype: int64\n",
            "       ADJUST_CAPACITY  DOWNTIME  CURRENT_WAIT_TIME  TIME_TO_PARADE_1  \\\n",
            "0            -0.660639 -0.168584          -0.240147         -1.152579   \n",
            "1            -0.660639 -0.168584           0.468341          1.280950   \n",
            "2            -0.527907 -0.168584           0.822585         -1.152579   \n",
            "3            -0.726608 -0.168584          -0.594390         -0.170629   \n",
            "4            -1.033079 -0.168584          -0.594390         -1.152579   \n",
            "...                ...       ...                ...               ...   \n",
            "37013         1.356085 -0.168584           0.468341          0.555161   \n",
            "37014        -0.527907 -0.168584          -0.594390          0.939402   \n",
            "37015         1.356085 -0.168584          -0.594390         -0.256016   \n",
            "37016         1.356085 -0.168584           0.468341          0.896709   \n",
            "37017        -1.033079 -0.168584          -0.240147         -1.152579   \n",
            "\n",
            "       TIME_TO_PARADE_2  TIME_TO_NIGHT_SHOW       PC1       PC2       PC3  \\\n",
            "0             -0.410995           -1.117497 -1.703404 -0.561189 -0.521895   \n",
            "1             -0.410995            0.893157 -0.983224 -3.370968  1.688497   \n",
            "2             -0.410995           -1.117497  1.971007  0.491093 -0.446060   \n",
            "3             -0.410995           -0.020777 -1.153047 -1.460163  0.761943   \n",
            "4             -0.410995           -1.117497  0.644351  2.261365  0.670276   \n",
            "...                 ...                 ...       ...       ...       ...   \n",
            "37013         -0.410995            0.756067  2.474459 -0.242590 -1.250092   \n",
            "37014          2.420117            0.618977  1.451294 -0.740837 -0.309993   \n",
            "37015          0.230012           -0.203564 -3.211167 -0.929818 -1.205296   \n",
            "37016         -0.410995            0.664673  0.588498  2.259265  2.034889   \n",
            "37017         -0.410995           -1.117497 -0.546490  1.411215  1.077576   \n",
            "\n",
            "            PC4  ...     38     39     40     41     42     43     44     45  \\\n",
            "0      0.099553  ...  False  False  False  False  False  False  False  False   \n",
            "1      0.822912  ...  False  False  False  False  False  False  False  False   \n",
            "2     -1.375623  ...  False  False  False  False  False  False  False  False   \n",
            "3      0.267117  ...  False  False  False  False  False   True  False  False   \n",
            "4      0.539488  ...  False  False  False  False  False  False  False  False   \n",
            "...         ...  ...    ...    ...    ...    ...    ...    ...    ...    ...   \n",
            "37013  0.433454  ...  False  False  False  False  False  False  False  False   \n",
            "37014 -0.850829  ...  False  False  False  False  False  False  False  False   \n",
            "37015 -0.270431  ...  False  False  False  False  False   True  False  False   \n",
            "37016 -0.714293  ...  False  False  False  False  False  False  False  False   \n",
            "37017 -0.678336  ...  False  False  False  False  False  False  False  False   \n",
            "\n",
            "          46     47  \n",
            "0      False  False  \n",
            "1      False  False  \n",
            "2      False  False  \n",
            "3      False  False  \n",
            "4      False  False  \n",
            "...      ...    ...  \n",
            "37013  False  False  \n",
            "37014  False  False  \n",
            "37015  False  False  \n",
            "37016  False  False  \n",
            "37017  False  False  \n",
            "\n",
            "[37018 rows x 84 columns]\n",
            "84\n"
          ]
        }
      ],
      "source": [
        "out_features = max(df_train[\"WAIT_TIME_IN_2H\"]) + 1\n",
        "print(out_features)\n",
        "\n",
        "y = df_train[\"WAIT_TIME_IN_2H\"]\n",
        "print(y)\n",
        "\n",
        "x = df_train\n",
        "x.drop([\"WAIT_TIME_IN_2H\"], axis=1, inplace=True)\n",
        "print(x)\n",
        "\n",
        "in_features = len(x.columns)\n",
        "print(in_features)\n",
        "\n",
        "x_train, x_test, y_train, y_test = train_test_split(x, y, test_size=0.2, random_state=0)\n",
        "\n",
        "x_train = x_train.astype(float)\n",
        "x_test = x_test.astype(float)\n",
        "y_train = y_train.astype(int)\n",
        "y_test = y_test.astype(int)\n",
        "\n",
        "x_train = torch.tensor(x_train.values, dtype=torch.float64, device=device)\n",
        "x_test = torch.tensor(x_test.values, dtype=torch.float64, device=device)\n",
        "y_train = torch.tensor(y_train.values, dtype=torch.int64, device=device)\n",
        "y_test = torch.tensor(y_test.values, dtype=torch.int64, device=device)"
      ]
    },
    {
      "cell_type": "code",
      "execution_count": 5,
      "metadata": {
        "id": "nzKKu29x4waD"
      },
      "outputs": [],
      "source": [
        "test_dataset = TensorDataset(x_test, y_test)\n",
        "test_loader = DataLoader(test_dataset, batch_size=64, shuffle=True)"
      ]
    },
    {
      "cell_type": "code",
      "execution_count": 6,
      "metadata": {
        "id": "9Wh8vl9VsEha"
      },
      "outputs": [],
      "source": [
        "train_dataset = TensorDataset(x_train, y_train)\n",
        "train_loader = DataLoader(train_dataset, batch_size=64, shuffle=True)"
      ]
    },
    {
      "cell_type": "markdown",
      "metadata": {
        "id": "0I0PVoe1rMLD"
      },
      "source": [
        "utils"
      ]
    },
    {
      "cell_type": "code",
      "execution_count": 7,
      "metadata": {
        "id": "XdxrJw58rLQx"
      },
      "outputs": [],
      "source": [
        "def check_accuracy(loader, model):\n",
        "    num_correct = 0\n",
        "    num_samples = 0\n",
        "    model.eval()  # set model to evaluation mode\n",
        "    with torch.no_grad():\n",
        "        for x, y in loader:\n",
        "            x = x.to(device=device, dtype=dtype)  # move to device, e.g. GPU\n",
        "            y = y.to(device=device, dtype=torch.long)\n",
        "\n",
        "            y_res = model(x)\n",
        "            predictions = F.softmax(y_res, dim=1)\n",
        "            argmax_indices = torch.argmax(predictions, dim=1)\n",
        "\n",
        "            num_correct += torch.sum(torch.eq(argmax_indices, y))\n",
        "            num_samples += int(y_res.size()[0])\n",
        "\n",
        "        acc = float(num_correct) / num_samples\n",
        "        #print('Got %d / %d correct (%.2f)' % (num_correct, num_samples, 100 * acc))\n",
        "\n",
        "        return acc\n",
        "\n",
        "def check_rmse(x_test, y_test, model):\n",
        "    model.eval()\n",
        "    x_test = x_test.to(device=device, dtype=torch.float)\n",
        "    y_hat = torch.argmax(model(x_test), dim=1)\n",
        "    rmse = torch.sqrt(torch.sum((y_hat * 5 - y_test * 5)**2) / len(y_hat))\n",
        "    return float(rmse)\n",
        "\n",
        "def check_rmse_numeric(x_test, y_test, model):\n",
        "    model.eval()\n",
        "    x_test = x_test.to(device=device, dtype=torch.float)\n",
        "    y_hat = model(x_test)\n",
        "    rmse = torch.sqrt(torch.sum((y_hat * 5 - y_test * 5)**2) / len(y_hat))\n",
        "    return float(rmse)"
      ]
    },
    {
      "cell_type": "code",
      "execution_count": 8,
      "metadata": {
        "id": "U4NKT2o9r1mW"
      },
      "outputs": [],
      "source": [
        "def train_module(model, optimizer, x_train, y_train, rmse_function, epochs=1, batch_size=64, rmse_on_test = False, x_test=None, y_test=None):\n",
        "    train_dataset = TensorDataset(x_train, y_train)\n",
        "    train_loader = DataLoader(train_dataset, batch_size=batch_size, shuffle=True)\n",
        "\n",
        "    losses = []\n",
        "    rmses = []\n",
        "    rmses_test = []\n",
        "\n",
        "    model = model.to(device=device)\n",
        "    model.train()\n",
        "    for e in range(epochs):\n",
        "        for inputs, targets in train_loader:\n",
        "            inputs = inputs.to(device=device, dtype=torch.float)\n",
        "            outputs = model(inputs)\n",
        "\n",
        "            loss = criterion(outputs, targets)\n",
        "\n",
        "            optimizer.zero_grad()\n",
        "            loss.backward()\n",
        "\n",
        "            optimizer.step()\n",
        "\n",
        "        losses.append(loss.item())\n",
        "        current_rmse      = rmse_function(x_train, y_train, model)\n",
        "        current_rmse_test = rmse_function(x_test, y_test, model)\n",
        "\n",
        "        rmses.append(current_rmse)\n",
        "        rmses_test.append(current_rmse_test)\n",
        "\n",
        "        print(f'Epoch [{e+1}/{epochs}] -  Loss: {loss.item():.4f} - Rmse: {current_rmse:.4f}')\n",
        "        if(rmse_on_test): print(f'\\t \\t \\t  test rmse: {current_rmse_test:.4f}')\n",
        "\n",
        "    return losses, rmses, rmses_test"
      ]
    },
    {
      "cell_type": "markdown",
      "metadata": {
        "id": "DSfboEzurNP4"
      },
      "source": [
        "training"
      ]
    },
    {
      "cell_type": "code",
      "execution_count": 98,
      "metadata": {
        "id": "eqVOXyYw1QKW"
      },
      "outputs": [],
      "source": [
        "class Swish(nn.Module):\n",
        "  def forward(self, x):\n",
        "    return x*torch.sigmoid(x)"
      ]
    },
    {
      "cell_type": "code",
      "execution_count": 9,
      "metadata": {
        "colab": {
          "base_uri": "https://localhost:8080/"
        },
        "id": "AQZJtbcW4V9q",
        "outputId": "6b5ab7aa-cae8-4112-f374-bf5a1834270a"
      },
      "outputs": [
        {
          "name": "stdout",
          "output_type": "stream",
          "text": [
            "Epoch [1/150] -  Loss: 2.1843 - Rmse: 10.5690\n",
            "\t \t \t  test rmse: 10.6717\n",
            "Epoch [2/150] -  Loss: 1.7448 - Rmse: 10.4021\n",
            "\t \t \t  test rmse: 10.5546\n",
            "Epoch [3/150] -  Loss: 1.8054 - Rmse: 9.5160\n",
            "\t \t \t  test rmse: 9.8302\n",
            "Epoch [4/150] -  Loss: 1.9002 - Rmse: 9.7272\n",
            "\t \t \t  test rmse: 10.0971\n",
            "Epoch [5/150] -  Loss: 1.7774 - Rmse: 9.2908\n",
            "\t \t \t  test rmse: 9.6781\n",
            "Epoch [6/150] -  Loss: 1.5591 - Rmse: 9.5471\n",
            "\t \t \t  test rmse: 10.0175\n",
            "Epoch [7/150] -  Loss: 1.6199 - Rmse: 8.7839\n",
            "\t \t \t  test rmse: 9.2797\n",
            "Epoch [8/150] -  Loss: 1.6123 - Rmse: 9.2902\n",
            "\t \t \t  test rmse: 9.9198\n",
            "Epoch [9/150] -  Loss: 1.4100 - Rmse: 8.5405\n",
            "\t \t \t  test rmse: 9.2618\n",
            "Epoch [10/150] -  Loss: 1.6229 - Rmse: 8.7894\n",
            "\t \t \t  test rmse: 9.6582\n",
            "Epoch [11/150] -  Loss: 1.3549 - Rmse: 8.5930\n",
            "\t \t \t  test rmse: 9.4907\n",
            "Epoch [12/150] -  Loss: 1.3199 - Rmse: 8.4688\n",
            "\t \t \t  test rmse: 9.4513\n",
            "Epoch [13/150] -  Loss: 1.4125 - Rmse: 8.6214\n",
            "\t \t \t  test rmse: 9.6072\n",
            "Epoch [14/150] -  Loss: 1.1099 - Rmse: 8.4224\n",
            "\t \t \t  test rmse: 9.6204\n",
            "Epoch [15/150] -  Loss: 1.2931 - Rmse: 7.8492\n",
            "\t \t \t  test rmse: 9.0993\n",
            "Epoch [16/150] -  Loss: 0.9456 - Rmse: 7.9462\n",
            "\t \t \t  test rmse: 9.1346\n",
            "Epoch [17/150] -  Loss: 1.0713 - Rmse: 7.8530\n",
            "\t \t \t  test rmse: 9.1750\n",
            "Epoch [18/150] -  Loss: 1.2046 - Rmse: 7.5670\n",
            "\t \t \t  test rmse: 9.0092\n",
            "Epoch [19/150] -  Loss: 0.9506 - Rmse: 7.5474\n",
            "\t \t \t  test rmse: 8.9931\n",
            "Epoch [20/150] -  Loss: 0.9491 - Rmse: 7.2463\n",
            "\t \t \t  test rmse: 8.8250\n",
            "Epoch [21/150] -  Loss: 1.1607 - Rmse: 7.0299\n",
            "\t \t \t  test rmse: 8.7263\n",
            "Epoch [22/150] -  Loss: 1.0104 - Rmse: 7.2828\n",
            "\t \t \t  test rmse: 9.1326\n",
            "Epoch [23/150] -  Loss: 1.1576 - Rmse: 7.0171\n",
            "\t \t \t  test rmse: 8.8263\n",
            "Epoch [24/150] -  Loss: 1.2806 - Rmse: 7.1364\n",
            "\t \t \t  test rmse: 9.0109\n",
            "Epoch [25/150] -  Loss: 1.0196 - Rmse: 6.7747\n",
            "\t \t \t  test rmse: 8.8504\n",
            "Epoch [26/150] -  Loss: 0.7832 - Rmse: 6.7745\n",
            "\t \t \t  test rmse: 8.8679\n",
            "Epoch [27/150] -  Loss: 0.8650 - Rmse: 6.7442\n",
            "\t \t \t  test rmse: 9.0069\n",
            "Epoch [28/150] -  Loss: 0.9301 - Rmse: 6.6693\n",
            "\t \t \t  test rmse: 8.9902\n",
            "Epoch [29/150] -  Loss: 0.9000 - Rmse: 6.4470\n",
            "\t \t \t  test rmse: 8.8603\n",
            "Epoch [30/150] -  Loss: 1.0947 - Rmse: 6.3174\n",
            "\t \t \t  test rmse: 8.7812\n",
            "Epoch [31/150] -  Loss: 0.7546 - Rmse: 6.3380\n",
            "\t \t \t  test rmse: 8.7895\n",
            "Epoch [32/150] -  Loss: 1.0335 - Rmse: 6.1527\n",
            "\t \t \t  test rmse: 8.6345\n",
            "Epoch [33/150] -  Loss: 0.7489 - Rmse: 6.1921\n",
            "\t \t \t  test rmse: 8.7639\n",
            "Epoch [34/150] -  Loss: 0.8015 - Rmse: 6.1158\n",
            "\t \t \t  test rmse: 8.6161\n",
            "Epoch [35/150] -  Loss: 0.6466 - Rmse: 5.9851\n",
            "\t \t \t  test rmse: 8.5825\n",
            "Epoch [36/150] -  Loss: 0.8079 - Rmse: 5.8024\n",
            "\t \t \t  test rmse: 8.7556\n",
            "Epoch [37/150] -  Loss: 0.6010 - Rmse: 5.8389\n",
            "\t \t \t  test rmse: 8.7703\n",
            "Epoch [38/150] -  Loss: 0.7562 - Rmse: 6.0430\n",
            "\t \t \t  test rmse: 8.5265\n",
            "Epoch [39/150] -  Loss: 0.7084 - Rmse: 5.8149\n",
            "\t \t \t  test rmse: 8.6345\n",
            "Epoch [40/150] -  Loss: 1.0376 - Rmse: 5.9421\n",
            "\t \t \t  test rmse: 8.8097\n",
            "Epoch [41/150] -  Loss: 1.0386 - Rmse: 5.9368\n",
            "\t \t \t  test rmse: 8.7220\n",
            "Epoch [42/150] -  Loss: 0.8069 - Rmse: 5.9177\n",
            "\t \t \t  test rmse: 8.8292\n",
            "Epoch [43/150] -  Loss: 0.6359 - Rmse: 5.6270\n",
            "\t \t \t  test rmse: 8.6214\n",
            "Epoch [44/150] -  Loss: 0.7723 - Rmse: 5.5716\n",
            "\t \t \t  test rmse: 8.6573\n",
            "Epoch [45/150] -  Loss: 0.6630 - Rmse: 5.4746\n",
            "\t \t \t  test rmse: 8.7543\n",
            "Epoch [46/150] -  Loss: 0.6418 - Rmse: 5.7433\n",
            "\t \t \t  test rmse: 8.8552\n",
            "Epoch [47/150] -  Loss: 0.9432 - Rmse: 5.2932\n",
            "\t \t \t  test rmse: 8.5670\n",
            "Epoch [48/150] -  Loss: 0.6958 - Rmse: 5.4026\n",
            "\t \t \t  test rmse: 8.6029\n",
            "Epoch [49/150] -  Loss: 0.6131 - Rmse: 5.3098\n",
            "\t \t \t  test rmse: 8.8167\n",
            "Epoch [50/150] -  Loss: 0.6882 - Rmse: 5.3571\n",
            "\t \t \t  test rmse: 8.5833\n",
            "Epoch [51/150] -  Loss: 0.8537 - Rmse: 5.5340\n",
            "\t \t \t  test rmse: 8.7770\n",
            "Epoch [52/150] -  Loss: 0.5211 - Rmse: 5.2376\n",
            "\t \t \t  test rmse: 8.6396\n",
            "Epoch [53/150] -  Loss: 0.7218 - Rmse: 5.1482\n",
            "\t \t \t  test rmse: 8.5813\n",
            "Epoch [54/150] -  Loss: 0.7343 - Rmse: 5.2434\n",
            "\t \t \t  test rmse: 8.7957\n",
            "Epoch [55/150] -  Loss: 0.5526 - Rmse: 5.2764\n",
            "\t \t \t  test rmse: 8.6817\n",
            "Epoch [56/150] -  Loss: 0.7015 - Rmse: 5.0490\n",
            "\t \t \t  test rmse: 8.8985\n",
            "Epoch [57/150] -  Loss: 0.5164 - Rmse: 5.1204\n",
            "\t \t \t  test rmse: 8.8403\n",
            "Epoch [58/150] -  Loss: 0.5957 - Rmse: 5.1205\n",
            "\t \t \t  test rmse: 8.8532\n",
            "Epoch [59/150] -  Loss: 0.4273 - Rmse: 5.1239\n",
            "\t \t \t  test rmse: 8.8095\n",
            "Epoch [60/150] -  Loss: 0.6962 - Rmse: 4.9844\n",
            "\t \t \t  test rmse: 8.4826\n",
            "Epoch [61/150] -  Loss: 0.3366 - Rmse: 4.6632\n",
            "\t \t \t  test rmse: 8.7943\n",
            "Epoch [62/150] -  Loss: 0.7364 - Rmse: 5.0024\n",
            "\t \t \t  test rmse: 8.8729\n",
            "Epoch [63/150] -  Loss: 0.6010 - Rmse: 4.9465\n",
            "\t \t \t  test rmse: 8.8856\n",
            "Epoch [64/150] -  Loss: 0.9988 - Rmse: 4.9772\n",
            "\t \t \t  test rmse: 8.6548\n",
            "Epoch [65/150] -  Loss: 0.6823 - Rmse: 4.9426\n",
            "\t \t \t  test rmse: 8.6881\n",
            "Epoch [66/150] -  Loss: 0.7528 - Rmse: 4.8756\n",
            "\t \t \t  test rmse: 8.7941\n",
            "Epoch [67/150] -  Loss: 0.6335 - Rmse: 5.0409\n",
            "\t \t \t  test rmse: 8.7968\n",
            "Epoch [68/150] -  Loss: 0.3185 - Rmse: 4.8076\n",
            "\t \t \t  test rmse: 8.8133\n",
            "Epoch [69/150] -  Loss: 0.3989 - Rmse: 5.0623\n",
            "\t \t \t  test rmse: 8.8702\n",
            "Epoch [70/150] -  Loss: 0.6778 - Rmse: 4.5089\n",
            "\t \t \t  test rmse: 8.6292\n",
            "Epoch [71/150] -  Loss: 0.2383 - Rmse: 4.9441\n",
            "\t \t \t  test rmse: 8.7360\n",
            "Epoch [72/150] -  Loss: 0.5237 - Rmse: 4.7046\n",
            "\t \t \t  test rmse: 8.8801\n",
            "Epoch [73/150] -  Loss: 0.5371 - Rmse: 4.8424\n",
            "\t \t \t  test rmse: 8.7893\n",
            "Epoch [74/150] -  Loss: 0.5135 - Rmse: 4.6677\n",
            "\t \t \t  test rmse: 8.9148\n",
            "Epoch [75/150] -  Loss: 0.6315 - Rmse: 4.8469\n",
            "\t \t \t  test rmse: 8.9228\n",
            "Epoch [76/150] -  Loss: 0.4648 - Rmse: 4.7730\n",
            "\t \t \t  test rmse: 8.9790\n",
            "Epoch [77/150] -  Loss: 0.5830 - Rmse: 4.5859\n",
            "\t \t \t  test rmse: 8.8217\n",
            "Epoch [78/150] -  Loss: 0.4443 - Rmse: 4.4941\n",
            "\t \t \t  test rmse: 8.7556\n",
            "Epoch [79/150] -  Loss: 0.3994 - Rmse: 4.4186\n",
            "\t \t \t  test rmse: 8.8196\n",
            "Epoch [80/150] -  Loss: 0.6011 - Rmse: 4.3110\n",
            "\t \t \t  test rmse: 8.6896\n",
            "Epoch [81/150] -  Loss: 0.4184 - Rmse: 4.6400\n",
            "\t \t \t  test rmse: 9.0101\n",
            "Epoch [82/150] -  Loss: 0.5974 - Rmse: 4.4367\n",
            "\t \t \t  test rmse: 8.7176\n",
            "Epoch [83/150] -  Loss: 0.3670 - Rmse: 4.6810\n",
            "\t \t \t  test rmse: 8.9167\n",
            "Epoch [84/150] -  Loss: 0.3412 - Rmse: 4.6454\n",
            "\t \t \t  test rmse: 8.8572\n",
            "Epoch [85/150] -  Loss: 0.3141 - Rmse: 4.4557\n",
            "\t \t \t  test rmse: 8.8357\n",
            "Epoch [86/150] -  Loss: 0.3834 - Rmse: 4.4493\n",
            "\t \t \t  test rmse: 8.9692\n",
            "Epoch [87/150] -  Loss: 0.4334 - Rmse: 4.8480\n",
            "\t \t \t  test rmse: 9.0311\n",
            "Epoch [88/150] -  Loss: 0.4787 - Rmse: 4.4332\n",
            "\t \t \t  test rmse: 8.6552\n",
            "Epoch [89/150] -  Loss: 0.6485 - Rmse: 4.5711\n",
            "\t \t \t  test rmse: 8.9842\n",
            "Epoch [90/150] -  Loss: 0.3408 - Rmse: 4.7702\n",
            "\t \t \t  test rmse: 8.9239\n",
            "Epoch [91/150] -  Loss: 0.4884 - Rmse: 4.4662\n",
            "\t \t \t  test rmse: 8.8206\n",
            "Epoch [92/150] -  Loss: 0.3924 - Rmse: 4.3802\n",
            "\t \t \t  test rmse: 8.8943\n",
            "Epoch [93/150] -  Loss: 0.6656 - Rmse: 4.9275\n",
            "\t \t \t  test rmse: 8.8852\n",
            "Epoch [94/150] -  Loss: 0.4770 - Rmse: 4.4079\n",
            "\t \t \t  test rmse: 8.8698\n",
            "Epoch [95/150] -  Loss: 0.5890 - Rmse: 4.5217\n",
            "\t \t \t  test rmse: 8.8328\n",
            "Epoch [96/150] -  Loss: 0.2910 - Rmse: 4.4926\n",
            "\t \t \t  test rmse: 8.9076\n",
            "Epoch [97/150] -  Loss: 0.5485 - Rmse: 4.5877\n",
            "\t \t \t  test rmse: 8.9675\n",
            "Epoch [98/150] -  Loss: 0.6955 - Rmse: 4.7591\n",
            "\t \t \t  test rmse: 8.8286\n",
            "Epoch [99/150] -  Loss: 0.3572 - Rmse: 4.3161\n",
            "\t \t \t  test rmse: 8.8479\n",
            "Epoch [100/150] -  Loss: 0.3303 - Rmse: 4.1223\n",
            "\t \t \t  test rmse: 8.7187\n",
            "Epoch [101/150] -  Loss: 0.6476 - Rmse: 4.5716\n",
            "\t \t \t  test rmse: 8.8265\n",
            "Epoch [102/150] -  Loss: 0.4779 - Rmse: 4.4819\n",
            "\t \t \t  test rmse: 8.8284\n",
            "Epoch [103/150] -  Loss: 0.2725 - Rmse: 4.8558\n",
            "\t \t \t  test rmse: 9.1827\n",
            "Epoch [104/150] -  Loss: 0.7798 - Rmse: 4.9727\n",
            "\t \t \t  test rmse: 9.1950\n",
            "Epoch [105/150] -  Loss: 0.2763 - Rmse: 4.2646\n",
            "\t \t \t  test rmse: 8.9477\n",
            "Epoch [106/150] -  Loss: 0.5475 - Rmse: 4.5278\n",
            "\t \t \t  test rmse: 9.1007\n",
            "Epoch [107/150] -  Loss: 0.4787 - Rmse: 4.4164\n",
            "\t \t \t  test rmse: 8.9122\n",
            "Epoch [108/150] -  Loss: 0.5296 - Rmse: 4.3603\n",
            "\t \t \t  test rmse: 8.8529\n",
            "Epoch [109/150] -  Loss: 0.4737 - Rmse: 4.6655\n",
            "\t \t \t  test rmse: 9.0191\n",
            "Epoch [110/150] -  Loss: 0.3686 - Rmse: 4.1575\n",
            "\t \t \t  test rmse: 8.8447\n",
            "Epoch [111/150] -  Loss: 0.4253 - Rmse: 4.9527\n",
            "\t \t \t  test rmse: 9.1826\n",
            "Epoch [112/150] -  Loss: 0.5662 - Rmse: 4.1411\n",
            "\t \t \t  test rmse: 8.8597\n",
            "Epoch [113/150] -  Loss: 0.4875 - Rmse: 4.5405\n",
            "\t \t \t  test rmse: 9.0259\n",
            "Epoch [114/150] -  Loss: 0.2701 - Rmse: 4.6749\n",
            "\t \t \t  test rmse: 9.0257\n",
            "Epoch [115/150] -  Loss: 0.4801 - Rmse: 4.4407\n",
            "\t \t \t  test rmse: 9.2935\n",
            "Epoch [116/150] -  Loss: 0.3830 - Rmse: 4.5521\n",
            "\t \t \t  test rmse: 9.1150\n",
            "Epoch [117/150] -  Loss: 0.5261 - Rmse: 4.4135\n",
            "\t \t \t  test rmse: 9.1346\n",
            "Epoch [118/150] -  Loss: 0.4903 - Rmse: 4.0660\n",
            "\t \t \t  test rmse: 8.9511\n",
            "Epoch [119/150] -  Loss: 0.2666 - Rmse: 4.5869\n",
            "\t \t \t  test rmse: 8.9014\n",
            "Epoch [120/150] -  Loss: 0.3974 - Rmse: 4.3008\n",
            "\t \t \t  test rmse: 9.0247\n",
            "Epoch [121/150] -  Loss: 0.9527 - Rmse: 4.6285\n",
            "\t \t \t  test rmse: 9.0688\n",
            "Epoch [122/150] -  Loss: 0.2121 - Rmse: 4.3806\n",
            "\t \t \t  test rmse: 8.7203\n",
            "Epoch [123/150] -  Loss: 0.2203 - Rmse: 4.5465\n",
            "\t \t \t  test rmse: 8.9120\n",
            "Epoch [124/150] -  Loss: 0.4302 - Rmse: 5.7361\n",
            "\t \t \t  test rmse: 9.5813\n",
            "Epoch [125/150] -  Loss: 0.2872 - Rmse: 4.2633\n",
            "\t \t \t  test rmse: 8.9171\n",
            "Epoch [126/150] -  Loss: 0.6298 - Rmse: 4.3344\n",
            "\t \t \t  test rmse: 8.9726\n",
            "Epoch [127/150] -  Loss: 0.6813 - Rmse: 4.1859\n",
            "\t \t \t  test rmse: 8.7452\n",
            "Epoch [128/150] -  Loss: 0.5412 - Rmse: 4.3546\n",
            "\t \t \t  test rmse: 8.8166\n",
            "Epoch [129/150] -  Loss: 0.4378 - Rmse: 4.6275\n",
            "\t \t \t  test rmse: 9.0993\n",
            "Epoch [130/150] -  Loss: 0.5517 - Rmse: 4.2999\n",
            "\t \t \t  test rmse: 9.0892\n",
            "Epoch [131/150] -  Loss: 0.4218 - Rmse: 4.7588\n",
            "\t \t \t  test rmse: 9.0673\n",
            "Epoch [132/150] -  Loss: 0.4743 - Rmse: 4.4341\n",
            "\t \t \t  test rmse: 9.2824\n",
            "Epoch [133/150] -  Loss: 0.5049 - Rmse: 4.1803\n",
            "\t \t \t  test rmse: 8.8008\n",
            "Epoch [134/150] -  Loss: 0.5968 - Rmse: 4.3657\n",
            "\t \t \t  test rmse: 8.9343\n",
            "Epoch [135/150] -  Loss: 0.6987 - Rmse: 4.4663\n",
            "\t \t \t  test rmse: 8.9343\n",
            "Epoch [136/150] -  Loss: 0.4827 - Rmse: 3.9760\n",
            "\t \t \t  test rmse: 8.9275\n",
            "Epoch [137/150] -  Loss: 0.4260 - Rmse: 4.4235\n",
            "\t \t \t  test rmse: 9.0341\n",
            "Epoch [138/150] -  Loss: 0.3914 - Rmse: 4.1956\n",
            "\t \t \t  test rmse: 9.1859\n",
            "Epoch [139/150] -  Loss: 0.8542 - Rmse: 4.3236\n",
            "\t \t \t  test rmse: 9.0017\n",
            "Epoch [140/150] -  Loss: 0.3367 - Rmse: 4.3824\n",
            "\t \t \t  test rmse: 8.8894\n",
            "Epoch [141/150] -  Loss: 0.4320 - Rmse: 4.6293\n",
            "\t \t \t  test rmse: 9.2189\n",
            "Epoch [142/150] -  Loss: 0.4658 - Rmse: 4.2582\n",
            "\t \t \t  test rmse: 8.9731\n",
            "Epoch [143/150] -  Loss: 0.4693 - Rmse: 4.2449\n",
            "\t \t \t  test rmse: 9.0641\n",
            "Epoch [144/150] -  Loss: 0.4342 - Rmse: 4.3993\n",
            "\t \t \t  test rmse: 9.2279\n",
            "Epoch [145/150] -  Loss: 0.4478 - Rmse: 4.3692\n",
            "\t \t \t  test rmse: 9.0980\n",
            "Epoch [146/150] -  Loss: 0.3846 - Rmse: 4.3327\n",
            "\t \t \t  test rmse: 9.0240\n",
            "Epoch [147/150] -  Loss: 0.2625 - Rmse: 4.2740\n",
            "\t \t \t  test rmse: 8.9483\n",
            "Epoch [148/150] -  Loss: 0.3844 - Rmse: 4.1590\n",
            "\t \t \t  test rmse: 9.0533\n",
            "Epoch [149/150] -  Loss: 0.1789 - Rmse: 4.1524\n",
            "\t \t \t  test rmse: 9.0152\n",
            "Epoch [150/150] -  Loss: 0.3339 - Rmse: 4.4081\n",
            "\t \t \t  test rmse: 8.9224\n"
          ]
        }
      ],
      "source": [
        "model = nn.Sequential(\n",
        "    nn.Linear(in_features, 128),\n",
        "    nn.BatchNorm1d(128),\n",
        "    nn.ReLU(),\n",
        "    nn.Dropout(p=0.2),\n",
        "    nn.Linear(128, 128),\n",
        "    nn.BatchNorm1d(128),\n",
        "    nn.ReLU(),\n",
        "    nn.Dropout(p=0.2),\n",
        "    nn.Linear(128, 256),\n",
        "    nn.BatchNorm1d(256),\n",
        "    nn.ReLU(),\n",
        "    nn.Dropout(p=0.3),\n",
        "    nn.Linear(256, 128),\n",
        "    nn.BatchNorm1d(128),\n",
        "    nn.ReLU(),\n",
        "    nn.Dropout(p=0.4),\n",
        "    nn.Linear(128, out_features),  # Utiliser une seule sortie pour la prédiction continue\n",
        ")\n",
        "model.to(device=device)\n",
        "optimizer = optim.SGD(model.parameters(), lr=8e-2, momentum=0.90, nesterov = True)\n",
        "criterion = nn.CrossEntropyLoss()\n",
        "\n",
        "num_epochs = 150\n",
        "\n",
        "losses, rmses, rmses_test = train_module(model, optimizer, x_train, y_train, check_rmse ,num_epochs, 128, True, x_test, y_test)"
      ]
    },
    {
      "cell_type": "code",
      "execution_count": 10,
      "metadata": {
        "colab": {
          "base_uri": "https://localhost:8080/",
          "height": 467
        },
        "id": "VGIKeDf1yHPN",
        "outputId": "2cadf149-a94c-4180-dc9b-0aee187306f7"
      },
      "outputs": [
        {
          "data": {
            "text/plain": [
              "<matplotlib.legend.Legend at 0x151ad0910>"
            ]
          },
          "execution_count": 10,
          "metadata": {},
          "output_type": "execute_result"
        },
        {
          "data": {
            "image/png": "[encoded data removed]",
            "text/plain": [
              "<Figure size 640x480 with 1 Axes>"
            ]
          },
          "metadata": {},
          "output_type": "display_data"
        }
      ],
      "source": [
        "plt.plot(losses, color=\"orange\")\n",
        "plt.plot(rmses, color=\"blue\")\n",
        "plt.plot(rmses_test, color=\"red\")\n",
        "plt.legend([\"loss\", \"rmse_train\", \"rmses_test\"])"
      ]
    },
    {
      "cell_type": "code",
      "execution_count": 11,
      "metadata": {
        "colab": {
          "base_uri": "https://localhost:8080/"
        },
        "id": "WxAg_HKQ0his",
        "outputId": "1a430804-a2bf-4a78-df34-f0d713cfba98"
      },
      "outputs": [
        {
          "name": "stdout",
          "output_type": "stream",
          "text": [
            "0.880867157425542\n",
            "0.5086439762290653\n"
          ]
        }
      ],
      "source": [
        "train_dataset = TensorDataset(x_train, y_train)\n",
        "train_loader = DataLoader(train_dataset, batch_size=128, shuffle=True)\n",
        "\n",
        "test_dataset = TensorDataset(x_test, y_test)\n",
        "test_loader = DataLoader(test_dataset, batch_size=128, shuffle=True)\n",
        "\n",
        "print(check_accuracy(train_loader, model))\n",
        "print(check_accuracy(test_loader, model))"
      ]
    },
    {
      "cell_type": "markdown",
      "metadata": {
        "id": "b-s0zJ7cuLQc"
      },
      "source": [
        "accuracy vs lr"
      ]
    },
    {
      "cell_type": "code",
      "execution_count": 105,
      "metadata": {
        "colab": {
          "base_uri": "https://localhost:8080/",
          "height": 452
        },
        "id": "jC6saSR-uPDI",
        "outputId": "605d69b6-09f1-457b-f1f4-681ac5cad027"
      },
      "outputs": [
        {
          "name": "stderr",
          "output_type": "stream",
          "text": [
            "/usr/local/lib/python3.10/dist-packages/torch/nn/modules/loss.py:535: UserWarning: Using a target size (torch.Size([128])) that is different to the input size (torch.Size([128, 1])). This will likely lead to incorrect results due to broadcasting. Please ensure they have the same size.\n",
            "  return F.mse_loss(input, target, reduction=self.reduction)\n"
          ]
        },
        {
          "ename": "RuntimeError",
          "evalue": "Found dtype Long but expected Float",
          "output_type": "error",
          "traceback": [
            "\u001b[0;31m---------------------------------------------------------------------------\u001b[0m",
            "\u001b[0;31mRuntimeError\u001b[0m                              Traceback (most recent call last)",
            "\u001b[0;32m<ipython-input-105-315bbc9b711f>\u001b[0m in \u001b[0;36m<cell line: 9>\u001b[0;34m()\u001b[0m\n\u001b[1;32m     25\u001b[0m   \u001b[0moptimizer\u001b[0m \u001b[0;34m=\u001b[0m \u001b[0moptim\u001b[0m\u001b[0;34m.\u001b[0m\u001b[0mSGD\u001b[0m\u001b[0;34m(\u001b[0m\u001b[0mmodel\u001b[0m\u001b[0;34m.\u001b[0m\u001b[0mparameters\u001b[0m\u001b[0;34m(\u001b[0m\u001b[0;34m)\u001b[0m\u001b[0;34m,\u001b[0m \u001b[0mmomentum\u001b[0m\u001b[0;34m=\u001b[0m\u001b[0;36m0.8\u001b[0m\u001b[0;34m,\u001b[0m \u001b[0mlr\u001b[0m\u001b[0;34m=\u001b[0m\u001b[0mlr\u001b[0m\u001b[0;34m,\u001b[0m \u001b[0mnesterov\u001b[0m\u001b[0;34m=\u001b[0m\u001b[0;32mTrue\u001b[0m\u001b[0;34m)\u001b[0m\u001b[0;34m\u001b[0m\u001b[0;34m\u001b[0m\u001b[0m\n\u001b[1;32m     26\u001b[0m   \u001b[0mcriterion\u001b[0m \u001b[0;34m=\u001b[0m \u001b[0mnn\u001b[0m\u001b[0;34m.\u001b[0m\u001b[0mMSELoss\u001b[0m\u001b[0;34m(\u001b[0m\u001b[0;34m)\u001b[0m\u001b[0;34m\u001b[0m\u001b[0;34m\u001b[0m\u001b[0m\n\u001b[0;32m---> 27\u001b[0;31m   \u001b[0mtrain_module\u001b[0m\u001b[0;34m(\u001b[0m\u001b[0mmodel\u001b[0m\u001b[0;34m,\u001b[0m \u001b[0moptimizer\u001b[0m\u001b[0;34m,\u001b[0m \u001b[0mtrain_loader\u001b[0m\u001b[0;34m,\u001b[0m \u001b[0mepochs\u001b[0m\u001b[0;34m=\u001b[0m\u001b[0;36m5\u001b[0m\u001b[0;34m)\u001b[0m\u001b[0;34m\u001b[0m\u001b[0;34m\u001b[0m\u001b[0m\n\u001b[0m\u001b[1;32m     28\u001b[0m \u001b[0;34m\u001b[0m\u001b[0m\n\u001b[1;32m     29\u001b[0m   \u001b[0mrmse\u001b[0m \u001b[0;34m=\u001b[0m \u001b[0mcheck_rmse\u001b[0m\u001b[0;34m(\u001b[0m\u001b[0mx_test\u001b[0m\u001b[0;34m,\u001b[0m \u001b[0my_test\u001b[0m\u001b[0;34m,\u001b[0m \u001b[0mmodel\u001b[0m\u001b[0;34m)\u001b[0m\u001b[0;34m\u001b[0m\u001b[0;34m\u001b[0m\u001b[0m\n",
            "\u001b[0;32m<ipython-input-61-80c44046f6c2>\u001b[0m in \u001b[0;36mtrain_module\u001b[0;34m(model, optimizer, loader_train, epochs, verbose)\u001b[0m\n\u001b[1;32m     12\u001b[0m \u001b[0;34m\u001b[0m\u001b[0m\n\u001b[1;32m     13\u001b[0m             \u001b[0moptimizer\u001b[0m\u001b[0;34m.\u001b[0m\u001b[0mzero_grad\u001b[0m\u001b[0;34m(\u001b[0m\u001b[0;34m)\u001b[0m\u001b[0;34m\u001b[0m\u001b[0;34m\u001b[0m\u001b[0m\n\u001b[0;32m---> 14\u001b[0;31m             \u001b[0mloss\u001b[0m\u001b[0;34m.\u001b[0m\u001b[0mbackward\u001b[0m\u001b[0;34m(\u001b[0m\u001b[0;34m)\u001b[0m\u001b[0;34m\u001b[0m\u001b[0;34m\u001b[0m\u001b[0m\n\u001b[0m\u001b[1;32m     15\u001b[0m \u001b[0;34m\u001b[0m\u001b[0m\n\u001b[1;32m     16\u001b[0m             \u001b[0moptimizer\u001b[0m\u001b[0;34m.\u001b[0m\u001b[0mstep\u001b[0m\u001b[0;34m(\u001b[0m\u001b[0;34m)\u001b[0m\u001b[0;34m\u001b[0m\u001b[0;34m\u001b[0m\u001b[0m\n",
            "\u001b[0;32m/usr/local/lib/python3.10/dist-packages/torch/_tensor.py\u001b[0m in \u001b[0;36mbackward\u001b[0;34m(self, gradient, retain_graph, create_graph, inputs)\u001b[0m\n\u001b[1;32m    490\u001b[0m                 \u001b[0minputs\u001b[0m\u001b[0;34m=\u001b[0m\u001b[0minputs\u001b[0m\u001b[0;34m,\u001b[0m\u001b[0;34m\u001b[0m\u001b[0;34m\u001b[0m\u001b[0m\n\u001b[1;32m    491\u001b[0m             )\n\u001b[0;32m--> 492\u001b[0;31m         torch.autograd.backward(\n\u001b[0m\u001b[1;32m    493\u001b[0m             \u001b[0mself\u001b[0m\u001b[0;34m,\u001b[0m \u001b[0mgradient\u001b[0m\u001b[0;34m,\u001b[0m \u001b[0mretain_graph\u001b[0m\u001b[0;34m,\u001b[0m \u001b[0mcreate_graph\u001b[0m\u001b[0;34m,\u001b[0m \u001b[0minputs\u001b[0m\u001b[0;34m=\u001b[0m\u001b[0minputs\u001b[0m\u001b[0;34m\u001b[0m\u001b[0;34m\u001b[0m\u001b[0m\n\u001b[1;32m    494\u001b[0m         )\n",
            "\u001b[0;32m/usr/local/lib/python3.10/dist-packages/torch/autograd/__init__.py\u001b[0m in \u001b[0;36mbackward\u001b[0;34m(tensors, grad_tensors, retain_graph, create_graph, grad_variables, inputs)\u001b[0m\n\u001b[1;32m    249\u001b[0m     \u001b[0;31m# some Python versions print out the first line of a multi-line function\u001b[0m\u001b[0;34m\u001b[0m\u001b[0;34m\u001b[0m\u001b[0m\n\u001b[1;32m    250\u001b[0m     \u001b[0;31m# calls in the traceback and some print out the last line\u001b[0m\u001b[0;34m\u001b[0m\u001b[0;34m\u001b[0m\u001b[0m\n\u001b[0;32m--> 251\u001b[0;31m     Variable._execution_engine.run_backward(  # Calls into the C++ engine to run the backward pass\n\u001b[0m\u001b[1;32m    252\u001b[0m         \u001b[0mtensors\u001b[0m\u001b[0;34m,\u001b[0m\u001b[0;34m\u001b[0m\u001b[0;34m\u001b[0m\u001b[0m\n\u001b[1;32m    253\u001b[0m         \u001b[0mgrad_tensors_\u001b[0m\u001b[0;34m,\u001b[0m\u001b[0;34m\u001b[0m\u001b[0;34m\u001b[0m\u001b[0m\n",
            "\u001b[0;31mRuntimeError\u001b[0m: Found dtype Long but expected Float"
          ]
        }
      ],
      "source": [
        "test_dataset = TensorDataset(x_test, y_test)\n",
        "test_loader = DataLoader(test_dataset, batch_size=128, shuffle=True)\n",
        "train_dataset = TensorDataset(x_train, y_train)\n",
        "train_loader = DataLoader(train_dataset, batch_size=128, shuffle=True)\n",
        "\n",
        "lrs = [1e-5, 1e-4, 1e-3, 5e-3, 1e-2, 3e-2, 5e-2, 8e-2, 1e-1, 5e-1]\n",
        "rmses = []\n",
        "\n",
        "for lr in lrs:\n",
        "  model = nn.Sequential(\n",
        "    nn.Linear(in_features, 512),\n",
        "    Swish(),\n",
        "    nn.BatchNorm1d(512),\n",
        "    nn.Linear(512, 512),\n",
        "    Swish(),\n",
        "    nn.BatchNorm1d(512),\n",
        "    nn.Dropout(p=0.3),\n",
        "    nn.Linear(512, 512),\n",
        "    Swish(),\n",
        "    nn.BatchNorm1d(512),\n",
        "    nn.Dropout(p=0.5),\n",
        "    nn.Linear(512, out_features),\n",
        "  )\n",
        "  optimizer = optim.SGD(model.parameters(), momentum=0.8, lr=lr, nesterov=True)\n",
        "  criterion = nn.CrossEntropyLoss()\n",
        "  train_module(model, optimizer, train_loader, epochs=5)\n",
        "\n",
        "  rmse = check_rmse(x_test, y_test, model)\n",
        "  print(f\"lr {lr} / rmse {rmse}\")\n",
        "  rmses.append(rmse)\n",
        "\n",
        "fig, ax = plt.subplots(figsize=(11, 6))\n",
        "ax.plot(lrs, rmses, label='lr')\n",
        "ax.set_xscale('log')\n",
        "ax.legend()\n",
        "ax.set_title(\"rmses with learning-rate\")\n",
        "fig.show()"
      ]
    },
    {
      "cell_type": "code",
      "execution_count": 102,
      "metadata": {
        "colab": {
          "base_uri": "https://localhost:8080/",
          "height": 1000
        },
        "id": "qOVmb5Av0O2e",
        "outputId": "33e22654-4aed-45ae-8b68-9e7be345fce3"
      },
      "outputs": [
        {
          "name": "stdout",
          "output_type": "stream",
          "text": [
            "Epoch [1/5], Loss: 1.9672\n",
            "Epoch [2/5], Loss: 1.9563\n",
            "Epoch [3/5], Loss: 1.8529\n",
            "Epoch [4/5], Loss: 1.7541\n",
            "Epoch [5/5], Loss: 1.9004\n",
            "momentum 0.01 / rmse 116.88276672363281\n",
            "Epoch [1/5], Loss: 2.4858\n",
            "Epoch [2/5], Loss: 2.4273\n",
            "Epoch [3/5], Loss: 2.1287\n",
            "Epoch [4/5], Loss: 2.2421\n",
            "Epoch [5/5], Loss: 2.1500\n",
            "momentum 0.3 / rmse 111.06159210205078\n",
            "Epoch [1/5], Loss: 2.4159\n",
            "Epoch [2/5], Loss: 2.4108\n",
            "Epoch [3/5], Loss: 2.4594\n",
            "Epoch [4/5], Loss: 1.5538\n",
            "Epoch [5/5], Loss: 1.6829\n",
            "momentum 0.5 / rmse 110.13641357421875\n",
            "Epoch [1/5], Loss: 2.1804\n",
            "Epoch [2/5], Loss: 1.9496\n",
            "Epoch [3/5], Loss: 2.0942\n",
            "Epoch [4/5], Loss: 2.3254\n",
            "Epoch [5/5], Loss: 2.2044\n",
            "momentum 0.7 / rmse 108.54943084716797\n",
            "Epoch [1/5], Loss: 1.9674\n",
            "Epoch [2/5], Loss: 2.4256\n",
            "Epoch [3/5], Loss: 1.7414\n",
            "Epoch [4/5], Loss: 1.9091\n",
            "Epoch [5/5], Loss: 1.8990\n",
            "momentum 0.8 / rmse 107.7525634765625\n",
            "Epoch [1/5], Loss: 1.8548\n",
            "Epoch [2/5], Loss: 2.3832\n",
            "Epoch [3/5], Loss: 1.7750\n",
            "Epoch [4/5], Loss: 2.0703\n",
            "Epoch [5/5], Loss: 1.6971\n",
            "momentum 0.85 / rmse 104.12614440917969\n",
            "Epoch [1/5], Loss: 2.3820\n",
            "Epoch [2/5], Loss: 2.0963\n",
            "Epoch [3/5], Loss: 2.0458\n",
            "Epoch [4/5], Loss: 1.9041\n",
            "Epoch [5/5], Loss: 1.8482\n",
            "momentum 0.9 / rmse 100.61453247070312\n",
            "Epoch [1/5], Loss: 2.5518\n",
            "Epoch [2/5], Loss: 2.2124\n",
            "Epoch [3/5], Loss: 1.9482\n",
            "Epoch [4/5], Loss: 2.0579\n",
            "Epoch [5/5], Loss: 1.5712\n",
            "momentum 0.95 / rmse 94.4286880493164\n"
          ]
        },
        {
          "data": {
            "image/png": "[encoded data removed]",
            "text/plain": [
              "<Figure size 1100x600 with 1 Axes>"
            ]
          },
          "metadata": {},
          "output_type": "display_data"
        }
      ],
      "source": [
        "test_dataset = TensorDataset(x_test, y_test)\n",
        "test_loader = DataLoader(test_dataset, batch_size=128, shuffle=True)\n",
        "train_dataset = TensorDataset(x_train, y_train)\n",
        "train_loader = DataLoader(train_dataset, batch_size=128, shuffle=True)\n",
        "\n",
        "momentums = [.01, 0.3, 0.5, 0.7, 0.8, 0.85, 0.90, 0.95]\n",
        "rmses = []\n",
        "\n",
        "for momentum in momentums:\n",
        "  model = nn.Sequential(\n",
        "    nn.Linear(in_features, 512),\n",
        "    Swish(),\n",
        "    nn.BatchNorm1d(512),\n",
        "    nn.Linear(512, 512),\n",
        "    Swish(),\n",
        "    nn.BatchNorm1d(512),\n",
        "    nn.Dropout(p=0.3),\n",
        "    nn.Linear(512, 512),\n",
        "    Swish(),\n",
        "    nn.BatchNorm1d(512),\n",
        "    nn.Dropout(p=0.5),\n",
        "    nn.Linear(512, out_features),\n",
        "  )\n",
        "  optimizer = optim.SGD(model.parameters(), momentum=momentum, lr=5e-2, nesterov=True)\n",
        "  criterion = nn.CrossEntropyLoss()\n",
        "  train_module(model, optimizer, train_loader, epochs=5)\n",
        "\n",
        "  rmse = check_rmse(x_test, y_test, model)\n",
        "  print(f\"momentum {momentum} / rmse {rmse}\")\n",
        "  rmses.append(rmse)\n",
        "\n",
        "fig, ax = plt.subplots(figsize=(11, 6))\n",
        "ax.plot(momentums, rmses, label='momentum')\n",
        "ax.set_xscale('log')\n",
        "ax.legend()\n",
        "ax.set_title(\"rmse with momentum\")\n",
        "fig.show()"
      ]
    },
    {
      "cell_type": "markdown",
      "metadata": {
        "id": "oqIMAmxzU4gI"
      },
      "source": [
        "#VALIDATION"
      ]
    },
    {
      "cell_type": "code",
      "execution_count": 115,
      "metadata": {
        "id": "5dpZuMWHRWf_"
      },
      "outputs": [],
      "source": [
        "x_val = pd.read_csv('processed_waiting_times_val.csv')\n",
        "dates = x_val[\"DATETIME\"]\n",
        "entities = x_val[\"ENTITY_DESCRIPTION_SHORT\"]\n",
        "x_val.drop([\"DATETIME\", \"ENTITY_DESCRIPTION_SHORT\"], axis=1, inplace=True)\n",
        "\n",
        "x_val = x_val.astype(float)\n",
        "x_val = torch.tensor(x_val.values, dtype=torch.float64, device=device)\n",
        "x_val = x_val.to(device=device, dtype=torch.float)"
      ]
    },
    {
      "cell_type": "code",
      "execution_count": 124,
      "metadata": {
        "id": "D0U7TXbYSglJ"
      },
      "outputs": [],
      "source": [
        "y_hat = torch.argmax(model(x_val), dim=1)\n",
        "\n",
        "clean_y_hat = np.array((y_hat).cpu())*5\n",
        "\n",
        "res_df = pd.DataFrame(list(zip(clean_y_hat, entities, dates, [\"Validation\" for _ in range(len(dates))])), columns=[\"y_pred\", \"ENTITY_DESCRIPTION_SHORT\", \"DATETIME\", \"KEY\"])\n",
        "res_df.to_csv('/content/gdrive/MyDrive/HACKATHON/res.csv', index=False)"
      ]
    },
    {
      "cell_type": "markdown",
      "metadata": {
        "id": "PijZuy03vhk2"
      },
      "source": [
        "autre idée"
      ]
    },
    {
      "cell_type": "code",
      "execution_count": null,
      "metadata": {
        "id": "bz23PLOuvi89"
      },
      "outputs": [],
      "source": [
        "test_dataset = TensorDataset(x_test, y_test)\n",
        "test_loader = DataLoader(test_dataset, batch_size=128, shuffle=True)\n",
        "\n",
        "out_features = 1  # Une seule sortie pour le temps d'attente continu\n",
        "model = nn.Sequential(\n",
        "    nn.Linear(in_features, 128),\n",
        "    nn.ReLU(),\n",
        "    nn.Linear(128, 128),\n",
        "    nn.ReLU(),\n",
        "    nn.Linear(128, 256),\n",
        "    nn.ReLU(),\n",
        "    nn.Linear(256, 256),\n",
        "    nn.ReLU(),\n",
        "    nn.Linear(256, 128),\n",
        "    nn.ReLU(),\n",
        "    nn.Linear(128, 32),\n",
        "    nn.ReLU(),\n",
        "    nn.Linear(32, out_features),  # Utiliser une seule sortie pour la prédiction continue\n",
        ")\n",
        "model.to(device=device)\n",
        "optimizer = optim.SGD(model.parameters(), lr=1e-3)\n",
        "criterion = nn.MSELoss()\n",
        "\n",
        "num_epochs = 10\n",
        "\n",
        "y_train = y_train.float()\n",
        "y_test = y_test.float()\n",
        "\n",
        "\n",
        "_ = train_module(model, optimizer, x_train, y_train, check_rmse_numeric ,num_epochs, True, x_test, y_test)\n",
        "\n",
        "print(check_rmse_numeric(x_test, y_test, model))"
      ]
    }
  ],
  "metadata": {
    "accelerator": "GPU",
    "colab": {
      "gpuType": "T4",
      "provenance": []
    },
    "kernelspec": {
      "display_name": "Python 3",
      "name": "python3"
    },
    "language_info": {
      "codemirror_mode": {
        "name": "ipython",
        "version": 3
      },
      "file_extension": ".py",
      "mimetype": "text/x-python",
      "name": "python",
      "nbconvert_exporter": "python",
      "pygments_lexer": "ipython3",
      "version": "3.11.7"
    }
  },
  "nbformat": 4,
  "nbformat_minor": 0
}
